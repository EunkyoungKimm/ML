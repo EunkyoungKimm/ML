{
 "cells": [
  {
   "cell_type": "markdown",
   "id": "afc8d137-d0e1-4011-a966-0dba86c72eec",
   "metadata": {},
   "source": [
    "# Supervised Learning (지도학습)"
   ]
  },
  {
   "cell_type": "markdown",
   "id": "5212d50c-3b8b-4e8d-882a-1427311839ec",
   "metadata": {},
   "source": [
    "## Regression"
   ]
  },
  {
   "cell_type": "markdown",
   "id": "69e6f623-a0b4-4bb0-94aa-c6134aba6c56",
   "metadata": {},
   "source": [
    "- 이런 수식(Y = X + 100)을 가지고 regression을 한거임\n",
    "- target variable(Y) / input variable(X)\n",
    "- 최적의 선을 찾아야 함! >> 어떻게? 오차를 줄여나가자!\n",
    "- 어떨때 오차 측정 방법.. 뭘 쓰는게 좋을까? MSE와 MAE 차이.. MSE가 더 큰 오차를 더 민감하게 받아들임!(더 민감하게 반응, sensitive하게 반응한다) 이런걸 생각하면 접근하고 활용하는게 중요!(식.. 일단 그냥 오차함수는 '2차함수'다. 여기까지 기억하기!)\n",
    "\n",
    "Gradient Descent\n",
    "- 오차가 최소인 곳 > 기울기가 0인 꼭지점!!\n",
    "- 오차가 적어지는 방향으로 간다고 했는데 그 방향을 '기울기가 작아지는 방향'이라과 생각하면 됨! >> `기울기가 작아지는 방향으로 오차를 줄여나가는게 gradient descent!`\n",
    "- `learning rate` : 기울기를 갈건데 그 다음 step으로 얼마나 갈거냐(step, 보폭이라고 생각하면 됨! 오차를 줄여나가는 보폭!) >> lr이 클수록(step이 크니까) 더 빠르게 내려갈 수 있지만, 우리가 원하는 minimum한 값을 못 찾을수도 있고 튀어버릴수도 있다(발산? 이라 하나? 용어 물어보기!) / 너무 작으면 너무 오래걸림 >> `0.01`로 많이 함!!!!\n",
    "- Y = aX + b (a=기울기, b=y절편, X=input variable, Y=target variable)\n",
    "- iterations = 몇번이나 돌릴거냐.. \n",
    "- cost_list : x축이 iterations / y축이 오차\n",
    "- 오차함수(코드 한두줄이 다해줌.!!! 라이브러리.. 잘 써라!)"
   ]
  },
  {
   "cell_type": "code",
   "execution_count": null,
   "id": "176de958-dac3-41d9-b441-02ad12d23cbd",
   "metadata": {},
   "outputs": [],
   "source": [
    "# 머신러닝 한다 = 사이킷런한다!(이 라이브러리 기억하기!)"
   ]
  },
  {
   "cell_type": "code",
   "execution_count": 2,
   "id": "c6a624e5-866f-4036-9c16-a94e32930fc9",
   "metadata": {
    "tags": []
   },
   "outputs": [
    {
     "name": "stdout",
     "output_type": "stream",
     "text": [
      "Collecting scikit-learn\n",
      "  Downloading scikit_learn-1.2.1-cp39-cp39-win_amd64.whl (8.4 MB)\n",
      "     ---------------------------------------- 0.0/8.4 MB ? eta -:--:--\n",
      "     ------------------- -------------------- 4.0/8.4 MB 85.6 MB/s eta 0:00:01\n",
      "     ---------------------------------------  8.4/8.4 MB 105.6 MB/s eta 0:00:01\n",
      "     ---------------------------------------- 8.4/8.4 MB 88.8 MB/s eta 0:00:00\n",
      "Collecting joblib>=1.1.1\n",
      "  Downloading joblib-1.2.0-py3-none-any.whl (297 kB)\n",
      "     ---------------------------------------- 0.0/298.0 kB ? eta -:--:--\n",
      "     ---------------------------------------- 298.0/298.0 kB ? eta 0:00:00\n",
      "Collecting threadpoolctl>=2.0.0\n",
      "  Downloading threadpoolctl-3.1.0-py3-none-any.whl (14 kB)\n",
      "Requirement already satisfied: numpy>=1.17.3 in c:\\users\\sbauser\\.venv\\second_day\\lib\\site-packages (from scikit-learn) (1.24.2)\n",
      "Requirement already satisfied: scipy>=1.3.2 in c:\\users\\sbauser\\.venv\\second_day\\lib\\site-packages (from scikit-learn) (1.10.0)\n",
      "Installing collected packages: threadpoolctl, joblib, scikit-learn\n",
      "Successfully installed joblib-1.2.0 scikit-learn-1.2.1 threadpoolctl-3.1.0\n"
     ]
    }
   ],
   "source": [
    "!pip install scikit-learn"
   ]
  },
  {
   "cell_type": "code",
   "execution_count": 3,
   "id": "7f3fc455-143c-4dd0-a285-b33e6831c179",
   "metadata": {
    "collapsed": true,
    "jupyter": {
     "outputs_hidden": true
    },
    "tags": []
   },
   "outputs": [
    {
     "ename": "ImportError",
     "evalue": "\n`load_boston` has been removed from scikit-learn since version 1.2.\n\nThe Boston housing prices dataset has an ethical problem: as\ninvestigated in [1], the authors of this dataset engineered a\nnon-invertible variable \"B\" assuming that racial self-segregation had a\npositive impact on house prices [2]. Furthermore the goal of the\nresearch that led to the creation of this dataset was to study the\nimpact of air quality but it did not give adequate demonstration of the\nvalidity of this assumption.\n\nThe scikit-learn maintainers therefore strongly discourage the use of\nthis dataset unless the purpose of the code is to study and educate\nabout ethical issues in data science and machine learning.\n\nIn this special case, you can fetch the dataset from the original\nsource::\n\n    import pandas as pd\n    import numpy as np\n\n    data_url = \"http://lib.stat.cmu.edu/datasets/boston\"\n    raw_df = pd.read_csv(data_url, sep=\"\\s+\", skiprows=22, header=None)\n    data = np.hstack([raw_df.values[::2, :], raw_df.values[1::2, :2]])\n    target = raw_df.values[1::2, 2]\n\nAlternative datasets include the California housing dataset and the\nAmes housing dataset. You can load the datasets as follows::\n\n    from sklearn.datasets import fetch_california_housing\n    housing = fetch_california_housing()\n\nfor the California housing dataset and::\n\n    from sklearn.datasets import fetch_openml\n    housing = fetch_openml(name=\"house_prices\", as_frame=True)\n\nfor the Ames housing dataset.\n\n[1] M Carlisle.\n\"Racist data destruction?\"\n<https://medium.com/@docintangible/racist-data-destruction-113e3eff54a8>\n\n[2] Harrison Jr, David, and Daniel L. Rubinfeld.\n\"Hedonic housing prices and the demand for clean air.\"\nJournal of environmental economics and management 5.1 (1978): 81-102.\n<https://www.researchgate.net/publication/4974606_Hedonic_housing_prices_and_the_demand_for_clean_air>\n",
     "output_type": "error",
     "traceback": [
      "\u001b[1;31m---------------------------------------------------------------------------\u001b[0m",
      "\u001b[1;31mImportError\u001b[0m                               Traceback (most recent call last)",
      "Cell \u001b[1;32mIn[3], line 1\u001b[0m\n\u001b[1;32m----> 1\u001b[0m \u001b[38;5;28;01mfrom\u001b[39;00m \u001b[38;5;21;01msklearn\u001b[39;00m\u001b[38;5;21;01m.\u001b[39;00m\u001b[38;5;21;01mdatasets\u001b[39;00m \u001b[38;5;28;01mimport\u001b[39;00m load_boston\n\u001b[0;32m      2\u001b[0m \u001b[38;5;28;01mimport\u001b[39;00m \u001b[38;5;21;01mpandas\u001b[39;00m \u001b[38;5;28;01mas\u001b[39;00m \u001b[38;5;21;01mpd\u001b[39;00m\n\u001b[0;32m      3\u001b[0m \u001b[38;5;28;01mfrom\u001b[39;00m \u001b[38;5;21;01msklearn\u001b[39;00m\u001b[38;5;21;01m.\u001b[39;00m\u001b[38;5;21;01mmodel_selection\u001b[39;00m \u001b[38;5;28;01mimport\u001b[39;00m train_test_split\n",
      "File \u001b[1;32m~\\.venv\\Second_Day\\lib\\site-packages\\sklearn\\datasets\\__init__.py:156\u001b[0m, in \u001b[0;36m__getattr__\u001b[1;34m(name)\u001b[0m\n\u001b[0;32m    105\u001b[0m \u001b[38;5;28;01mif\u001b[39;00m name \u001b[38;5;241m==\u001b[39m \u001b[38;5;124m\"\u001b[39m\u001b[38;5;124mload_boston\u001b[39m\u001b[38;5;124m\"\u001b[39m:\n\u001b[0;32m    106\u001b[0m     msg \u001b[38;5;241m=\u001b[39m textwrap\u001b[38;5;241m.\u001b[39mdedent(\n\u001b[0;32m    107\u001b[0m \u001b[38;5;250m        \u001b[39m\u001b[38;5;124;03m\"\"\"\u001b[39;00m\n\u001b[0;32m    108\u001b[0m \u001b[38;5;124;03m        `load_boston` has been removed from scikit-learn since version 1.2.\u001b[39;00m\n\u001b[1;32m   (...)\u001b[0m\n\u001b[0;32m    154\u001b[0m \u001b[38;5;124;03m        \"\"\"\u001b[39;00m\n\u001b[0;32m    155\u001b[0m     )\n\u001b[1;32m--> 156\u001b[0m     \u001b[38;5;28;01mraise\u001b[39;00m \u001b[38;5;167;01mImportError\u001b[39;00m(msg)\n\u001b[0;32m    157\u001b[0m \u001b[38;5;28;01mtry\u001b[39;00m:\n\u001b[0;32m    158\u001b[0m     \u001b[38;5;28;01mreturn\u001b[39;00m \u001b[38;5;28mglobals\u001b[39m()[name]\n",
      "\u001b[1;31mImportError\u001b[0m: \n`load_boston` has been removed from scikit-learn since version 1.2.\n\nThe Boston housing prices dataset has an ethical problem: as\ninvestigated in [1], the authors of this dataset engineered a\nnon-invertible variable \"B\" assuming that racial self-segregation had a\npositive impact on house prices [2]. Furthermore the goal of the\nresearch that led to the creation of this dataset was to study the\nimpact of air quality but it did not give adequate demonstration of the\nvalidity of this assumption.\n\nThe scikit-learn maintainers therefore strongly discourage the use of\nthis dataset unless the purpose of the code is to study and educate\nabout ethical issues in data science and machine learning.\n\nIn this special case, you can fetch the dataset from the original\nsource::\n\n    import pandas as pd\n    import numpy as np\n\n    data_url = \"http://lib.stat.cmu.edu/datasets/boston\"\n    raw_df = pd.read_csv(data_url, sep=\"\\s+\", skiprows=22, header=None)\n    data = np.hstack([raw_df.values[::2, :], raw_df.values[1::2, :2]])\n    target = raw_df.values[1::2, 2]\n\nAlternative datasets include the California housing dataset and the\nAmes housing dataset. You can load the datasets as follows::\n\n    from sklearn.datasets import fetch_california_housing\n    housing = fetch_california_housing()\n\nfor the California housing dataset and::\n\n    from sklearn.datasets import fetch_openml\n    housing = fetch_openml(name=\"house_prices\", as_frame=True)\n\nfor the Ames housing dataset.\n\n[1] M Carlisle.\n\"Racist data destruction?\"\n<https://medium.com/@docintangible/racist-data-destruction-113e3eff54a8>\n\n[2] Harrison Jr, David, and Daniel L. Rubinfeld.\n\"Hedonic housing prices and the demand for clean air.\"\nJournal of environmental economics and management 5.1 (1978): 81-102.\n<https://www.researchgate.net/publication/4974606_Hedonic_housing_prices_and_the_demand_for_clean_air>\n"
     ]
    }
   ],
   "source": [
    "from sklearn.datasets import load_boston\n",
    "import pandas as pd # 데이터를 다루기 위해 필요\n",
    "from sklearn.model_selection import train_test_split # 모델을 만들기 위해서는 train, test data필요. 이걸 나눠줌\n",
    "from sklearn.linear_model import LinearRegression # 우리가 활용할 모델 객체를 정의\n",
    "from sklearn.metrics import mean_squared_error # 오차 , error 계산하는 방식\n",
    "\n",
    "# ethical problem(차별..) 이 문제로 못쓰게 됨!"
   ]
  },
  {
   "cell_type": "code",
   "execution_count": 1,
   "id": "f3c3c606-3193-4586-97a1-316a28580aaa",
   "metadata": {
    "tags": []
   },
   "outputs": [],
   "source": [
    "\n",
    "import pandas as pd # 데이터를 다루기 위해 필요\n",
    "from sklearn.model_selection import train_test_split # 모델을 만들기 위해서는 train, test data필요. 이걸 나눠줌\n",
    "from sklearn.linear_model import LinearRegression # 우리가 활용할 모델 객체를 정의\n",
    "from sklearn.metrics import mean_squared_error # 오차 , error 계산하는 방식\n",
    "\n",
    "# ethical problem(차별..) 이 문제로 못쓰게 됨!"
   ]
  },
  {
   "cell_type": "code",
   "execution_count": 10,
   "id": "b0e8c9d2-25de-4ad2-97a6-36d9888b2f96",
   "metadata": {
    "tags": []
   },
   "outputs": [],
   "source": [
    "df = pd.read_csv('load_boston.csv')\n",
    "df.drop(['Unnamed: 0'], axis = 1, inplace = True) \n",
    "\n",
    "# df = pd.read_csv('./load_boston.csv', index_col = 0) >>> 이렇게 해도 됨"
   ]
  },
  {
   "cell_type": "code",
   "execution_count": 13,
   "id": "815050d5-e66d-4715-b4f0-8aaff42348c5",
   "metadata": {
    "tags": []
   },
   "outputs": [
    {
     "data": {
      "text/html": [
       "<div>\n",
       "<style scoped>\n",
       "    .dataframe tbody tr th:only-of-type {\n",
       "        vertical-align: middle;\n",
       "    }\n",
       "\n",
       "    .dataframe tbody tr th {\n",
       "        vertical-align: top;\n",
       "    }\n",
       "\n",
       "    .dataframe thead th {\n",
       "        text-align: right;\n",
       "    }\n",
       "</style>\n",
       "<table border=\"1\" class=\"dataframe\">\n",
       "  <thead>\n",
       "    <tr style=\"text-align: right;\">\n",
       "      <th></th>\n",
       "      <th>CRIM</th>\n",
       "      <th>ZN</th>\n",
       "      <th>INDUS</th>\n",
       "      <th>CHAS</th>\n",
       "      <th>NOX</th>\n",
       "      <th>RM</th>\n",
       "      <th>AGE</th>\n",
       "      <th>DIS</th>\n",
       "      <th>RAD</th>\n",
       "      <th>TAX</th>\n",
       "      <th>PTRATIO</th>\n",
       "      <th>B</th>\n",
       "      <th>LSTAT</th>\n",
       "      <th>MEDV</th>\n",
       "    </tr>\n",
       "  </thead>\n",
       "  <tbody>\n",
       "    <tr>\n",
       "      <th>0</th>\n",
       "      <td>0.00632</td>\n",
       "      <td>18.0</td>\n",
       "      <td>2.31</td>\n",
       "      <td>0.0</td>\n",
       "      <td>0.538</td>\n",
       "      <td>6.575</td>\n",
       "      <td>65.2</td>\n",
       "      <td>4.0900</td>\n",
       "      <td>1.0</td>\n",
       "      <td>296.0</td>\n",
       "      <td>15.3</td>\n",
       "      <td>396.90</td>\n",
       "      <td>4.98</td>\n",
       "      <td>24.0</td>\n",
       "    </tr>\n",
       "    <tr>\n",
       "      <th>1</th>\n",
       "      <td>0.02731</td>\n",
       "      <td>0.0</td>\n",
       "      <td>7.07</td>\n",
       "      <td>0.0</td>\n",
       "      <td>0.469</td>\n",
       "      <td>6.421</td>\n",
       "      <td>78.9</td>\n",
       "      <td>4.9671</td>\n",
       "      <td>2.0</td>\n",
       "      <td>242.0</td>\n",
       "      <td>17.8</td>\n",
       "      <td>396.90</td>\n",
       "      <td>9.14</td>\n",
       "      <td>21.6</td>\n",
       "    </tr>\n",
       "    <tr>\n",
       "      <th>2</th>\n",
       "      <td>0.02729</td>\n",
       "      <td>0.0</td>\n",
       "      <td>7.07</td>\n",
       "      <td>0.0</td>\n",
       "      <td>0.469</td>\n",
       "      <td>7.185</td>\n",
       "      <td>61.1</td>\n",
       "      <td>4.9671</td>\n",
       "      <td>2.0</td>\n",
       "      <td>242.0</td>\n",
       "      <td>17.8</td>\n",
       "      <td>392.83</td>\n",
       "      <td>4.03</td>\n",
       "      <td>34.7</td>\n",
       "    </tr>\n",
       "    <tr>\n",
       "      <th>3</th>\n",
       "      <td>0.03237</td>\n",
       "      <td>0.0</td>\n",
       "      <td>2.18</td>\n",
       "      <td>0.0</td>\n",
       "      <td>0.458</td>\n",
       "      <td>6.998</td>\n",
       "      <td>45.8</td>\n",
       "      <td>6.0622</td>\n",
       "      <td>3.0</td>\n",
       "      <td>222.0</td>\n",
       "      <td>18.7</td>\n",
       "      <td>394.63</td>\n",
       "      <td>2.94</td>\n",
       "      <td>33.4</td>\n",
       "    </tr>\n",
       "    <tr>\n",
       "      <th>4</th>\n",
       "      <td>0.06905</td>\n",
       "      <td>0.0</td>\n",
       "      <td>2.18</td>\n",
       "      <td>0.0</td>\n",
       "      <td>0.458</td>\n",
       "      <td>7.147</td>\n",
       "      <td>54.2</td>\n",
       "      <td>6.0622</td>\n",
       "      <td>3.0</td>\n",
       "      <td>222.0</td>\n",
       "      <td>18.7</td>\n",
       "      <td>396.90</td>\n",
       "      <td>5.33</td>\n",
       "      <td>36.2</td>\n",
       "    </tr>\n",
       "  </tbody>\n",
       "</table>\n",
       "</div>"
      ],
      "text/plain": [
       "      CRIM    ZN  INDUS  CHAS    NOX     RM   AGE     DIS  RAD    TAX  \\\n",
       "0  0.00632  18.0   2.31   0.0  0.538  6.575  65.2  4.0900  1.0  296.0   \n",
       "1  0.02731   0.0   7.07   0.0  0.469  6.421  78.9  4.9671  2.0  242.0   \n",
       "2  0.02729   0.0   7.07   0.0  0.469  7.185  61.1  4.9671  2.0  242.0   \n",
       "3  0.03237   0.0   2.18   0.0  0.458  6.998  45.8  6.0622  3.0  222.0   \n",
       "4  0.06905   0.0   2.18   0.0  0.458  7.147  54.2  6.0622  3.0  222.0   \n",
       "\n",
       "   PTRATIO       B  LSTAT  MEDV  \n",
       "0     15.3  396.90   4.98  24.0  \n",
       "1     17.8  396.90   9.14  21.6  \n",
       "2     17.8  392.83   4.03  34.7  \n",
       "3     18.7  394.63   2.94  33.4  \n",
       "4     18.7  396.90   5.33  36.2  "
      ]
     },
     "execution_count": 13,
     "metadata": {},
     "output_type": "execute_result"
    }
   ],
   "source": [
    "df.head()"
   ]
  },
  {
   "cell_type": "markdown",
   "id": "9b78a76e-8b4c-4513-a7ac-458bc07af16a",
   "metadata": {},
   "source": [
    "- 여러 정보를 통해서 '주택가격(MEDV)'을 예측해보자!"
   ]
  },
  {
   "cell_type": "code",
   "execution_count": 27,
   "id": "3f44cc37-0754-4c1d-a6fb-9252c4379d1c",
   "metadata": {
    "tags": []
   },
   "outputs": [],
   "source": [
    "# step 1 : input variable / target variable 나누기\n",
    "# x : input varible / y : target variable\n",
    "X = df.drop(['MEDV'], axis = 1)\n",
    "y = df['MEDV']"
   ]
  },
  {
   "cell_type": "code",
   "execution_count": 28,
   "id": "98922205-83cd-41b2-86c4-259ea73062d3",
   "metadata": {
    "tags": []
   },
   "outputs": [],
   "source": [
    "# step 2 : train / test split\n",
    "X_train, X_test, y_train, y_test = train_test_split(X, y, test_size = 0.2, random_state = 1004) # test_size = 0.5 하고 오차 비교하기\n",
    "\n",
    "# 8:2로 split / 1004로 random을 맞추겠다(결과 같게 나옴)\n",
    "# 파이썬은 unpacking 가능! 그래서 위와 같이 해줌!"
   ]
  },
  {
   "cell_type": "code",
   "execution_count": 29,
   "id": "c9910e4b-7178-4952-8f8f-e76d51a907e0",
   "metadata": {
    "tags": []
   },
   "outputs": [
    {
     "name": "stdout",
     "output_type": "stream",
     "text": [
      "(404, 13)\n",
      "(102, 13)\n",
      "(404,)\n",
      "(102,)\n"
     ]
    }
   ],
   "source": [
    "print(X_train.shape)\n",
    "print(X_test.shape)\n",
    "print(y_train.shape)\n",
    "print(y_test.shape)"
   ]
  },
  {
   "cell_type": "code",
   "execution_count": 30,
   "id": "254ec3eb-62c7-449b-a9f1-49b52ca4c733",
   "metadata": {
    "tags": []
   },
   "outputs": [
    {
     "data": {
      "text/html": [
       "<style>#sk-container-id-1 {color: black;background-color: white;}#sk-container-id-1 pre{padding: 0;}#sk-container-id-1 div.sk-toggleable {background-color: white;}#sk-container-id-1 label.sk-toggleable__label {cursor: pointer;display: block;width: 100%;margin-bottom: 0;padding: 0.3em;box-sizing: border-box;text-align: center;}#sk-container-id-1 label.sk-toggleable__label-arrow:before {content: \"▸\";float: left;margin-right: 0.25em;color: #696969;}#sk-container-id-1 label.sk-toggleable__label-arrow:hover:before {color: black;}#sk-container-id-1 div.sk-estimator:hover label.sk-toggleable__label-arrow:before {color: black;}#sk-container-id-1 div.sk-toggleable__content {max-height: 0;max-width: 0;overflow: hidden;text-align: left;background-color: #f0f8ff;}#sk-container-id-1 div.sk-toggleable__content pre {margin: 0.2em;color: black;border-radius: 0.25em;background-color: #f0f8ff;}#sk-container-id-1 input.sk-toggleable__control:checked~div.sk-toggleable__content {max-height: 200px;max-width: 100%;overflow: auto;}#sk-container-id-1 input.sk-toggleable__control:checked~label.sk-toggleable__label-arrow:before {content: \"▾\";}#sk-container-id-1 div.sk-estimator input.sk-toggleable__control:checked~label.sk-toggleable__label {background-color: #d4ebff;}#sk-container-id-1 div.sk-label input.sk-toggleable__control:checked~label.sk-toggleable__label {background-color: #d4ebff;}#sk-container-id-1 input.sk-hidden--visually {border: 0;clip: rect(1px 1px 1px 1px);clip: rect(1px, 1px, 1px, 1px);height: 1px;margin: -1px;overflow: hidden;padding: 0;position: absolute;width: 1px;}#sk-container-id-1 div.sk-estimator {font-family: monospace;background-color: #f0f8ff;border: 1px dotted black;border-radius: 0.25em;box-sizing: border-box;margin-bottom: 0.5em;}#sk-container-id-1 div.sk-estimator:hover {background-color: #d4ebff;}#sk-container-id-1 div.sk-parallel-item::after {content: \"\";width: 100%;border-bottom: 1px solid gray;flex-grow: 1;}#sk-container-id-1 div.sk-label:hover label.sk-toggleable__label {background-color: #d4ebff;}#sk-container-id-1 div.sk-serial::before {content: \"\";position: absolute;border-left: 1px solid gray;box-sizing: border-box;top: 0;bottom: 0;left: 50%;z-index: 0;}#sk-container-id-1 div.sk-serial {display: flex;flex-direction: column;align-items: center;background-color: white;padding-right: 0.2em;padding-left: 0.2em;position: relative;}#sk-container-id-1 div.sk-item {position: relative;z-index: 1;}#sk-container-id-1 div.sk-parallel {display: flex;align-items: stretch;justify-content: center;background-color: white;position: relative;}#sk-container-id-1 div.sk-item::before, #sk-container-id-1 div.sk-parallel-item::before {content: \"\";position: absolute;border-left: 1px solid gray;box-sizing: border-box;top: 0;bottom: 0;left: 50%;z-index: -1;}#sk-container-id-1 div.sk-parallel-item {display: flex;flex-direction: column;z-index: 1;position: relative;background-color: white;}#sk-container-id-1 div.sk-parallel-item:first-child::after {align-self: flex-end;width: 50%;}#sk-container-id-1 div.sk-parallel-item:last-child::after {align-self: flex-start;width: 50%;}#sk-container-id-1 div.sk-parallel-item:only-child::after {width: 0;}#sk-container-id-1 div.sk-dashed-wrapped {border: 1px dashed gray;margin: 0 0.4em 0.5em 0.4em;box-sizing: border-box;padding-bottom: 0.4em;background-color: white;}#sk-container-id-1 div.sk-label label {font-family: monospace;font-weight: bold;display: inline-block;line-height: 1.2em;}#sk-container-id-1 div.sk-label-container {text-align: center;}#sk-container-id-1 div.sk-container {/* jupyter's `normalize.less` sets `[hidden] { display: none; }` but bootstrap.min.css set `[hidden] { display: none !important; }` so we also need the `!important` here to be able to override the default hidden behavior on the sphinx rendered scikit-learn.org. See: https://github.com/scikit-learn/scikit-learn/issues/21755 */display: inline-block !important;position: relative;}#sk-container-id-1 div.sk-text-repr-fallback {display: none;}</style><div id=\"sk-container-id-1\" class=\"sk-top-container\"><div class=\"sk-text-repr-fallback\"><pre>LinearRegression()</pre><b>In a Jupyter environment, please rerun this cell to show the HTML representation or trust the notebook. <br />On GitHub, the HTML representation is unable to render, please try loading this page with nbviewer.org.</b></div><div class=\"sk-container\" hidden><div class=\"sk-item\"><div class=\"sk-estimator sk-toggleable\"><input class=\"sk-toggleable__control sk-hidden--visually\" id=\"sk-estimator-id-1\" type=\"checkbox\" checked><label for=\"sk-estimator-id-1\" class=\"sk-toggleable__label sk-toggleable__label-arrow\">LinearRegression</label><div class=\"sk-toggleable__content\"><pre>LinearRegression()</pre></div></div></div></div></div>"
      ],
      "text/plain": [
       "LinearRegression()"
      ]
     },
     "execution_count": 30,
     "metadata": {},
     "output_type": "execute_result"
    }
   ],
   "source": [
    "# step 3 : model train\n",
    "# 학습할 때 활용할 모델을 정의해줘야 함! 모델 객체 선언!(모델을 불러옴)\n",
    "model = LinearRegression() \n",
    "model.fit(X_train, y_train) # 학습"
   ]
  },
  {
   "cell_type": "code",
   "execution_count": 31,
   "id": "b7de9652-efdb-495e-97a8-0d7f39ebb616",
   "metadata": {
    "tags": []
   },
   "outputs": [
    {
     "data": {
      "text/plain": [
       "array([-8.31250759e-02,  5.04950616e-02, -3.96534069e-04,  3.44424430e+00,\n",
       "       -1.35226625e+01,  3.54788012e+00,  1.25855871e-03, -1.47501679e+00,\n",
       "        3.12079206e-01, -1.15933807e-02, -9.20011566e-01,  1.13992300e-02,\n",
       "       -5.88706540e-01])"
      ]
     },
     "execution_count": 31,
     "metadata": {},
     "output_type": "execute_result"
    }
   ],
   "source": [
    "model.coef_ # 기울기"
   ]
  },
  {
   "cell_type": "code",
   "execution_count": 32,
   "id": "828082ce-5b8f-436a-8eca-66b226109079",
   "metadata": {
    "tags": []
   },
   "outputs": [
    {
     "data": {
      "text/plain": [
       "35.070833731919656"
      ]
     },
     "execution_count": 32,
     "metadata": {},
     "output_type": "execute_result"
    }
   ],
   "source": [
    "model.intercept_ # 절편"
   ]
  },
  {
   "cell_type": "code",
   "execution_count": 35,
   "id": "3af89f6b-de74-4089-9cce-5c3fa737984a",
   "metadata": {
    "tags": []
   },
   "outputs": [],
   "source": [
    "# step 4 : predict\n",
    "model_prediction = model.predict(X_test) # 모델이 예측한 값"
   ]
  },
  {
   "cell_type": "code",
   "execution_count": 36,
   "id": "add7085f-8cff-4ed0-a131-5182bad2941a",
   "metadata": {
    "tags": []
   },
   "outputs": [
    {
     "data": {
      "text/plain": [
       "19.450267341373436"
      ]
     },
     "execution_count": 36,
     "metadata": {},
     "output_type": "execute_result"
    }
   ],
   "source": [
    "# step 5 : evaluate\n",
    "mean_squared_error(y_test, model_prediction)"
   ]
  },
  {
   "cell_type": "code",
   "execution_count": null,
   "id": "33bb4d23-12cd-4871-a873-5fca9a9133a7",
   "metadata": {},
   "outputs": [],
   "source": []
  },
  {
   "cell_type": "markdown",
   "id": "c434279b-5ad8-4e3f-9809-0a43243b73f6",
   "metadata": {},
   "source": [
    "- model은 이렇게 만들면 됨.\n",
    "- 데이터 시각화.. 하는게 step1 전에 빠짐! 데이터 분포 확인하고..이상치 제거 등 분석 과정을 먼저 거쳐야 함!"
   ]
  },
  {
   "cell_type": "markdown",
   "id": "2dddffb4-300b-4d94-918d-3e6590828e41",
   "metadata": {},
   "source": [
    "- test_size 를 더 높게 하면 학습이 덜 되므로 오차 값이 더 클거임(보통 8:2, 7:3으로 학습함!)"
   ]
  },
  {
   "cell_type": "markdown",
   "id": "c5564d8a-9931-4da2-817d-5d569569eeff",
   "metadata": {},
   "source": [
    "## Classification"
   ]
  },
  {
   "cell_type": "markdown",
   "id": "37721f9f-4735-4e00-afde-f2aad87d25ca",
   "metadata": {},
   "source": [
    "KNN\n",
    "- KNN(k-Nearest Neighbors)\n",
    "- KNN 이웃개수는 무조건 `홀수`!\n",
    "- 이웃 수가 적을수록 모델의 복잡도는 증가 >> 테스트 정확도는 줄어든다`(오버피팅)`\n",
    "- 이웃 수가 많아 질수록 모델의 복잡도는 하락 >> 너무 많아지면 너무 단순해서 정확도 하락(훈련 정확도 점점 떨어짐)\n",
    "\n",
    "과대적합\n",
    "- 일반화가 어려움\n",
    "- 모델.. 일반화 할 수 있는지(범용적?!) 측면에서 잘 봐야함\n",
    "\n",
    "깊이=1\n",
    "- 질문을 하나라는 의미!\n",
    "- 깊이가 너무 깊으면 . overfitting... 일반화가 되지x\n",
    "- 깊이=2, 깊이=9 중에 뭐가 더 좋을까? 정답x (일반화 측면에서는 2번이 더 좋을 수 있고, 정확도 측면에서는 9.. 그 사이 어딘가가 더 좋을 것이다!)\n",
    "- 깊이가 깊어질수록 오버피팅이 나올 경우가 큼(질문 많으니까.. 트레인데이터에 모델이 너무 학습)"
   ]
  },
  {
   "cell_type": "markdown",
   "id": "706bfc35-ccca-45bc-b3b2-0a8d5dec13b7",
   "metadata": {},
   "source": [
    "### Iris Data"
   ]
  },
  {
   "cell_type": "code",
   "execution_count": 37,
   "id": "15be010f-998c-41ee-a244-ead7fba8c314",
   "metadata": {
    "tags": []
   },
   "outputs": [],
   "source": [
    "from sklearn.datasets import load_iris\n",
    "import pandas as pd"
   ]
  },
  {
   "cell_type": "code",
   "execution_count": 38,
   "id": "07adab3b-b015-4a76-81c3-44ef8b6b6716",
   "metadata": {
    "tags": []
   },
   "outputs": [],
   "source": [
    "iris_data = load_iris()"
   ]
  },
  {
   "cell_type": "code",
   "execution_count": 41,
   "id": "f0076f16-396c-446b-9534-1735b61514d7",
   "metadata": {
    "tags": []
   },
   "outputs": [
    {
     "data": {
      "text/plain": [
       "dict_keys(['data', 'target', 'frame', 'target_names', 'DESCR', 'feature_names', 'filename', 'data_module'])"
      ]
     },
     "execution_count": 41,
     "metadata": {},
     "output_type": "execute_result"
    }
   ],
   "source": [
    "iris_data.keys()"
   ]
  },
  {
   "cell_type": "code",
   "execution_count": 44,
   "id": "97033607-9811-4548-8682-889959b25245",
   "metadata": {
    "tags": []
   },
   "outputs": [],
   "source": [
    "X = pd.DataFrame(iris_data.data, columns = iris_data.feature_names)\n",
    "y = pd.DataFrame(iris_data.target, columns = ['class'])"
   ]
  },
  {
   "cell_type": "code",
   "execution_count": 45,
   "id": "17cf3787-4a72-46e2-96fc-5436fb4c0455",
   "metadata": {
    "tags": []
   },
   "outputs": [
    {
     "data": {
      "text/html": [
       "<div>\n",
       "<style scoped>\n",
       "    .dataframe tbody tr th:only-of-type {\n",
       "        vertical-align: middle;\n",
       "    }\n",
       "\n",
       "    .dataframe tbody tr th {\n",
       "        vertical-align: top;\n",
       "    }\n",
       "\n",
       "    .dataframe thead th {\n",
       "        text-align: right;\n",
       "    }\n",
       "</style>\n",
       "<table border=\"1\" class=\"dataframe\">\n",
       "  <thead>\n",
       "    <tr style=\"text-align: right;\">\n",
       "      <th></th>\n",
       "      <th>sepal length (cm)</th>\n",
       "      <th>sepal width (cm)</th>\n",
       "      <th>petal length (cm)</th>\n",
       "      <th>petal width (cm)</th>\n",
       "    </tr>\n",
       "  </thead>\n",
       "  <tbody>\n",
       "    <tr>\n",
       "      <th>0</th>\n",
       "      <td>5.1</td>\n",
       "      <td>3.5</td>\n",
       "      <td>1.4</td>\n",
       "      <td>0.2</td>\n",
       "    </tr>\n",
       "    <tr>\n",
       "      <th>1</th>\n",
       "      <td>4.9</td>\n",
       "      <td>3.0</td>\n",
       "      <td>1.4</td>\n",
       "      <td>0.2</td>\n",
       "    </tr>\n",
       "    <tr>\n",
       "      <th>2</th>\n",
       "      <td>4.7</td>\n",
       "      <td>3.2</td>\n",
       "      <td>1.3</td>\n",
       "      <td>0.2</td>\n",
       "    </tr>\n",
       "    <tr>\n",
       "      <th>3</th>\n",
       "      <td>4.6</td>\n",
       "      <td>3.1</td>\n",
       "      <td>1.5</td>\n",
       "      <td>0.2</td>\n",
       "    </tr>\n",
       "    <tr>\n",
       "      <th>4</th>\n",
       "      <td>5.0</td>\n",
       "      <td>3.6</td>\n",
       "      <td>1.4</td>\n",
       "      <td>0.2</td>\n",
       "    </tr>\n",
       "  </tbody>\n",
       "</table>\n",
       "</div>"
      ],
      "text/plain": [
       "   sepal length (cm)  sepal width (cm)  petal length (cm)  petal width (cm)\n",
       "0                5.1               3.5                1.4               0.2\n",
       "1                4.9               3.0                1.4               0.2\n",
       "2                4.7               3.2                1.3               0.2\n",
       "3                4.6               3.1                1.5               0.2\n",
       "4                5.0               3.6                1.4               0.2"
      ]
     },
     "execution_count": 45,
     "metadata": {},
     "output_type": "execute_result"
    }
   ],
   "source": [
    "X.head()"
   ]
  },
  {
   "cell_type": "code",
   "execution_count": 47,
   "id": "38a245d3-d6f0-405c-9324-988431b3ae0d",
   "metadata": {
    "tags": []
   },
   "outputs": [
    {
     "data": {
      "text/plain": [
       "array(['setosa', 'versicolor', 'virginica'], dtype='<U10')"
      ]
     },
     "execution_count": 47,
     "metadata": {},
     "output_type": "execute_result"
    }
   ],
   "source": [
    "iris_data.target_names # 각각 0,1,2"
   ]
  },
  {
   "cell_type": "code",
   "execution_count": 46,
   "id": "851752e3-8788-4343-979e-88455b3247c8",
   "metadata": {
    "tags": []
   },
   "outputs": [
    {
     "data": {
      "text/html": [
       "<div>\n",
       "<style scoped>\n",
       "    .dataframe tbody tr th:only-of-type {\n",
       "        vertical-align: middle;\n",
       "    }\n",
       "\n",
       "    .dataframe tbody tr th {\n",
       "        vertical-align: top;\n",
       "    }\n",
       "\n",
       "    .dataframe thead th {\n",
       "        text-align: right;\n",
       "    }\n",
       "</style>\n",
       "<table border=\"1\" class=\"dataframe\">\n",
       "  <thead>\n",
       "    <tr style=\"text-align: right;\">\n",
       "      <th></th>\n",
       "      <th>class</th>\n",
       "    </tr>\n",
       "  </thead>\n",
       "  <tbody>\n",
       "    <tr>\n",
       "      <th>0</th>\n",
       "      <td>0</td>\n",
       "    </tr>\n",
       "    <tr>\n",
       "      <th>1</th>\n",
       "      <td>0</td>\n",
       "    </tr>\n",
       "    <tr>\n",
       "      <th>2</th>\n",
       "      <td>0</td>\n",
       "    </tr>\n",
       "    <tr>\n",
       "      <th>3</th>\n",
       "      <td>0</td>\n",
       "    </tr>\n",
       "    <tr>\n",
       "      <th>4</th>\n",
       "      <td>0</td>\n",
       "    </tr>\n",
       "    <tr>\n",
       "      <th>...</th>\n",
       "      <td>...</td>\n",
       "    </tr>\n",
       "    <tr>\n",
       "      <th>145</th>\n",
       "      <td>2</td>\n",
       "    </tr>\n",
       "    <tr>\n",
       "      <th>146</th>\n",
       "      <td>2</td>\n",
       "    </tr>\n",
       "    <tr>\n",
       "      <th>147</th>\n",
       "      <td>2</td>\n",
       "    </tr>\n",
       "    <tr>\n",
       "      <th>148</th>\n",
       "      <td>2</td>\n",
       "    </tr>\n",
       "    <tr>\n",
       "      <th>149</th>\n",
       "      <td>2</td>\n",
       "    </tr>\n",
       "  </tbody>\n",
       "</table>\n",
       "<p>150 rows × 1 columns</p>\n",
       "</div>"
      ],
      "text/plain": [
       "     class\n",
       "0        0\n",
       "1        0\n",
       "2        0\n",
       "3        0\n",
       "4        0\n",
       "..     ...\n",
       "145      2\n",
       "146      2\n",
       "147      2\n",
       "148      2\n",
       "149      2\n",
       "\n",
       "[150 rows x 1 columns]"
      ]
     },
     "execution_count": 46,
     "metadata": {},
     "output_type": "execute_result"
    }
   ],
   "source": [
    "y # 꽃 품종"
   ]
  },
  {
   "cell_type": "markdown",
   "id": "bc0b80c1-d1b0-410f-a29c-a3563e839fc2",
   "metadata": {},
   "source": [
    "- 모델 만들기 전에 데이터가지고 시각화하고, 이상치 있는지 확인하고 처리하고 해줘야 함! 지금은 모델 만드는거에 집중!"
   ]
  },
  {
   "cell_type": "code",
   "execution_count": 48,
   "id": "4f7ab455-328c-474b-8dec-f1002dc5d481",
   "metadata": {
    "tags": []
   },
   "outputs": [],
   "source": [
    "from sklearn.model_selection import train_test_split\n",
    "X_train, X_test, y_train, y_test = train_test_split(X, y, test_size = 0.2, random_state = 1004)"
   ]
  },
  {
   "cell_type": "code",
   "execution_count": 50,
   "id": "fc5d2c59-c3ec-4519-b711-daa0748fa8eb",
   "metadata": {
    "tags": []
   },
   "outputs": [
    {
     "data": {
      "text/html": [
       "<style>#sk-container-id-2 {color: black;background-color: white;}#sk-container-id-2 pre{padding: 0;}#sk-container-id-2 div.sk-toggleable {background-color: white;}#sk-container-id-2 label.sk-toggleable__label {cursor: pointer;display: block;width: 100%;margin-bottom: 0;padding: 0.3em;box-sizing: border-box;text-align: center;}#sk-container-id-2 label.sk-toggleable__label-arrow:before {content: \"▸\";float: left;margin-right: 0.25em;color: #696969;}#sk-container-id-2 label.sk-toggleable__label-arrow:hover:before {color: black;}#sk-container-id-2 div.sk-estimator:hover label.sk-toggleable__label-arrow:before {color: black;}#sk-container-id-2 div.sk-toggleable__content {max-height: 0;max-width: 0;overflow: hidden;text-align: left;background-color: #f0f8ff;}#sk-container-id-2 div.sk-toggleable__content pre {margin: 0.2em;color: black;border-radius: 0.25em;background-color: #f0f8ff;}#sk-container-id-2 input.sk-toggleable__control:checked~div.sk-toggleable__content {max-height: 200px;max-width: 100%;overflow: auto;}#sk-container-id-2 input.sk-toggleable__control:checked~label.sk-toggleable__label-arrow:before {content: \"▾\";}#sk-container-id-2 div.sk-estimator input.sk-toggleable__control:checked~label.sk-toggleable__label {background-color: #d4ebff;}#sk-container-id-2 div.sk-label input.sk-toggleable__control:checked~label.sk-toggleable__label {background-color: #d4ebff;}#sk-container-id-2 input.sk-hidden--visually {border: 0;clip: rect(1px 1px 1px 1px);clip: rect(1px, 1px, 1px, 1px);height: 1px;margin: -1px;overflow: hidden;padding: 0;position: absolute;width: 1px;}#sk-container-id-2 div.sk-estimator {font-family: monospace;background-color: #f0f8ff;border: 1px dotted black;border-radius: 0.25em;box-sizing: border-box;margin-bottom: 0.5em;}#sk-container-id-2 div.sk-estimator:hover {background-color: #d4ebff;}#sk-container-id-2 div.sk-parallel-item::after {content: \"\";width: 100%;border-bottom: 1px solid gray;flex-grow: 1;}#sk-container-id-2 div.sk-label:hover label.sk-toggleable__label {background-color: #d4ebff;}#sk-container-id-2 div.sk-serial::before {content: \"\";position: absolute;border-left: 1px solid gray;box-sizing: border-box;top: 0;bottom: 0;left: 50%;z-index: 0;}#sk-container-id-2 div.sk-serial {display: flex;flex-direction: column;align-items: center;background-color: white;padding-right: 0.2em;padding-left: 0.2em;position: relative;}#sk-container-id-2 div.sk-item {position: relative;z-index: 1;}#sk-container-id-2 div.sk-parallel {display: flex;align-items: stretch;justify-content: center;background-color: white;position: relative;}#sk-container-id-2 div.sk-item::before, #sk-container-id-2 div.sk-parallel-item::before {content: \"\";position: absolute;border-left: 1px solid gray;box-sizing: border-box;top: 0;bottom: 0;left: 50%;z-index: -1;}#sk-container-id-2 div.sk-parallel-item {display: flex;flex-direction: column;z-index: 1;position: relative;background-color: white;}#sk-container-id-2 div.sk-parallel-item:first-child::after {align-self: flex-end;width: 50%;}#sk-container-id-2 div.sk-parallel-item:last-child::after {align-self: flex-start;width: 50%;}#sk-container-id-2 div.sk-parallel-item:only-child::after {width: 0;}#sk-container-id-2 div.sk-dashed-wrapped {border: 1px dashed gray;margin: 0 0.4em 0.5em 0.4em;box-sizing: border-box;padding-bottom: 0.4em;background-color: white;}#sk-container-id-2 div.sk-label label {font-family: monospace;font-weight: bold;display: inline-block;line-height: 1.2em;}#sk-container-id-2 div.sk-label-container {text-align: center;}#sk-container-id-2 div.sk-container {/* jupyter's `normalize.less` sets `[hidden] { display: none; }` but bootstrap.min.css set `[hidden] { display: none !important; }` so we also need the `!important` here to be able to override the default hidden behavior on the sphinx rendered scikit-learn.org. See: https://github.com/scikit-learn/scikit-learn/issues/21755 */display: inline-block !important;position: relative;}#sk-container-id-2 div.sk-text-repr-fallback {display: none;}</style><div id=\"sk-container-id-2\" class=\"sk-top-container\"><div class=\"sk-text-repr-fallback\"><pre>DecisionTreeClassifier()</pre><b>In a Jupyter environment, please rerun this cell to show the HTML representation or trust the notebook. <br />On GitHub, the HTML representation is unable to render, please try loading this page with nbviewer.org.</b></div><div class=\"sk-container\" hidden><div class=\"sk-item\"><div class=\"sk-estimator sk-toggleable\"><input class=\"sk-toggleable__control sk-hidden--visually\" id=\"sk-estimator-id-2\" type=\"checkbox\" checked><label for=\"sk-estimator-id-2\" class=\"sk-toggleable__label sk-toggleable__label-arrow\">DecisionTreeClassifier</label><div class=\"sk-toggleable__content\"><pre>DecisionTreeClassifier()</pre></div></div></div></div></div>"
      ],
      "text/plain": [
       "DecisionTreeClassifier()"
      ]
     },
     "execution_count": 50,
     "metadata": {},
     "output_type": "execute_result"
    }
   ],
   "source": [
    "from sklearn.tree import DecisionTreeClassifier\n",
    "\n",
    "model = DecisionTreeClassifier()\n",
    "model.fit(X_train, y_train)"
   ]
  },
  {
   "cell_type": "code",
   "execution_count": 52,
   "id": "4b0e148c-e790-42d3-b076-680b5879bbbe",
   "metadata": {
    "tags": []
   },
   "outputs": [],
   "source": [
    "prediction = model.predict(X_test)"
   ]
  },
  {
   "cell_type": "code",
   "execution_count": 59,
   "id": "b1d8d86b-bf91-473f-a5ae-6ac6579026ad",
   "metadata": {
    "tags": []
   },
   "outputs": [
    {
     "data": {
      "text/plain": [
       "1.0"
      ]
     },
     "execution_count": 59,
     "metadata": {},
     "output_type": "execute_result"
    }
   ],
   "source": [
    "model.score(X_train, y_train) # 훈련 정확도 (아래와 비교해서 overfitting인지 아닌지 판단해보기)"
   ]
  },
  {
   "cell_type": "code",
   "execution_count": 53,
   "id": "fbcd841f-d6fd-4113-aa2b-659c41012bce",
   "metadata": {
    "tags": []
   },
   "outputs": [
    {
     "data": {
      "text/plain": [
       "0.9666666666666667"
      ]
     },
     "execution_count": 53,
     "metadata": {},
     "output_type": "execute_result"
    }
   ],
   "source": [
    "model.score(X_test, y_test) # model의 accuracy > 테스트 정확도"
   ]
  },
  {
   "cell_type": "code",
   "execution_count": 54,
   "id": "e842cfff-289b-4cf7-adcb-dd7c971f7619",
   "metadata": {
    "tags": []
   },
   "outputs": [
    {
     "data": {
      "text/plain": [
       "array([0.        , 0.01667014, 0.41134379, 0.57198607])"
      ]
     },
     "execution_count": 54,
     "metadata": {},
     "output_type": "execute_result"
    }
   ],
   "source": [
    "importance = model.feature_importances_\n",
    "importance"
   ]
  },
  {
   "cell_type": "code",
   "execution_count": 57,
   "id": "61d1927d-67dd-457d-ae94-5c7de61af85a",
   "metadata": {
    "tags": []
   },
   "outputs": [
    {
     "data": {
      "text/plain": [
       "<BarContainer object of 4 artists>"
      ]
     },
     "execution_count": 57,
     "metadata": {},
     "output_type": "execute_result"
    },
    {
     "data": {
      "image/png": "[encoded data removed]",
      "text/plain": [
       "<Figure size 800x600 with 1 Axes>"
      ]
     },
     "metadata": {},
     "output_type": "display_data"
    }
   ],
   "source": [
    "import matplotlib.pyplot as plt\n",
    "\n",
    "plt.figure(figsize = (8,6))\n",
    "plt.bar(X.columns, importance)\n",
    "\n",
    "# 중요한 변수다 라고 규정지을 수는 없음! 그냥 모델이 학습할 때.. 이 feature를 이만큼 중요하다고 생각, 결과에 영향을 끼쳤구나 정도.. 이 변수가 중요하다! 는 nope!!!\n",
    "# 왜 이게 중요하게 생각하는지는.. 모름! 블랙박스 영역!!"
   ]
  },
  {
   "cell_type": "code",
   "execution_count": null,
   "id": "ec56d5c6-01e5-40c0-b599-b40693bdc698",
   "metadata": {},
   "outputs": [],
   "source": []
  },
  {
   "cell_type": "markdown",
   "id": "60ca931c-26a2-4953-b947-a4a5acd20a37",
   "metadata": {},
   "source": [
    "### Cancer Data\n",
    "- 유방암 데이터셋"
   ]
  },
  {
   "cell_type": "code",
   "execution_count": null,
   "id": "5a66c2d7-987f-4267-b190-c7e94e558d39",
   "metadata": {},
   "outputs": [],
   "source": [
    "# 실습\n",
    "# 모델 생성\n",
    "# 주요 변수 확인\n",
    "# 오버피팅 판단"
   ]
  },
  {
   "cell_type": "code",
   "execution_count": 1,
   "id": "50fff7c1-c44e-453d-bdc7-b83490a6a7c5",
   "metadata": {
    "tags": []
   },
   "outputs": [],
   "source": [
    "from sklearn.datasets import load_breast_cancer\n",
    "from sklearn.model_selection import train_test_split\n",
    "from sklearn.tree import DecisionTreeClassifier\n",
    "\n",
    "import pandas as pd\n",
    "\n",
    "cancer_data = load_breast_cancer()"
   ]
  },
  {
   "cell_type": "code",
   "execution_count": 2,
   "id": "8c213cb2-5263-401c-a79e-e68ed7bd18d3",
   "metadata": {
    "tags": []
   },
   "outputs": [
    {
     "data": {
      "text/plain": [
       "array(['malignant', 'benign'], dtype='<U9')"
      ]
     },
     "execution_count": 2,
     "metadata": {},
     "output_type": "execute_result"
    }
   ],
   "source": [
    "cancer_data.target_names"
   ]
  },
  {
   "cell_type": "code",
   "execution_count": 3,
   "id": "0ebebb4b-6a13-4cd5-80b4-e4f65888ade6",
   "metadata": {
    "tags": []
   },
   "outputs": [],
   "source": [
    "input_data = pd.DataFrame(cancer_data.data, columns=cancer_data.feature_names) # input data\n",
    "target_data = pd.DataFrame(cancer_data.target, columns=['class']) # target data"
   ]
  },
  {
   "cell_type": "code",
   "execution_count": 4,
   "id": "f99086af-d190-4ec2-b744-f5a3d3322ede",
   "metadata": {
    "tags": []
   },
   "outputs": [],
   "source": [
    "from sklearn.model_selection import train_test_split\n",
    "X_train, X_test, y_train, y_test = train_test_split(input_data, target_data, test_size = 0.2, random_state = 1004)"
   ]
  },
  {
   "cell_type": "code",
   "execution_count": null,
   "id": "3cc4822a-4117-4ec6-a882-120611ae1815",
   "metadata": {},
   "outputs": [],
   "source": []
  },
  {
   "cell_type": "code",
   "execution_count": null,
   "id": "b3b51acc-0460-48fa-9399-1bc815cb58f4",
   "metadata": {},
   "outputs": [],
   "source": []
  },
  {
   "cell_type": "code",
   "execution_count": 152,
   "id": "e65e6956-234b-4bb6-85b0-99b0001748ee",
   "metadata": {
    "collapsed": true,
    "jupyter": {
     "outputs_hidden": true
    },
    "tags": []
   },
   "outputs": [
    {
     "name": "stdout",
     "output_type": "stream",
     "text": [
      "Collecting catboostNote: you may need to restart the kernel to use updated packages.\n",
      "\n",
      "  Downloading catboost-1.1.1-cp39-none-win_amd64.whl (74.0 MB)\n",
      "     ---------------------------------------- 0.0/74.0 MB ? eta -:--:--\n",
      "     - -------------------------------------- 2.8/74.0 MB 59.7 MB/s eta 0:00:02\n",
      "     ---- ----------------------------------- 7.7/74.0 MB 82.0 MB/s eta 0:00:01\n",
      "     ------ ------------------------------- 12.9/74.0 MB 108.8 MB/s eta 0:00:01\n",
      "     -------- ----------------------------- 16.0/74.0 MB 108.8 MB/s eta 0:00:01\n",
      "     -------- ------------------------------ 16.8/74.0 MB 65.2 MB/s eta 0:00:01\n",
      "     ----------- --------------------------- 21.9/74.0 MB 72.6 MB/s eta 0:00:01\n",
      "     ------------- ------------------------ 27.2/74.0 MB 131.2 MB/s eta 0:00:01\n",
      "     ---------------- --------------------- 32.6/74.0 MB 129.5 MB/s eta 0:00:01\n",
      "     ------------------- ------------------ 37.4/74.0 MB 110.0 MB/s eta 0:00:01\n",
      "     ---------------------- --------------- 43.0/74.0 MB 131.2 MB/s eta 0:00:01\n",
      "     ------------------------ ------------- 48.2/74.0 MB 131.2 MB/s eta 0:00:01\n",
      "     --------------------------- ---------- 53.5/74.0 MB 108.8 MB/s eta 0:00:01\n",
      "     ----------------------------- -------- 57.0/74.0 MB 110.0 MB/s eta 0:00:01\n",
      "     ------------------------------- ------- 59.6/74.0 MB 81.8 MB/s eta 0:00:01\n",
      "     ---------------------------------- ---- 64.8/74.0 MB 81.8 MB/s eta 0:00:01\n",
      "     ------------------------------------ - 70.1/74.0 MB 108.8 MB/s eta 0:00:01\n",
      "     -------------------------------------  74.0/74.0 MB 108.8 MB/s eta 0:00:01\n",
      "     -------------------------------------  74.0/74.0 MB 108.8 MB/s eta 0:00:01\n",
      "     --------------------------------------- 74.0/74.0 MB 46.7 MB/s eta 0:00:00\n",
      "Requirement already satisfied: plotly in c:\\users\\sbauser\\.venv\\second_day\\lib\\site-packages (from catboost) (5.13.0)\n",
      "Requirement already satisfied: matplotlib in c:\\users\\sbauser\\.venv\\second_day\\lib\\site-packages (from catboost) (3.6.3)\n",
      "Requirement already satisfied: pandas>=0.24.0 in c:\\users\\sbauser\\.venv\\second_day\\lib\\site-packages (from catboost) (1.5.3)\n",
      "Requirement already satisfied: scipy in c:\\users\\sbauser\\.venv\\second_day\\lib\\site-packages (from catboost) (1.10.0)\n",
      "Collecting graphviz\n",
      "  Downloading graphviz-0.20.1-py3-none-any.whl (47 kB)\n",
      "     ---------------------------------------- 0.0/47.0 kB ? eta -:--:--\n",
      "     ---------------------------------------- 47.0/47.0 kB ? eta 0:00:00\n",
      "Requirement already satisfied: numpy>=1.16.0 in c:\\users\\sbauser\\.venv\\second_day\\lib\\site-packages (from catboost) (1.24.2)\n",
      "Requirement already satisfied: six in c:\\users\\sbauser\\.venv\\second_day\\lib\\site-packages (from catboost) (1.16.0)\n",
      "Requirement already satisfied: python-dateutil>=2.8.1 in c:\\users\\sbauser\\.venv\\second_day\\lib\\site-packages (from pandas>=0.24.0->catboost) (2.8.2)\n",
      "Requirement already satisfied: pytz>=2020.1 in c:\\users\\sbauser\\.venv\\second_day\\lib\\site-packages (from pandas>=0.24.0->catboost) (2022.7.1)\n",
      "Requirement already satisfied: pyparsing>=2.2.1 in c:\\users\\sbauser\\.venv\\second_day\\lib\\site-packages (from matplotlib->catboost) (3.0.9)\n",
      "Requirement already satisfied: fonttools>=4.22.0 in c:\\users\\sbauser\\.venv\\second_day\\lib\\site-packages (from matplotlib->catboost) (4.38.0)\n",
      "Requirement already satisfied: contourpy>=1.0.1 in c:\\users\\sbauser\\.venv\\second_day\\lib\\site-packages (from matplotlib->catboost) (1.0.7)\n",
      "Requirement already satisfied: kiwisolver>=1.0.1 in c:\\users\\sbauser\\.venv\\second_day\\lib\\site-packages (from matplotlib->catboost) (1.4.4)\n",
      "Requirement already satisfied: pillow>=6.2.0 in c:\\users\\sbauser\\.venv\\second_day\\lib\\site-packages (from matplotlib->catboost) (9.4.0)\n",
      "Requirement already satisfied: cycler>=0.10 in c:\\users\\sbauser\\.venv\\second_day\\lib\\site-packages (from matplotlib->catboost) (0.11.0)\n",
      "Requirement already satisfied: packaging>=20.0 in c:\\users\\sbauser\\.venv\\second_day\\lib\\site-packages (from matplotlib->catboost) (23.0)\n",
      "Requirement already satisfied: tenacity>=6.2.0 in c:\\users\\sbauser\\.venv\\second_day\\lib\\site-packages (from plotly->catboost) (8.2.1)\n",
      "Installing collected packages: graphviz, catboost\n",
      "Successfully installed catboost-1.1.1 graphviz-0.20.1\n"
     ]
    }
   ],
   "source": [
    "pip install catboost"
   ]
  },
  {
   "cell_type": "code",
   "execution_count": 153,
   "id": "d3882a14-5775-4698-8cb8-f25a856ff696",
   "metadata": {
    "collapsed": true,
    "jupyter": {
     "outputs_hidden": true
    },
    "tags": []
   },
   "outputs": [
    {
     "name": "stdout",
     "output_type": "stream",
     "text": [
      "Learning rate set to 0.00736\n",
      "0:\tlearn: 0.6800778\ttotal: 144ms\tremaining: 2m 24s\n",
      "1:\tlearn: 0.6688352\ttotal: 149ms\tremaining: 1m 14s\n",
      "2:\tlearn: 0.6569911\ttotal: 154ms\tremaining: 51.2s\n",
      "3:\tlearn: 0.6458605\ttotal: 159ms\tremaining: 39.5s\n",
      "4:\tlearn: 0.6322067\ttotal: 162ms\tremaining: 32.2s\n",
      "5:\tlearn: 0.6223345\ttotal: 166ms\tremaining: 27.5s\n",
      "6:\tlearn: 0.6092418\ttotal: 170ms\tremaining: 24.1s\n",
      "7:\tlearn: 0.5983864\ttotal: 173ms\tremaining: 21.5s\n",
      "8:\tlearn: 0.5863997\ttotal: 176ms\tremaining: 19.4s\n",
      "9:\tlearn: 0.5762893\ttotal: 178ms\tremaining: 17.6s\n",
      "10:\tlearn: 0.5670709\ttotal: 180ms\tremaining: 16.2s\n",
      "11:\tlearn: 0.5565385\ttotal: 182ms\tremaining: 15s\n",
      "12:\tlearn: 0.5467443\ttotal: 184ms\tremaining: 14s\n",
      "13:\tlearn: 0.5372026\ttotal: 185ms\tremaining: 13.1s\n",
      "14:\tlearn: 0.5281973\ttotal: 187ms\tremaining: 12.3s\n",
      "15:\tlearn: 0.5198509\ttotal: 188ms\tremaining: 11.6s\n",
      "16:\tlearn: 0.5118114\ttotal: 190ms\tremaining: 11s\n",
      "17:\tlearn: 0.5026566\ttotal: 191ms\tremaining: 10.4s\n",
      "18:\tlearn: 0.4939066\ttotal: 192ms\tremaining: 9.94s\n",
      "19:\tlearn: 0.4856083\ttotal: 194ms\tremaining: 9.5s\n",
      "20:\tlearn: 0.4786557\ttotal: 195ms\tremaining: 9.1s\n",
      "21:\tlearn: 0.4698792\ttotal: 197ms\tremaining: 8.75s\n",
      "22:\tlearn: 0.4609524\ttotal: 198ms\tremaining: 8.42s\n",
      "23:\tlearn: 0.4529780\ttotal: 200ms\tremaining: 8.13s\n",
      "24:\tlearn: 0.4444336\ttotal: 201ms\tremaining: 7.85s\n",
      "25:\tlearn: 0.4369130\ttotal: 203ms\tremaining: 7.6s\n",
      "26:\tlearn: 0.4302382\ttotal: 204ms\tremaining: 7.37s\n",
      "27:\tlearn: 0.4230628\ttotal: 206ms\tremaining: 7.15s\n",
      "28:\tlearn: 0.4157224\ttotal: 207ms\tremaining: 6.94s\n",
      "29:\tlearn: 0.4096731\ttotal: 209ms\tremaining: 6.75s\n",
      "30:\tlearn: 0.4023766\ttotal: 210ms\tremaining: 6.56s\n",
      "31:\tlearn: 0.3966983\ttotal: 211ms\tremaining: 6.39s\n",
      "32:\tlearn: 0.3914792\ttotal: 213ms\tremaining: 6.23s\n",
      "33:\tlearn: 0.3853110\ttotal: 214ms\tremaining: 6.08s\n",
      "34:\tlearn: 0.3783801\ttotal: 216ms\tremaining: 5.94s\n",
      "35:\tlearn: 0.3711307\ttotal: 217ms\tremaining: 5.81s\n",
      "36:\tlearn: 0.3646088\ttotal: 218ms\tremaining: 5.68s\n",
      "37:\tlearn: 0.3585270\ttotal: 220ms\tremaining: 5.56s\n",
      "38:\tlearn: 0.3525027\ttotal: 221ms\tremaining: 5.45s\n",
      "39:\tlearn: 0.3478048\ttotal: 222ms\tremaining: 5.33s\n",
      "40:\tlearn: 0.3430295\ttotal: 224ms\tremaining: 5.23s\n",
      "41:\tlearn: 0.3380008\ttotal: 225ms\tremaining: 5.13s\n",
      "42:\tlearn: 0.3330384\ttotal: 226ms\tremaining: 5.04s\n",
      "43:\tlearn: 0.3277023\ttotal: 228ms\tremaining: 4.95s\n",
      "44:\tlearn: 0.3224294\ttotal: 229ms\tremaining: 4.86s\n",
      "45:\tlearn: 0.3177428\ttotal: 230ms\tremaining: 4.78s\n",
      "46:\tlearn: 0.3134254\ttotal: 232ms\tremaining: 4.7s\n",
      "47:\tlearn: 0.3085634\ttotal: 233ms\tremaining: 4.63s\n",
      "48:\tlearn: 0.3042409\ttotal: 235ms\tremaining: 4.56s\n",
      "49:\tlearn: 0.2998743\ttotal: 236ms\tremaining: 4.49s\n",
      "50:\tlearn: 0.2955656\ttotal: 237ms\tremaining: 4.42s\n",
      "51:\tlearn: 0.2916427\ttotal: 239ms\tremaining: 4.35s\n",
      "52:\tlearn: 0.2880594\ttotal: 240ms\tremaining: 4.29s\n",
      "53:\tlearn: 0.2842132\ttotal: 241ms\tremaining: 4.23s\n",
      "54:\tlearn: 0.2798637\ttotal: 243ms\tremaining: 4.17s\n",
      "55:\tlearn: 0.2759325\ttotal: 244ms\tremaining: 4.11s\n",
      "56:\tlearn: 0.2719806\ttotal: 245ms\tremaining: 4.05s\n",
      "57:\tlearn: 0.2682452\ttotal: 246ms\tremaining: 4s\n",
      "58:\tlearn: 0.2641618\ttotal: 248ms\tremaining: 3.95s\n",
      "59:\tlearn: 0.2603355\ttotal: 249ms\tremaining: 3.9s\n",
      "60:\tlearn: 0.2560460\ttotal: 251ms\tremaining: 3.86s\n",
      "61:\tlearn: 0.2526602\ttotal: 252ms\tremaining: 3.81s\n",
      "62:\tlearn: 0.2497357\ttotal: 253ms\tremaining: 3.77s\n",
      "63:\tlearn: 0.2465377\ttotal: 255ms\tremaining: 3.72s\n",
      "64:\tlearn: 0.2429185\ttotal: 256ms\tremaining: 3.68s\n",
      "65:\tlearn: 0.2398501\ttotal: 258ms\tremaining: 3.64s\n",
      "66:\tlearn: 0.2365787\ttotal: 259ms\tremaining: 3.6s\n",
      "67:\tlearn: 0.2336936\ttotal: 260ms\tremaining: 3.57s\n",
      "68:\tlearn: 0.2310824\ttotal: 262ms\tremaining: 3.53s\n",
      "69:\tlearn: 0.2278697\ttotal: 263ms\tremaining: 3.5s\n",
      "70:\tlearn: 0.2249020\ttotal: 265ms\tremaining: 3.46s\n",
      "71:\tlearn: 0.2219130\ttotal: 266ms\tremaining: 3.43s\n",
      "72:\tlearn: 0.2190008\ttotal: 267ms\tremaining: 3.39s\n",
      "73:\tlearn: 0.2165815\ttotal: 269ms\tremaining: 3.36s\n",
      "74:\tlearn: 0.2140732\ttotal: 270ms\tremaining: 3.33s\n",
      "75:\tlearn: 0.2115550\ttotal: 271ms\tremaining: 3.3s\n",
      "76:\tlearn: 0.2087793\ttotal: 273ms\tremaining: 3.27s\n",
      "77:\tlearn: 0.2059283\ttotal: 274ms\tremaining: 3.24s\n",
      "78:\tlearn: 0.2031922\ttotal: 275ms\tremaining: 3.21s\n",
      "79:\tlearn: 0.2005412\ttotal: 277ms\tremaining: 3.18s\n",
      "80:\tlearn: 0.1977691\ttotal: 278ms\tremaining: 3.15s\n",
      "81:\tlearn: 0.1954012\ttotal: 279ms\tremaining: 3.13s\n",
      "82:\tlearn: 0.1927005\ttotal: 281ms\tremaining: 3.1s\n",
      "83:\tlearn: 0.1901220\ttotal: 282ms\tremaining: 3.08s\n",
      "84:\tlearn: 0.1875248\ttotal: 284ms\tremaining: 3.05s\n",
      "85:\tlearn: 0.1853865\ttotal: 285ms\tremaining: 3.03s\n",
      "86:\tlearn: 0.1836272\ttotal: 286ms\tremaining: 3s\n",
      "87:\tlearn: 0.1811851\ttotal: 288ms\tremaining: 2.98s\n",
      "88:\tlearn: 0.1791962\ttotal: 289ms\tremaining: 2.96s\n",
      "89:\tlearn: 0.1770810\ttotal: 291ms\tremaining: 2.94s\n",
      "90:\tlearn: 0.1752415\ttotal: 292ms\tremaining: 2.92s\n",
      "91:\tlearn: 0.1732464\ttotal: 293ms\tremaining: 2.9s\n",
      "92:\tlearn: 0.1715841\ttotal: 295ms\tremaining: 2.88s\n",
      "93:\tlearn: 0.1698714\ttotal: 296ms\tremaining: 2.85s\n",
      "94:\tlearn: 0.1682126\ttotal: 298ms\tremaining: 2.84s\n",
      "95:\tlearn: 0.1663060\ttotal: 299ms\tremaining: 2.82s\n",
      "96:\tlearn: 0.1650267\ttotal: 301ms\tremaining: 2.8s\n",
      "97:\tlearn: 0.1634107\ttotal: 302ms\tremaining: 2.78s\n",
      "98:\tlearn: 0.1614193\ttotal: 303ms\tremaining: 2.76s\n",
      "99:\tlearn: 0.1600936\ttotal: 305ms\tremaining: 2.74s\n",
      "100:\tlearn: 0.1585102\ttotal: 306ms\tremaining: 2.73s\n",
      "101:\tlearn: 0.1570004\ttotal: 308ms\tremaining: 2.71s\n",
      "102:\tlearn: 0.1554033\ttotal: 309ms\tremaining: 2.69s\n",
      "103:\tlearn: 0.1538650\ttotal: 310ms\tremaining: 2.67s\n",
      "104:\tlearn: 0.1522606\ttotal: 312ms\tremaining: 2.66s\n",
      "105:\tlearn: 0.1506264\ttotal: 313ms\tremaining: 2.64s\n",
      "106:\tlearn: 0.1489299\ttotal: 315ms\tremaining: 2.63s\n",
      "107:\tlearn: 0.1475976\ttotal: 316ms\tremaining: 2.61s\n",
      "108:\tlearn: 0.1457606\ttotal: 318ms\tremaining: 2.6s\n",
      "109:\tlearn: 0.1443811\ttotal: 319ms\tremaining: 2.58s\n",
      "110:\tlearn: 0.1430103\ttotal: 320ms\tremaining: 2.56s\n",
      "111:\tlearn: 0.1416764\ttotal: 322ms\tremaining: 2.55s\n",
      "112:\tlearn: 0.1404542\ttotal: 323ms\tremaining: 2.54s\n",
      "113:\tlearn: 0.1391222\ttotal: 324ms\tremaining: 2.52s\n",
      "114:\tlearn: 0.1376112\ttotal: 326ms\tremaining: 2.51s\n",
      "115:\tlearn: 0.1363185\ttotal: 327ms\tremaining: 2.49s\n",
      "116:\tlearn: 0.1348841\ttotal: 329ms\tremaining: 2.48s\n",
      "117:\tlearn: 0.1337793\ttotal: 330ms\tremaining: 2.47s\n",
      "118:\tlearn: 0.1323103\ttotal: 332ms\tremaining: 2.45s\n",
      "119:\tlearn: 0.1308555\ttotal: 333ms\tremaining: 2.44s\n",
      "120:\tlearn: 0.1298000\ttotal: 334ms\tremaining: 2.43s\n",
      "121:\tlearn: 0.1284073\ttotal: 336ms\tremaining: 2.42s\n",
      "122:\tlearn: 0.1272743\ttotal: 337ms\tremaining: 2.4s\n",
      "123:\tlearn: 0.1262010\ttotal: 338ms\tremaining: 2.39s\n",
      "124:\tlearn: 0.1250085\ttotal: 340ms\tremaining: 2.38s\n",
      "125:\tlearn: 0.1237396\ttotal: 341ms\tremaining: 2.37s\n",
      "126:\tlearn: 0.1227603\ttotal: 343ms\tremaining: 2.35s\n",
      "127:\tlearn: 0.1216137\ttotal: 344ms\tremaining: 2.34s\n",
      "128:\tlearn: 0.1204111\ttotal: 345ms\tremaining: 2.33s\n",
      "129:\tlearn: 0.1190811\ttotal: 347ms\tremaining: 2.32s\n",
      "130:\tlearn: 0.1178981\ttotal: 348ms\tremaining: 2.31s\n",
      "131:\tlearn: 0.1168593\ttotal: 350ms\tremaining: 2.3s\n",
      "132:\tlearn: 0.1159168\ttotal: 351ms\tremaining: 2.29s\n",
      "133:\tlearn: 0.1149518\ttotal: 352ms\tremaining: 2.28s\n",
      "134:\tlearn: 0.1138206\ttotal: 354ms\tremaining: 2.27s\n",
      "135:\tlearn: 0.1130015\ttotal: 355ms\tremaining: 2.26s\n",
      "136:\tlearn: 0.1119936\ttotal: 357ms\tremaining: 2.25s\n",
      "137:\tlearn: 0.1110092\ttotal: 358ms\tremaining: 2.23s\n",
      "138:\tlearn: 0.1099934\ttotal: 359ms\tremaining: 2.23s\n",
      "139:\tlearn: 0.1091280\ttotal: 361ms\tremaining: 2.21s\n",
      "140:\tlearn: 0.1080292\ttotal: 362ms\tremaining: 2.21s\n",
      "141:\tlearn: 0.1072468\ttotal: 363ms\tremaining: 2.19s\n",
      "142:\tlearn: 0.1062735\ttotal: 365ms\tremaining: 2.19s\n",
      "143:\tlearn: 0.1055001\ttotal: 366ms\tremaining: 2.17s\n",
      "144:\tlearn: 0.1048710\ttotal: 367ms\tremaining: 2.17s\n",
      "145:\tlearn: 0.1040196\ttotal: 369ms\tremaining: 2.16s\n",
      "146:\tlearn: 0.1032298\ttotal: 370ms\tremaining: 2.15s\n",
      "147:\tlearn: 0.1026141\ttotal: 371ms\tremaining: 2.14s\n",
      "148:\tlearn: 0.1019624\ttotal: 373ms\tremaining: 2.13s\n",
      "149:\tlearn: 0.1012880\ttotal: 374ms\tremaining: 2.12s\n",
      "150:\tlearn: 0.1004131\ttotal: 375ms\tremaining: 2.11s\n",
      "151:\tlearn: 0.0997450\ttotal: 377ms\tremaining: 2.1s\n",
      "152:\tlearn: 0.0989194\ttotal: 378ms\tremaining: 2.09s\n",
      "153:\tlearn: 0.0981258\ttotal: 380ms\tremaining: 2.08s\n",
      "154:\tlearn: 0.0971925\ttotal: 381ms\tremaining: 2.08s\n",
      "155:\tlearn: 0.0965076\ttotal: 382ms\tremaining: 2.07s\n",
      "156:\tlearn: 0.0958875\ttotal: 384ms\tremaining: 2.06s\n",
      "157:\tlearn: 0.0950472\ttotal: 385ms\tremaining: 2.05s\n",
      "158:\tlearn: 0.0942064\ttotal: 386ms\tremaining: 2.04s\n",
      "159:\tlearn: 0.0934334\ttotal: 388ms\tremaining: 2.04s\n",
      "160:\tlearn: 0.0927898\ttotal: 389ms\tremaining: 2.03s\n",
      "161:\tlearn: 0.0921414\ttotal: 390ms\tremaining: 2.02s\n",
      "162:\tlearn: 0.0916315\ttotal: 392ms\tremaining: 2.01s\n",
      "163:\tlearn: 0.0909904\ttotal: 393ms\tremaining: 2s\n",
      "164:\tlearn: 0.0902270\ttotal: 395ms\tremaining: 2s\n",
      "165:\tlearn: 0.0894435\ttotal: 396ms\tremaining: 1.99s\n",
      "166:\tlearn: 0.0887616\ttotal: 397ms\tremaining: 1.98s\n",
      "167:\tlearn: 0.0880293\ttotal: 399ms\tremaining: 1.97s\n",
      "168:\tlearn: 0.0874371\ttotal: 400ms\tremaining: 1.97s\n",
      "169:\tlearn: 0.0865725\ttotal: 402ms\tremaining: 1.96s\n",
      "170:\tlearn: 0.0861434\ttotal: 403ms\tremaining: 1.95s\n",
      "171:\tlearn: 0.0854864\ttotal: 405ms\tremaining: 1.95s\n",
      "172:\tlearn: 0.0849875\ttotal: 406ms\tremaining: 1.94s\n",
      "173:\tlearn: 0.0845812\ttotal: 407ms\tremaining: 1.93s\n",
      "174:\tlearn: 0.0840359\ttotal: 409ms\tremaining: 1.93s\n",
      "175:\tlearn: 0.0833781\ttotal: 410ms\tremaining: 1.92s\n",
      "176:\tlearn: 0.0826752\ttotal: 412ms\tremaining: 1.91s\n",
      "177:\tlearn: 0.0819124\ttotal: 413ms\tremaining: 1.91s\n",
      "178:\tlearn: 0.0813146\ttotal: 415ms\tremaining: 1.9s\n",
      "179:\tlearn: 0.0807444\ttotal: 416ms\tremaining: 1.9s\n",
      "180:\tlearn: 0.0803698\ttotal: 418ms\tremaining: 1.89s\n",
      "181:\tlearn: 0.0796745\ttotal: 419ms\tremaining: 1.89s\n",
      "182:\tlearn: 0.0790262\ttotal: 421ms\tremaining: 1.88s\n",
      "183:\tlearn: 0.0787168\ttotal: 422ms\tremaining: 1.87s\n",
      "184:\tlearn: 0.0782194\ttotal: 424ms\tremaining: 1.87s\n",
      "185:\tlearn: 0.0777551\ttotal: 425ms\tremaining: 1.86s\n",
      "186:\tlearn: 0.0772409\ttotal: 426ms\tremaining: 1.85s\n",
      "187:\tlearn: 0.0767993\ttotal: 428ms\tremaining: 1.85s\n",
      "188:\tlearn: 0.0763606\ttotal: 429ms\tremaining: 1.84s\n",
      "189:\tlearn: 0.0758545\ttotal: 431ms\tremaining: 1.83s\n",
      "190:\tlearn: 0.0752827\ttotal: 432ms\tremaining: 1.83s\n",
      "191:\tlearn: 0.0749491\ttotal: 433ms\tremaining: 1.82s\n",
      "192:\tlearn: 0.0745487\ttotal: 435ms\tremaining: 1.82s\n",
      "193:\tlearn: 0.0742186\ttotal: 436ms\tremaining: 1.81s\n",
      "194:\tlearn: 0.0737460\ttotal: 438ms\tremaining: 1.81s\n",
      "195:\tlearn: 0.0733082\ttotal: 439ms\tremaining: 1.8s\n",
      "196:\tlearn: 0.0727210\ttotal: 440ms\tremaining: 1.79s\n",
      "197:\tlearn: 0.0723297\ttotal: 442ms\tremaining: 1.79s\n",
      "198:\tlearn: 0.0718028\ttotal: 443ms\tremaining: 1.78s\n",
      "199:\tlearn: 0.0713369\ttotal: 445ms\tremaining: 1.78s\n",
      "200:\tlearn: 0.0708768\ttotal: 446ms\tremaining: 1.77s\n",
      "201:\tlearn: 0.0705406\ttotal: 447ms\tremaining: 1.77s\n",
      "202:\tlearn: 0.0700982\ttotal: 449ms\tremaining: 1.76s\n",
      "203:\tlearn: 0.0697100\ttotal: 450ms\tremaining: 1.75s\n",
      "204:\tlearn: 0.0693309\ttotal: 451ms\tremaining: 1.75s\n",
      "205:\tlearn: 0.0689106\ttotal: 453ms\tremaining: 1.74s\n",
      "206:\tlearn: 0.0685178\ttotal: 454ms\tremaining: 1.74s\n",
      "207:\tlearn: 0.0681177\ttotal: 455ms\tremaining: 1.73s\n",
      "208:\tlearn: 0.0678034\ttotal: 457ms\tremaining: 1.73s\n",
      "209:\tlearn: 0.0674723\ttotal: 458ms\tremaining: 1.72s\n",
      "210:\tlearn: 0.0670501\ttotal: 460ms\tremaining: 1.72s\n",
      "211:\tlearn: 0.0666330\ttotal: 461ms\tremaining: 1.71s\n",
      "212:\tlearn: 0.0662231\ttotal: 463ms\tremaining: 1.71s\n",
      "213:\tlearn: 0.0657969\ttotal: 464ms\tremaining: 1.7s\n",
      "214:\tlearn: 0.0653911\ttotal: 465ms\tremaining: 1.7s\n",
      "215:\tlearn: 0.0651323\ttotal: 467ms\tremaining: 1.69s\n",
      "216:\tlearn: 0.0647204\ttotal: 468ms\tremaining: 1.69s\n",
      "217:\tlearn: 0.0643634\ttotal: 469ms\tremaining: 1.68s\n",
      "218:\tlearn: 0.0639796\ttotal: 471ms\tremaining: 1.68s\n",
      "219:\tlearn: 0.0637015\ttotal: 472ms\tremaining: 1.67s\n",
      "220:\tlearn: 0.0633271\ttotal: 474ms\tremaining: 1.67s\n",
      "221:\tlearn: 0.0630402\ttotal: 475ms\tremaining: 1.66s\n",
      "222:\tlearn: 0.0626364\ttotal: 476ms\tremaining: 1.66s\n",
      "223:\tlearn: 0.0623923\ttotal: 478ms\tremaining: 1.65s\n",
      "224:\tlearn: 0.0620397\ttotal: 479ms\tremaining: 1.65s\n",
      "225:\tlearn: 0.0617160\ttotal: 480ms\tremaining: 1.64s\n",
      "226:\tlearn: 0.0613606\ttotal: 482ms\tremaining: 1.64s\n",
      "227:\tlearn: 0.0610527\ttotal: 483ms\tremaining: 1.64s\n",
      "228:\tlearn: 0.0606741\ttotal: 485ms\tremaining: 1.63s\n",
      "229:\tlearn: 0.0603830\ttotal: 486ms\tremaining: 1.63s\n",
      "230:\tlearn: 0.0600277\ttotal: 487ms\tremaining: 1.62s\n",
      "231:\tlearn: 0.0597112\ttotal: 489ms\tremaining: 1.62s\n",
      "232:\tlearn: 0.0593417\ttotal: 490ms\tremaining: 1.61s\n",
      "233:\tlearn: 0.0590253\ttotal: 492ms\tremaining: 1.61s\n",
      "234:\tlearn: 0.0586693\ttotal: 493ms\tremaining: 1.6s\n",
      "235:\tlearn: 0.0583549\ttotal: 494ms\tremaining: 1.6s\n",
      "236:\tlearn: 0.0579636\ttotal: 496ms\tremaining: 1.59s\n",
      "237:\tlearn: 0.0577277\ttotal: 497ms\tremaining: 1.59s\n",
      "238:\tlearn: 0.0575000\ttotal: 498ms\tremaining: 1.59s\n",
      "239:\tlearn: 0.0571622\ttotal: 500ms\tremaining: 1.58s\n",
      "240:\tlearn: 0.0568853\ttotal: 501ms\tremaining: 1.58s\n",
      "241:\tlearn: 0.0566381\ttotal: 502ms\tremaining: 1.57s\n",
      "242:\tlearn: 0.0563407\ttotal: 504ms\tremaining: 1.57s\n",
      "243:\tlearn: 0.0561530\ttotal: 505ms\tremaining: 1.56s\n",
      "244:\tlearn: 0.0558232\ttotal: 507ms\tremaining: 1.56s\n",
      "245:\tlearn: 0.0555091\ttotal: 508ms\tremaining: 1.56s\n",
      "246:\tlearn: 0.0552634\ttotal: 510ms\tremaining: 1.55s\n",
      "247:\tlearn: 0.0550318\ttotal: 511ms\tremaining: 1.55s\n",
      "248:\tlearn: 0.0548307\ttotal: 512ms\tremaining: 1.54s\n",
      "249:\tlearn: 0.0545316\ttotal: 514ms\tremaining: 1.54s\n",
      "250:\tlearn: 0.0543375\ttotal: 515ms\tremaining: 1.54s\n",
      "251:\tlearn: 0.0541121\ttotal: 516ms\tremaining: 1.53s\n",
      "252:\tlearn: 0.0538661\ttotal: 518ms\tremaining: 1.53s\n",
      "253:\tlearn: 0.0536124\ttotal: 519ms\tremaining: 1.52s\n",
      "254:\tlearn: 0.0533930\ttotal: 520ms\tremaining: 1.52s\n",
      "255:\tlearn: 0.0531225\ttotal: 522ms\tremaining: 1.52s\n",
      "256:\tlearn: 0.0527982\ttotal: 523ms\tremaining: 1.51s\n",
      "257:\tlearn: 0.0526008\ttotal: 525ms\tremaining: 1.51s\n",
      "258:\tlearn: 0.0524067\ttotal: 526ms\tremaining: 1.5s\n",
      "259:\tlearn: 0.0521960\ttotal: 528ms\tremaining: 1.5s\n",
      "260:\tlearn: 0.0519283\ttotal: 529ms\tremaining: 1.5s\n",
      "261:\tlearn: 0.0515828\ttotal: 530ms\tremaining: 1.49s\n",
      "262:\tlearn: 0.0513967\ttotal: 532ms\tremaining: 1.49s\n",
      "263:\tlearn: 0.0511975\ttotal: 533ms\tremaining: 1.49s\n",
      "264:\tlearn: 0.0510501\ttotal: 534ms\tremaining: 1.48s\n",
      "265:\tlearn: 0.0507469\ttotal: 536ms\tremaining: 1.48s\n",
      "266:\tlearn: 0.0504556\ttotal: 537ms\tremaining: 1.47s\n",
      "267:\tlearn: 0.0502335\ttotal: 539ms\tremaining: 1.47s\n",
      "268:\tlearn: 0.0500649\ttotal: 540ms\tremaining: 1.47s\n",
      "269:\tlearn: 0.0498887\ttotal: 541ms\tremaining: 1.46s\n",
      "270:\tlearn: 0.0496572\ttotal: 543ms\tremaining: 1.46s\n",
      "271:\tlearn: 0.0494349\ttotal: 544ms\tremaining: 1.46s\n",
      "272:\tlearn: 0.0491909\ttotal: 546ms\tremaining: 1.45s\n",
      "273:\tlearn: 0.0490098\ttotal: 547ms\tremaining: 1.45s\n",
      "274:\tlearn: 0.0487645\ttotal: 548ms\tremaining: 1.45s\n",
      "275:\tlearn: 0.0486230\ttotal: 550ms\tremaining: 1.44s\n",
      "276:\tlearn: 0.0484175\ttotal: 551ms\tremaining: 1.44s\n",
      "277:\tlearn: 0.0481811\ttotal: 552ms\tremaining: 1.43s\n",
      "278:\tlearn: 0.0479844\ttotal: 554ms\tremaining: 1.43s\n",
      "279:\tlearn: 0.0477224\ttotal: 555ms\tremaining: 1.43s\n",
      "280:\tlearn: 0.0475202\ttotal: 557ms\tremaining: 1.42s\n",
      "281:\tlearn: 0.0473886\ttotal: 558ms\tremaining: 1.42s\n",
      "282:\tlearn: 0.0472008\ttotal: 559ms\tremaining: 1.42s\n",
      "283:\tlearn: 0.0470889\ttotal: 561ms\tremaining: 1.41s\n",
      "284:\tlearn: 0.0468802\ttotal: 562ms\tremaining: 1.41s\n",
      "285:\tlearn: 0.0466753\ttotal: 564ms\tremaining: 1.41s\n",
      "286:\tlearn: 0.0464973\ttotal: 565ms\tremaining: 1.4s\n",
      "287:\tlearn: 0.0463250\ttotal: 566ms\tremaining: 1.4s\n",
      "288:\tlearn: 0.0460801\ttotal: 567ms\tremaining: 1.4s\n",
      "289:\tlearn: 0.0458861\ttotal: 569ms\tremaining: 1.39s\n",
      "290:\tlearn: 0.0457252\ttotal: 570ms\tremaining: 1.39s\n",
      "291:\tlearn: 0.0455437\ttotal: 572ms\tremaining: 1.39s\n",
      "292:\tlearn: 0.0453056\ttotal: 573ms\tremaining: 1.38s\n",
      "293:\tlearn: 0.0450916\ttotal: 575ms\tremaining: 1.38s\n",
      "294:\tlearn: 0.0449891\ttotal: 576ms\tremaining: 1.38s\n",
      "295:\tlearn: 0.0447967\ttotal: 577ms\tremaining: 1.37s\n",
      "296:\tlearn: 0.0446794\ttotal: 579ms\tremaining: 1.37s\n",
      "297:\tlearn: 0.0445685\ttotal: 580ms\tremaining: 1.37s\n",
      "298:\tlearn: 0.0443216\ttotal: 581ms\tremaining: 1.36s\n",
      "299:\tlearn: 0.0440800\ttotal: 583ms\tremaining: 1.36s\n",
      "300:\tlearn: 0.0438819\ttotal: 584ms\tremaining: 1.36s\n",
      "301:\tlearn: 0.0437347\ttotal: 585ms\tremaining: 1.35s\n",
      "302:\tlearn: 0.0435487\ttotal: 587ms\tremaining: 1.35s\n",
      "303:\tlearn: 0.0433714\ttotal: 588ms\tremaining: 1.35s\n",
      "304:\tlearn: 0.0432183\ttotal: 590ms\tremaining: 1.34s\n",
      "305:\tlearn: 0.0430531\ttotal: 591ms\tremaining: 1.34s\n",
      "306:\tlearn: 0.0428291\ttotal: 592ms\tremaining: 1.34s\n",
      "307:\tlearn: 0.0426246\ttotal: 594ms\tremaining: 1.33s\n",
      "308:\tlearn: 0.0424624\ttotal: 595ms\tremaining: 1.33s\n",
      "309:\tlearn: 0.0423608\ttotal: 597ms\tremaining: 1.33s\n",
      "310:\tlearn: 0.0422293\ttotal: 598ms\tremaining: 1.32s\n",
      "311:\tlearn: 0.0421224\ttotal: 599ms\tremaining: 1.32s\n",
      "312:\tlearn: 0.0419392\ttotal: 601ms\tremaining: 1.32s\n",
      "313:\tlearn: 0.0417531\ttotal: 602ms\tremaining: 1.31s\n",
      "314:\tlearn: 0.0415774\ttotal: 604ms\tremaining: 1.31s\n",
      "315:\tlearn: 0.0413998\ttotal: 605ms\tremaining: 1.31s\n",
      "316:\tlearn: 0.0413109\ttotal: 607ms\tremaining: 1.31s\n",
      "317:\tlearn: 0.0411619\ttotal: 608ms\tremaining: 1.3s\n",
      "318:\tlearn: 0.0411039\ttotal: 610ms\tremaining: 1.3s\n",
      "319:\tlearn: 0.0408931\ttotal: 611ms\tremaining: 1.3s\n",
      "320:\tlearn: 0.0407987\ttotal: 613ms\tremaining: 1.3s\n",
      "321:\tlearn: 0.0406334\ttotal: 614ms\tremaining: 1.29s\n",
      "322:\tlearn: 0.0405502\ttotal: 616ms\tremaining: 1.29s\n",
      "323:\tlearn: 0.0404039\ttotal: 618ms\tremaining: 1.29s\n",
      "324:\tlearn: 0.0402080\ttotal: 619ms\tremaining: 1.29s\n",
      "325:\tlearn: 0.0400736\ttotal: 621ms\tremaining: 1.28s\n",
      "326:\tlearn: 0.0399672\ttotal: 622ms\tremaining: 1.28s\n",
      "327:\tlearn: 0.0398576\ttotal: 624ms\tremaining: 1.28s\n",
      "328:\tlearn: 0.0397112\ttotal: 625ms\tremaining: 1.27s\n",
      "329:\tlearn: 0.0395843\ttotal: 626ms\tremaining: 1.27s\n",
      "330:\tlearn: 0.0394109\ttotal: 628ms\tremaining: 1.27s\n",
      "331:\tlearn: 0.0393053\ttotal: 629ms\tremaining: 1.26s\n",
      "332:\tlearn: 0.0391754\ttotal: 630ms\tremaining: 1.26s\n",
      "333:\tlearn: 0.0391153\ttotal: 632ms\tremaining: 1.26s\n",
      "334:\tlearn: 0.0389680\ttotal: 633ms\tremaining: 1.26s\n",
      "335:\tlearn: 0.0388217\ttotal: 635ms\tremaining: 1.25s\n",
      "336:\tlearn: 0.0386506\ttotal: 636ms\tremaining: 1.25s\n",
      "337:\tlearn: 0.0385270\ttotal: 637ms\tremaining: 1.25s\n",
      "338:\tlearn: 0.0384029\ttotal: 639ms\tremaining: 1.25s\n",
      "339:\tlearn: 0.0382401\ttotal: 640ms\tremaining: 1.24s\n",
      "340:\tlearn: 0.0381771\ttotal: 641ms\tremaining: 1.24s\n",
      "341:\tlearn: 0.0380286\ttotal: 642ms\tremaining: 1.24s\n",
      "342:\tlearn: 0.0379298\ttotal: 644ms\tremaining: 1.23s\n",
      "343:\tlearn: 0.0377736\ttotal: 645ms\tremaining: 1.23s\n",
      "344:\tlearn: 0.0376714\ttotal: 647ms\tremaining: 1.23s\n",
      "345:\tlearn: 0.0376015\ttotal: 648ms\tremaining: 1.22s\n",
      "346:\tlearn: 0.0374471\ttotal: 649ms\tremaining: 1.22s\n",
      "347:\tlearn: 0.0373125\ttotal: 651ms\tremaining: 1.22s\n",
      "348:\tlearn: 0.0372263\ttotal: 652ms\tremaining: 1.22s\n",
      "349:\tlearn: 0.0370771\ttotal: 654ms\tremaining: 1.21s\n",
      "350:\tlearn: 0.0369322\ttotal: 655ms\tremaining: 1.21s\n",
      "351:\tlearn: 0.0367828\ttotal: 656ms\tremaining: 1.21s\n",
      "352:\tlearn: 0.0366650\ttotal: 658ms\tremaining: 1.21s\n",
      "353:\tlearn: 0.0365753\ttotal: 659ms\tremaining: 1.2s\n",
      "354:\tlearn: 0.0364254\ttotal: 661ms\tremaining: 1.2s\n",
      "355:\tlearn: 0.0362957\ttotal: 662ms\tremaining: 1.2s\n",
      "356:\tlearn: 0.0361805\ttotal: 663ms\tremaining: 1.19s\n",
      "357:\tlearn: 0.0361312\ttotal: 665ms\tremaining: 1.19s\n",
      "358:\tlearn: 0.0360462\ttotal: 666ms\tremaining: 1.19s\n",
      "359:\tlearn: 0.0359189\ttotal: 667ms\tremaining: 1.19s\n",
      "360:\tlearn: 0.0358650\ttotal: 669ms\tremaining: 1.18s\n",
      "361:\tlearn: 0.0357660\ttotal: 670ms\tremaining: 1.18s\n",
      "362:\tlearn: 0.0356345\ttotal: 671ms\tremaining: 1.18s\n",
      "363:\tlearn: 0.0355431\ttotal: 673ms\tremaining: 1.18s\n",
      "364:\tlearn: 0.0354381\ttotal: 674ms\tremaining: 1.17s\n",
      "365:\tlearn: 0.0353094\ttotal: 675ms\tremaining: 1.17s\n",
      "366:\tlearn: 0.0351382\ttotal: 677ms\tremaining: 1.17s\n",
      "367:\tlearn: 0.0350026\ttotal: 678ms\tremaining: 1.16s\n",
      "368:\tlearn: 0.0349065\ttotal: 680ms\tremaining: 1.16s\n",
      "369:\tlearn: 0.0348719\ttotal: 681ms\tremaining: 1.16s\n",
      "370:\tlearn: 0.0347064\ttotal: 682ms\tremaining: 1.16s\n",
      "371:\tlearn: 0.0345814\ttotal: 684ms\tremaining: 1.15s\n",
      "372:\tlearn: 0.0344604\ttotal: 685ms\tremaining: 1.15s\n",
      "373:\tlearn: 0.0343499\ttotal: 686ms\tremaining: 1.15s\n",
      "374:\tlearn: 0.0342210\ttotal: 688ms\tremaining: 1.15s\n",
      "375:\tlearn: 0.0341303\ttotal: 689ms\tremaining: 1.14s\n",
      "376:\tlearn: 0.0340361\ttotal: 691ms\tremaining: 1.14s\n",
      "377:\tlearn: 0.0338821\ttotal: 692ms\tremaining: 1.14s\n",
      "378:\tlearn: 0.0338421\ttotal: 693ms\tremaining: 1.14s\n",
      "379:\tlearn: 0.0336922\ttotal: 695ms\tremaining: 1.13s\n",
      "380:\tlearn: 0.0335518\ttotal: 696ms\tremaining: 1.13s\n",
      "381:\tlearn: 0.0334231\ttotal: 697ms\tremaining: 1.13s\n",
      "382:\tlearn: 0.0333162\ttotal: 699ms\tremaining: 1.13s\n",
      "383:\tlearn: 0.0332159\ttotal: 700ms\tremaining: 1.12s\n",
      "384:\tlearn: 0.0331100\ttotal: 702ms\tremaining: 1.12s\n",
      "385:\tlearn: 0.0329892\ttotal: 703ms\tremaining: 1.12s\n",
      "386:\tlearn: 0.0328947\ttotal: 704ms\tremaining: 1.11s\n",
      "387:\tlearn: 0.0327273\ttotal: 706ms\tremaining: 1.11s\n",
      "388:\tlearn: 0.0326074\ttotal: 707ms\tremaining: 1.11s\n",
      "389:\tlearn: 0.0325209\ttotal: 708ms\tremaining: 1.11s\n",
      "390:\tlearn: 0.0324152\ttotal: 710ms\tremaining: 1.1s\n",
      "391:\tlearn: 0.0323205\ttotal: 711ms\tremaining: 1.1s\n",
      "392:\tlearn: 0.0322336\ttotal: 712ms\tremaining: 1.1s\n",
      "393:\tlearn: 0.0320723\ttotal: 714ms\tremaining: 1.1s\n",
      "394:\tlearn: 0.0319484\ttotal: 715ms\tremaining: 1.09s\n",
      "395:\tlearn: 0.0318678\ttotal: 717ms\tremaining: 1.09s\n",
      "396:\tlearn: 0.0318099\ttotal: 718ms\tremaining: 1.09s\n",
      "397:\tlearn: 0.0316681\ttotal: 719ms\tremaining: 1.09s\n",
      "398:\tlearn: 0.0316001\ttotal: 721ms\tremaining: 1.08s\n",
      "399:\tlearn: 0.0315257\ttotal: 722ms\tremaining: 1.08s\n",
      "400:\tlearn: 0.0314331\ttotal: 723ms\tremaining: 1.08s\n",
      "401:\tlearn: 0.0313311\ttotal: 725ms\tremaining: 1.08s\n",
      "402:\tlearn: 0.0312440\ttotal: 726ms\tremaining: 1.07s\n",
      "403:\tlearn: 0.0311523\ttotal: 727ms\tremaining: 1.07s\n",
      "404:\tlearn: 0.0310416\ttotal: 729ms\tremaining: 1.07s\n",
      "405:\tlearn: 0.0309242\ttotal: 730ms\tremaining: 1.07s\n",
      "406:\tlearn: 0.0308190\ttotal: 732ms\tremaining: 1.06s\n",
      "407:\tlearn: 0.0307314\ttotal: 733ms\tremaining: 1.06s\n",
      "408:\tlearn: 0.0306533\ttotal: 734ms\tremaining: 1.06s\n",
      "409:\tlearn: 0.0305851\ttotal: 736ms\tremaining: 1.06s\n",
      "410:\tlearn: 0.0305091\ttotal: 737ms\tremaining: 1.06s\n",
      "411:\tlearn: 0.0304614\ttotal: 738ms\tremaining: 1.05s\n",
      "412:\tlearn: 0.0303217\ttotal: 740ms\tremaining: 1.05s\n",
      "413:\tlearn: 0.0302369\ttotal: 741ms\tremaining: 1.05s\n",
      "414:\tlearn: 0.0301659\ttotal: 742ms\tremaining: 1.05s\n",
      "415:\tlearn: 0.0300706\ttotal: 744ms\tremaining: 1.04s\n",
      "416:\tlearn: 0.0299937\ttotal: 745ms\tremaining: 1.04s\n",
      "417:\tlearn: 0.0298402\ttotal: 747ms\tremaining: 1.04s\n",
      "418:\tlearn: 0.0297520\ttotal: 748ms\tremaining: 1.04s\n",
      "419:\tlearn: 0.0296021\ttotal: 749ms\tremaining: 1.03s\n",
      "420:\tlearn: 0.0294956\ttotal: 751ms\tremaining: 1.03s\n",
      "421:\tlearn: 0.0294517\ttotal: 753ms\tremaining: 1.03s\n",
      "422:\tlearn: 0.0293990\ttotal: 755ms\tremaining: 1.03s\n",
      "423:\tlearn: 0.0293278\ttotal: 756ms\tremaining: 1.03s\n",
      "424:\tlearn: 0.0292637\ttotal: 758ms\tremaining: 1.02s\n",
      "425:\tlearn: 0.0291628\ttotal: 759ms\tremaining: 1.02s\n",
      "426:\tlearn: 0.0290453\ttotal: 760ms\tremaining: 1.02s\n",
      "427:\tlearn: 0.0289433\ttotal: 762ms\tremaining: 1.02s\n",
      "428:\tlearn: 0.0288593\ttotal: 763ms\tremaining: 1.01s\n",
      "429:\tlearn: 0.0287787\ttotal: 765ms\tremaining: 1.01s\n",
      "430:\tlearn: 0.0287278\ttotal: 766ms\tremaining: 1.01s\n",
      "431:\tlearn: 0.0286167\ttotal: 767ms\tremaining: 1.01s\n",
      "432:\tlearn: 0.0285622\ttotal: 769ms\tremaining: 1.01s\n",
      "433:\tlearn: 0.0285199\ttotal: 770ms\tremaining: 1s\n",
      "434:\tlearn: 0.0284164\ttotal: 771ms\tremaining: 1s\n",
      "435:\tlearn: 0.0283685\ttotal: 773ms\tremaining: 1000ms\n",
      "436:\tlearn: 0.0282839\ttotal: 774ms\tremaining: 997ms\n",
      "437:\tlearn: 0.0282019\ttotal: 775ms\tremaining: 995ms\n",
      "438:\tlearn: 0.0281441\ttotal: 777ms\tremaining: 993ms\n",
      "439:\tlearn: 0.0280798\ttotal: 778ms\tremaining: 991ms\n",
      "440:\tlearn: 0.0279632\ttotal: 780ms\tremaining: 989ms\n",
      "441:\tlearn: 0.0278952\ttotal: 781ms\tremaining: 987ms\n",
      "442:\tlearn: 0.0278075\ttotal: 783ms\tremaining: 984ms\n",
      "443:\tlearn: 0.0277446\ttotal: 784ms\tremaining: 982ms\n",
      "444:\tlearn: 0.0276821\ttotal: 786ms\tremaining: 980ms\n",
      "445:\tlearn: 0.0276340\ttotal: 787ms\tremaining: 978ms\n",
      "446:\tlearn: 0.0275560\ttotal: 788ms\tremaining: 975ms\n",
      "447:\tlearn: 0.0274967\ttotal: 790ms\tremaining: 973ms\n",
      "448:\tlearn: 0.0274199\ttotal: 791ms\tremaining: 971ms\n",
      "449:\tlearn: 0.0272993\ttotal: 793ms\tremaining: 969ms\n",
      "450:\tlearn: 0.0272438\ttotal: 794ms\tremaining: 966ms\n",
      "451:\tlearn: 0.0271448\ttotal: 795ms\tremaining: 964ms\n",
      "452:\tlearn: 0.0270587\ttotal: 797ms\tremaining: 962ms\n",
      "453:\tlearn: 0.0269750\ttotal: 798ms\tremaining: 960ms\n",
      "454:\tlearn: 0.0269101\ttotal: 800ms\tremaining: 958ms\n",
      "455:\tlearn: 0.0268173\ttotal: 801ms\tremaining: 956ms\n",
      "456:\tlearn: 0.0267250\ttotal: 803ms\tremaining: 954ms\n",
      "457:\tlearn: 0.0266252\ttotal: 804ms\tremaining: 951ms\n",
      "458:\tlearn: 0.0265329\ttotal: 805ms\tremaining: 949ms\n",
      "459:\tlearn: 0.0264400\ttotal: 807ms\tremaining: 947ms\n",
      "460:\tlearn: 0.0263762\ttotal: 809ms\tremaining: 945ms\n",
      "461:\tlearn: 0.0263280\ttotal: 810ms\tremaining: 944ms\n",
      "462:\tlearn: 0.0262872\ttotal: 812ms\tremaining: 942ms\n",
      "463:\tlearn: 0.0262508\ttotal: 814ms\tremaining: 940ms\n",
      "464:\tlearn: 0.0261421\ttotal: 815ms\tremaining: 938ms\n",
      "465:\tlearn: 0.0260739\ttotal: 817ms\tremaining: 936ms\n",
      "466:\tlearn: 0.0260363\ttotal: 818ms\tremaining: 934ms\n",
      "467:\tlearn: 0.0259997\ttotal: 820ms\tremaining: 932ms\n",
      "468:\tlearn: 0.0259392\ttotal: 821ms\tremaining: 930ms\n",
      "469:\tlearn: 0.0259258\ttotal: 823ms\tremaining: 928ms\n",
      "470:\tlearn: 0.0258565\ttotal: 824ms\tremaining: 926ms\n",
      "471:\tlearn: 0.0257564\ttotal: 826ms\tremaining: 924ms\n",
      "472:\tlearn: 0.0257347\ttotal: 827ms\tremaining: 922ms\n",
      "473:\tlearn: 0.0256854\ttotal: 829ms\tremaining: 919ms\n",
      "474:\tlearn: 0.0256174\ttotal: 830ms\tremaining: 917ms\n",
      "475:\tlearn: 0.0255831\ttotal: 831ms\tremaining: 915ms\n",
      "476:\tlearn: 0.0255238\ttotal: 833ms\tremaining: 913ms\n",
      "477:\tlearn: 0.0254587\ttotal: 834ms\tremaining: 911ms\n",
      "478:\tlearn: 0.0253877\ttotal: 835ms\tremaining: 909ms\n",
      "479:\tlearn: 0.0253065\ttotal: 837ms\tremaining: 907ms\n",
      "480:\tlearn: 0.0252369\ttotal: 838ms\tremaining: 904ms\n",
      "481:\tlearn: 0.0251438\ttotal: 840ms\tremaining: 902ms\n",
      "482:\tlearn: 0.0250727\ttotal: 841ms\tremaining: 900ms\n",
      "483:\tlearn: 0.0250072\ttotal: 842ms\tremaining: 898ms\n",
      "484:\tlearn: 0.0248892\ttotal: 844ms\tremaining: 896ms\n",
      "485:\tlearn: 0.0248261\ttotal: 845ms\tremaining: 894ms\n",
      "486:\tlearn: 0.0247533\ttotal: 847ms\tremaining: 892ms\n",
      "487:\tlearn: 0.0246713\ttotal: 848ms\tremaining: 890ms\n",
      "488:\tlearn: 0.0245956\ttotal: 850ms\tremaining: 888ms\n",
      "489:\tlearn: 0.0245588\ttotal: 851ms\tremaining: 886ms\n",
      "490:\tlearn: 0.0245186\ttotal: 852ms\tremaining: 884ms\n",
      "491:\tlearn: 0.0244850\ttotal: 854ms\tremaining: 881ms\n",
      "492:\tlearn: 0.0244166\ttotal: 855ms\tremaining: 879ms\n",
      "493:\tlearn: 0.0243525\ttotal: 856ms\tremaining: 877ms\n",
      "494:\tlearn: 0.0242777\ttotal: 858ms\tremaining: 875ms\n",
      "495:\tlearn: 0.0242160\ttotal: 859ms\tremaining: 873ms\n",
      "496:\tlearn: 0.0241515\ttotal: 861ms\tremaining: 871ms\n",
      "497:\tlearn: 0.0240869\ttotal: 862ms\tremaining: 869ms\n",
      "498:\tlearn: 0.0240302\ttotal: 863ms\tremaining: 867ms\n",
      "499:\tlearn: 0.0239850\ttotal: 865ms\tremaining: 865ms\n",
      "500:\tlearn: 0.0239449\ttotal: 866ms\tremaining: 863ms\n",
      "501:\tlearn: 0.0238645\ttotal: 868ms\tremaining: 861ms\n",
      "502:\tlearn: 0.0238045\ttotal: 869ms\tremaining: 858ms\n",
      "503:\tlearn: 0.0237462\ttotal: 870ms\tremaining: 856ms\n",
      "504:\tlearn: 0.0236762\ttotal: 872ms\tremaining: 854ms\n",
      "505:\tlearn: 0.0236115\ttotal: 873ms\tremaining: 852ms\n",
      "506:\tlearn: 0.0235402\ttotal: 874ms\tremaining: 850ms\n",
      "507:\tlearn: 0.0234931\ttotal: 876ms\tremaining: 848ms\n",
      "508:\tlearn: 0.0234355\ttotal: 877ms\tremaining: 846ms\n",
      "509:\tlearn: 0.0233935\ttotal: 879ms\tremaining: 844ms\n",
      "510:\tlearn: 0.0233490\ttotal: 880ms\tremaining: 842ms\n",
      "511:\tlearn: 0.0233145\ttotal: 881ms\tremaining: 840ms\n",
      "512:\tlearn: 0.0232779\ttotal: 883ms\tremaining: 838ms\n",
      "513:\tlearn: 0.0232185\ttotal: 884ms\tremaining: 836ms\n",
      "514:\tlearn: 0.0231440\ttotal: 886ms\tremaining: 834ms\n",
      "515:\tlearn: 0.0230790\ttotal: 887ms\tremaining: 832ms\n",
      "516:\tlearn: 0.0230254\ttotal: 889ms\tremaining: 830ms\n",
      "517:\tlearn: 0.0229541\ttotal: 890ms\tremaining: 828ms\n",
      "518:\tlearn: 0.0229075\ttotal: 891ms\tremaining: 826ms\n",
      "519:\tlearn: 0.0228055\ttotal: 893ms\tremaining: 824ms\n",
      "520:\tlearn: 0.0227515\ttotal: 894ms\tremaining: 822ms\n",
      "521:\tlearn: 0.0227146\ttotal: 895ms\tremaining: 820ms\n",
      "522:\tlearn: 0.0226868\ttotal: 897ms\tremaining: 818ms\n",
      "523:\tlearn: 0.0226620\ttotal: 898ms\tremaining: 816ms\n",
      "524:\tlearn: 0.0225833\ttotal: 900ms\tremaining: 814ms\n",
      "525:\tlearn: 0.0224955\ttotal: 901ms\tremaining: 812ms\n",
      "526:\tlearn: 0.0224392\ttotal: 902ms\tremaining: 810ms\n",
      "527:\tlearn: 0.0224055\ttotal: 904ms\tremaining: 808ms\n",
      "528:\tlearn: 0.0223300\ttotal: 905ms\tremaining: 806ms\n",
      "529:\tlearn: 0.0222768\ttotal: 906ms\tremaining: 804ms\n",
      "530:\tlearn: 0.0221913\ttotal: 908ms\tremaining: 802ms\n",
      "531:\tlearn: 0.0221420\ttotal: 909ms\tremaining: 800ms\n",
      "532:\tlearn: 0.0220909\ttotal: 910ms\tremaining: 798ms\n",
      "533:\tlearn: 0.0220305\ttotal: 912ms\tremaining: 796ms\n",
      "534:\tlearn: 0.0219815\ttotal: 913ms\tremaining: 794ms\n",
      "535:\tlearn: 0.0219420\ttotal: 915ms\tremaining: 792ms\n",
      "536:\tlearn: 0.0218983\ttotal: 916ms\tremaining: 790ms\n",
      "537:\tlearn: 0.0218481\ttotal: 917ms\tremaining: 788ms\n",
      "538:\tlearn: 0.0218010\ttotal: 919ms\tremaining: 786ms\n",
      "539:\tlearn: 0.0217653\ttotal: 920ms\tremaining: 784ms\n",
      "540:\tlearn: 0.0217269\ttotal: 921ms\tremaining: 782ms\n",
      "541:\tlearn: 0.0216816\ttotal: 923ms\tremaining: 780ms\n",
      "542:\tlearn: 0.0216067\ttotal: 924ms\tremaining: 778ms\n",
      "543:\tlearn: 0.0215367\ttotal: 926ms\tremaining: 776ms\n",
      "544:\tlearn: 0.0214962\ttotal: 927ms\tremaining: 774ms\n",
      "545:\tlearn: 0.0214563\ttotal: 929ms\tremaining: 772ms\n",
      "546:\tlearn: 0.0213770\ttotal: 930ms\tremaining: 770ms\n",
      "547:\tlearn: 0.0213209\ttotal: 931ms\tremaining: 768ms\n",
      "548:\tlearn: 0.0212623\ttotal: 933ms\tremaining: 766ms\n",
      "549:\tlearn: 0.0211836\ttotal: 934ms\tremaining: 764ms\n",
      "550:\tlearn: 0.0211260\ttotal: 936ms\tremaining: 762ms\n",
      "551:\tlearn: 0.0210964\ttotal: 937ms\tremaining: 760ms\n",
      "552:\tlearn: 0.0210161\ttotal: 938ms\tremaining: 758ms\n",
      "553:\tlearn: 0.0209349\ttotal: 940ms\tremaining: 757ms\n",
      "554:\tlearn: 0.0209283\ttotal: 941ms\tremaining: 755ms\n",
      "555:\tlearn: 0.0208819\ttotal: 943ms\tremaining: 753ms\n",
      "556:\tlearn: 0.0208214\ttotal: 944ms\tremaining: 751ms\n",
      "557:\tlearn: 0.0207807\ttotal: 946ms\tremaining: 749ms\n",
      "558:\tlearn: 0.0207708\ttotal: 947ms\tremaining: 747ms\n",
      "559:\tlearn: 0.0207164\ttotal: 949ms\tremaining: 746ms\n",
      "560:\tlearn: 0.0206660\ttotal: 950ms\tremaining: 744ms\n",
      "561:\tlearn: 0.0206208\ttotal: 952ms\tremaining: 742ms\n",
      "562:\tlearn: 0.0205636\ttotal: 953ms\tremaining: 740ms\n",
      "563:\tlearn: 0.0205149\ttotal: 955ms\tremaining: 738ms\n",
      "564:\tlearn: 0.0204714\ttotal: 957ms\tremaining: 736ms\n",
      "565:\tlearn: 0.0204406\ttotal: 958ms\tremaining: 735ms\n",
      "566:\tlearn: 0.0204033\ttotal: 960ms\tremaining: 733ms\n",
      "567:\tlearn: 0.0203389\ttotal: 961ms\tremaining: 731ms\n",
      "568:\tlearn: 0.0203024\ttotal: 963ms\tremaining: 729ms\n",
      "569:\tlearn: 0.0202298\ttotal: 964ms\tremaining: 727ms\n",
      "570:\tlearn: 0.0202237\ttotal: 966ms\tremaining: 726ms\n",
      "571:\tlearn: 0.0201801\ttotal: 967ms\tremaining: 724ms\n",
      "572:\tlearn: 0.0201198\ttotal: 969ms\tremaining: 722ms\n",
      "573:\tlearn: 0.0200868\ttotal: 970ms\tremaining: 720ms\n",
      "574:\tlearn: 0.0200569\ttotal: 972ms\tremaining: 718ms\n",
      "575:\tlearn: 0.0199938\ttotal: 973ms\tremaining: 717ms\n",
      "576:\tlearn: 0.0199395\ttotal: 975ms\tremaining: 715ms\n",
      "577:\tlearn: 0.0198944\ttotal: 976ms\tremaining: 713ms\n",
      "578:\tlearn: 0.0198544\ttotal: 978ms\tremaining: 711ms\n",
      "579:\tlearn: 0.0198134\ttotal: 980ms\tremaining: 709ms\n",
      "580:\tlearn: 0.0197668\ttotal: 981ms\tremaining: 708ms\n",
      "581:\tlearn: 0.0197427\ttotal: 983ms\tremaining: 706ms\n",
      "582:\tlearn: 0.0197183\ttotal: 985ms\tremaining: 704ms\n",
      "583:\tlearn: 0.0196944\ttotal: 986ms\tremaining: 703ms\n",
      "584:\tlearn: 0.0196341\ttotal: 988ms\tremaining: 701ms\n",
      "585:\tlearn: 0.0195891\ttotal: 990ms\tremaining: 699ms\n",
      "586:\tlearn: 0.0195157\ttotal: 991ms\tremaining: 697ms\n",
      "587:\tlearn: 0.0194785\ttotal: 993ms\tremaining: 696ms\n",
      "588:\tlearn: 0.0194724\ttotal: 994ms\tremaining: 694ms\n",
      "589:\tlearn: 0.0194215\ttotal: 996ms\tremaining: 692ms\n",
      "590:\tlearn: 0.0193882\ttotal: 998ms\tremaining: 691ms\n",
      "591:\tlearn: 0.0193504\ttotal: 1000ms\tremaining: 689ms\n",
      "592:\tlearn: 0.0192956\ttotal: 1s\tremaining: 687ms\n",
      "593:\tlearn: 0.0192585\ttotal: 1s\tremaining: 686ms\n",
      "594:\tlearn: 0.0192285\ttotal: 1s\tremaining: 685ms\n",
      "595:\tlearn: 0.0192176\ttotal: 1.01s\tremaining: 683ms\n",
      "596:\tlearn: 0.0191915\ttotal: 1.01s\tremaining: 681ms\n",
      "597:\tlearn: 0.0191402\ttotal: 1.01s\tremaining: 680ms\n",
      "598:\tlearn: 0.0191023\ttotal: 1.01s\tremaining: 678ms\n",
      "599:\tlearn: 0.0190915\ttotal: 1.01s\tremaining: 677ms\n",
      "600:\tlearn: 0.0190675\ttotal: 1.02s\tremaining: 676ms\n",
      "601:\tlearn: 0.0190582\ttotal: 1.02s\tremaining: 674ms\n",
      "602:\tlearn: 0.0190177\ttotal: 1.02s\tremaining: 673ms\n",
      "603:\tlearn: 0.0189788\ttotal: 1.02s\tremaining: 671ms\n",
      "604:\tlearn: 0.0189456\ttotal: 1.02s\tremaining: 670ms\n",
      "605:\tlearn: 0.0188866\ttotal: 1.03s\tremaining: 668ms\n",
      "606:\tlearn: 0.0188448\ttotal: 1.03s\tremaining: 667ms\n",
      "607:\tlearn: 0.0187779\ttotal: 1.03s\tremaining: 665ms\n",
      "608:\tlearn: 0.0187124\ttotal: 1.03s\tremaining: 663ms\n",
      "609:\tlearn: 0.0186602\ttotal: 1.03s\tremaining: 662ms\n",
      "610:\tlearn: 0.0186284\ttotal: 1.04s\tremaining: 661ms\n",
      "611:\tlearn: 0.0185994\ttotal: 1.04s\tremaining: 659ms\n",
      "612:\tlearn: 0.0185655\ttotal: 1.04s\tremaining: 658ms\n",
      "613:\tlearn: 0.0185485\ttotal: 1.04s\tremaining: 656ms\n",
      "614:\tlearn: 0.0185252\ttotal: 1.04s\tremaining: 655ms\n",
      "615:\tlearn: 0.0185051\ttotal: 1.05s\tremaining: 653ms\n",
      "616:\tlearn: 0.0184549\ttotal: 1.05s\tremaining: 651ms\n",
      "617:\tlearn: 0.0184143\ttotal: 1.05s\tremaining: 650ms\n",
      "618:\tlearn: 0.0183799\ttotal: 1.05s\tremaining: 648ms\n",
      "619:\tlearn: 0.0183439\ttotal: 1.05s\tremaining: 647ms\n",
      "620:\tlearn: 0.0183132\ttotal: 1.06s\tremaining: 645ms\n",
      "621:\tlearn: 0.0182646\ttotal: 1.06s\tremaining: 643ms\n",
      "622:\tlearn: 0.0182336\ttotal: 1.06s\tremaining: 641ms\n",
      "623:\tlearn: 0.0182126\ttotal: 1.06s\tremaining: 639ms\n",
      "624:\tlearn: 0.0182066\ttotal: 1.06s\tremaining: 637ms\n",
      "625:\tlearn: 0.0181634\ttotal: 1.06s\tremaining: 635ms\n",
      "626:\tlearn: 0.0181181\ttotal: 1.06s\tremaining: 634ms\n",
      "627:\tlearn: 0.0180941\ttotal: 1.07s\tremaining: 632ms\n",
      "628:\tlearn: 0.0180465\ttotal: 1.07s\tremaining: 630ms\n",
      "629:\tlearn: 0.0180088\ttotal: 1.07s\tremaining: 628ms\n",
      "630:\tlearn: 0.0179791\ttotal: 1.07s\tremaining: 627ms\n",
      "631:\tlearn: 0.0179279\ttotal: 1.07s\tremaining: 625ms\n",
      "632:\tlearn: 0.0178878\ttotal: 1.07s\tremaining: 623ms\n",
      "633:\tlearn: 0.0178496\ttotal: 1.08s\tremaining: 621ms\n",
      "634:\tlearn: 0.0178213\ttotal: 1.08s\tremaining: 620ms\n",
      "635:\tlearn: 0.0177992\ttotal: 1.08s\tremaining: 618ms\n",
      "636:\tlearn: 0.0177702\ttotal: 1.08s\tremaining: 616ms\n",
      "637:\tlearn: 0.0177244\ttotal: 1.08s\tremaining: 614ms\n",
      "638:\tlearn: 0.0176759\ttotal: 1.08s\tremaining: 612ms\n",
      "639:\tlearn: 0.0176463\ttotal: 1.08s\tremaining: 611ms\n",
      "640:\tlearn: 0.0176285\ttotal: 1.09s\tremaining: 609ms\n",
      "641:\tlearn: 0.0175893\ttotal: 1.09s\tremaining: 607ms\n",
      "642:\tlearn: 0.0175691\ttotal: 1.09s\tremaining: 605ms\n",
      "643:\tlearn: 0.0175203\ttotal: 1.09s\tremaining: 603ms\n",
      "644:\tlearn: 0.0174833\ttotal: 1.09s\tremaining: 601ms\n",
      "645:\tlearn: 0.0174366\ttotal: 1.09s\tremaining: 600ms\n",
      "646:\tlearn: 0.0173786\ttotal: 1.09s\tremaining: 598ms\n",
      "647:\tlearn: 0.0173732\ttotal: 1.1s\tremaining: 596ms\n",
      "648:\tlearn: 0.0173270\ttotal: 1.1s\tremaining: 594ms\n",
      "649:\tlearn: 0.0173009\ttotal: 1.1s\tremaining: 592ms\n",
      "650:\tlearn: 0.0172443\ttotal: 1.1s\tremaining: 590ms\n",
      "651:\tlearn: 0.0172095\ttotal: 1.1s\tremaining: 589ms\n",
      "652:\tlearn: 0.0171825\ttotal: 1.1s\tremaining: 587ms\n",
      "653:\tlearn: 0.0171354\ttotal: 1.1s\tremaining: 585ms\n",
      "654:\tlearn: 0.0170961\ttotal: 1.11s\tremaining: 583ms\n",
      "655:\tlearn: 0.0170869\ttotal: 1.11s\tremaining: 581ms\n",
      "656:\tlearn: 0.0170609\ttotal: 1.11s\tremaining: 579ms\n",
      "657:\tlearn: 0.0170094\ttotal: 1.11s\tremaining: 577ms\n",
      "658:\tlearn: 0.0169826\ttotal: 1.11s\tremaining: 576ms\n",
      "659:\tlearn: 0.0169542\ttotal: 1.11s\tremaining: 574ms\n",
      "660:\tlearn: 0.0169039\ttotal: 1.11s\tremaining: 572ms\n",
      "661:\tlearn: 0.0168704\ttotal: 1.12s\tremaining: 570ms\n",
      "662:\tlearn: 0.0168193\ttotal: 1.12s\tremaining: 568ms\n",
      "663:\tlearn: 0.0167700\ttotal: 1.12s\tremaining: 566ms\n",
      "664:\tlearn: 0.0167385\ttotal: 1.12s\tremaining: 565ms\n",
      "665:\tlearn: 0.0167023\ttotal: 1.12s\tremaining: 563ms\n",
      "666:\tlearn: 0.0166614\ttotal: 1.12s\tremaining: 561ms\n",
      "667:\tlearn: 0.0166330\ttotal: 1.12s\tremaining: 559ms\n",
      "668:\tlearn: 0.0165987\ttotal: 1.13s\tremaining: 557ms\n",
      "669:\tlearn: 0.0165596\ttotal: 1.13s\tremaining: 555ms\n",
      "670:\tlearn: 0.0165256\ttotal: 1.13s\tremaining: 554ms\n",
      "671:\tlearn: 0.0164723\ttotal: 1.13s\tremaining: 552ms\n",
      "672:\tlearn: 0.0164494\ttotal: 1.13s\tremaining: 550ms\n",
      "673:\tlearn: 0.0164353\ttotal: 1.13s\tremaining: 548ms\n",
      "674:\tlearn: 0.0163925\ttotal: 1.14s\tremaining: 547ms\n",
      "675:\tlearn: 0.0163679\ttotal: 1.14s\tremaining: 545ms\n",
      "676:\tlearn: 0.0163297\ttotal: 1.14s\tremaining: 543ms\n",
      "677:\tlearn: 0.0162835\ttotal: 1.14s\tremaining: 541ms\n",
      "678:\tlearn: 0.0162617\ttotal: 1.14s\tremaining: 539ms\n",
      "679:\tlearn: 0.0162294\ttotal: 1.14s\tremaining: 537ms\n",
      "680:\tlearn: 0.0161643\ttotal: 1.14s\tremaining: 536ms\n",
      "681:\tlearn: 0.0161367\ttotal: 1.14s\tremaining: 534ms\n",
      "682:\tlearn: 0.0161266\ttotal: 1.15s\tremaining: 532ms\n",
      "683:\tlearn: 0.0160841\ttotal: 1.15s\tremaining: 530ms\n",
      "684:\tlearn: 0.0160538\ttotal: 1.15s\tremaining: 528ms\n",
      "685:\tlearn: 0.0160084\ttotal: 1.15s\tremaining: 526ms\n",
      "686:\tlearn: 0.0159817\ttotal: 1.15s\tremaining: 525ms\n",
      "687:\tlearn: 0.0159555\ttotal: 1.15s\tremaining: 523ms\n",
      "688:\tlearn: 0.0159253\ttotal: 1.15s\tremaining: 521ms\n",
      "689:\tlearn: 0.0158861\ttotal: 1.16s\tremaining: 519ms\n",
      "690:\tlearn: 0.0158496\ttotal: 1.16s\tremaining: 517ms\n",
      "691:\tlearn: 0.0158202\ttotal: 1.16s\tremaining: 516ms\n",
      "692:\tlearn: 0.0157990\ttotal: 1.16s\tremaining: 514ms\n",
      "693:\tlearn: 0.0157524\ttotal: 1.16s\tremaining: 512ms\n",
      "694:\tlearn: 0.0157102\ttotal: 1.16s\tremaining: 510ms\n",
      "695:\tlearn: 0.0156997\ttotal: 1.16s\tremaining: 508ms\n",
      "696:\tlearn: 0.0156657\ttotal: 1.17s\tremaining: 507ms\n",
      "697:\tlearn: 0.0156405\ttotal: 1.17s\tremaining: 505ms\n",
      "698:\tlearn: 0.0155987\ttotal: 1.17s\tremaining: 503ms\n",
      "699:\tlearn: 0.0155556\ttotal: 1.17s\tremaining: 501ms\n",
      "700:\tlearn: 0.0155344\ttotal: 1.17s\tremaining: 499ms\n",
      "701:\tlearn: 0.0155044\ttotal: 1.17s\tremaining: 498ms\n",
      "702:\tlearn: 0.0154677\ttotal: 1.17s\tremaining: 496ms\n",
      "703:\tlearn: 0.0154147\ttotal: 1.17s\tremaining: 494ms\n",
      "704:\tlearn: 0.0153948\ttotal: 1.18s\tremaining: 492ms\n",
      "705:\tlearn: 0.0153751\ttotal: 1.18s\tremaining: 490ms\n",
      "706:\tlearn: 0.0153580\ttotal: 1.18s\tremaining: 489ms\n",
      "707:\tlearn: 0.0153186\ttotal: 1.18s\tremaining: 487ms\n",
      "708:\tlearn: 0.0152878\ttotal: 1.18s\tremaining: 485ms\n",
      "709:\tlearn: 0.0152551\ttotal: 1.18s\tremaining: 483ms\n",
      "710:\tlearn: 0.0152372\ttotal: 1.18s\tremaining: 481ms\n",
      "711:\tlearn: 0.0152175\ttotal: 1.19s\tremaining: 480ms\n",
      "712:\tlearn: 0.0151856\ttotal: 1.19s\tremaining: 478ms\n",
      "713:\tlearn: 0.0151391\ttotal: 1.19s\tremaining: 476ms\n",
      "714:\tlearn: 0.0151068\ttotal: 1.19s\tremaining: 474ms\n",
      "715:\tlearn: 0.0150785\ttotal: 1.19s\tremaining: 473ms\n",
      "716:\tlearn: 0.0150698\ttotal: 1.19s\tremaining: 471ms\n",
      "717:\tlearn: 0.0150177\ttotal: 1.19s\tremaining: 469ms\n",
      "718:\tlearn: 0.0149923\ttotal: 1.2s\tremaining: 467ms\n",
      "719:\tlearn: 0.0149448\ttotal: 1.2s\tremaining: 466ms\n",
      "720:\tlearn: 0.0149138\ttotal: 1.2s\tremaining: 464ms\n",
      "721:\tlearn: 0.0148893\ttotal: 1.2s\tremaining: 462ms\n",
      "722:\tlearn: 0.0148555\ttotal: 1.2s\tremaining: 460ms\n",
      "723:\tlearn: 0.0148271\ttotal: 1.2s\tremaining: 458ms\n",
      "724:\tlearn: 0.0147989\ttotal: 1.2s\tremaining: 457ms\n",
      "725:\tlearn: 0.0147700\ttotal: 1.21s\tremaining: 455ms\n",
      "726:\tlearn: 0.0147684\ttotal: 1.21s\tremaining: 453ms\n",
      "727:\tlearn: 0.0147430\ttotal: 1.21s\tremaining: 451ms\n",
      "728:\tlearn: 0.0147056\ttotal: 1.21s\tremaining: 450ms\n",
      "729:\tlearn: 0.0146836\ttotal: 1.21s\tremaining: 448ms\n",
      "730:\tlearn: 0.0146469\ttotal: 1.21s\tremaining: 446ms\n",
      "731:\tlearn: 0.0146381\ttotal: 1.21s\tremaining: 444ms\n",
      "732:\tlearn: 0.0145910\ttotal: 1.22s\tremaining: 443ms\n",
      "733:\tlearn: 0.0145557\ttotal: 1.22s\tremaining: 441ms\n",
      "734:\tlearn: 0.0145513\ttotal: 1.22s\tremaining: 439ms\n",
      "735:\tlearn: 0.0145258\ttotal: 1.22s\tremaining: 438ms\n",
      "736:\tlearn: 0.0144899\ttotal: 1.22s\tremaining: 436ms\n",
      "737:\tlearn: 0.0144835\ttotal: 1.22s\tremaining: 434ms\n",
      "738:\tlearn: 0.0144492\ttotal: 1.22s\tremaining: 432ms\n",
      "739:\tlearn: 0.0144256\ttotal: 1.23s\tremaining: 431ms\n",
      "740:\tlearn: 0.0144104\ttotal: 1.23s\tremaining: 429ms\n",
      "741:\tlearn: 0.0143861\ttotal: 1.23s\tremaining: 427ms\n",
      "742:\tlearn: 0.0143733\ttotal: 1.23s\tremaining: 425ms\n",
      "743:\tlearn: 0.0143403\ttotal: 1.23s\tremaining: 424ms\n",
      "744:\tlearn: 0.0143178\ttotal: 1.23s\tremaining: 422ms\n",
      "745:\tlearn: 0.0142960\ttotal: 1.23s\tremaining: 420ms\n",
      "746:\tlearn: 0.0142612\ttotal: 1.24s\tremaining: 419ms\n",
      "747:\tlearn: 0.0142275\ttotal: 1.24s\tremaining: 417ms\n",
      "748:\tlearn: 0.0142246\ttotal: 1.24s\tremaining: 415ms\n",
      "749:\tlearn: 0.0141962\ttotal: 1.24s\tremaining: 414ms\n",
      "750:\tlearn: 0.0141691\ttotal: 1.24s\tremaining: 412ms\n",
      "751:\tlearn: 0.0141445\ttotal: 1.24s\tremaining: 410ms\n",
      "752:\tlearn: 0.0141136\ttotal: 1.25s\tremaining: 408ms\n",
      "753:\tlearn: 0.0140971\ttotal: 1.25s\tremaining: 407ms\n",
      "754:\tlearn: 0.0140757\ttotal: 1.25s\tremaining: 405ms\n",
      "755:\tlearn: 0.0140398\ttotal: 1.25s\tremaining: 403ms\n",
      "756:\tlearn: 0.0140250\ttotal: 1.25s\tremaining: 401ms\n",
      "757:\tlearn: 0.0140025\ttotal: 1.25s\tremaining: 400ms\n",
      "758:\tlearn: 0.0139603\ttotal: 1.25s\tremaining: 398ms\n",
      "759:\tlearn: 0.0139395\ttotal: 1.25s\tremaining: 396ms\n",
      "760:\tlearn: 0.0139178\ttotal: 1.26s\tremaining: 395ms\n",
      "761:\tlearn: 0.0138938\ttotal: 1.26s\tremaining: 393ms\n",
      "762:\tlearn: 0.0138718\ttotal: 1.26s\tremaining: 391ms\n",
      "763:\tlearn: 0.0138471\ttotal: 1.26s\tremaining: 389ms\n",
      "764:\tlearn: 0.0138205\ttotal: 1.26s\tremaining: 388ms\n",
      "765:\tlearn: 0.0138049\ttotal: 1.26s\tremaining: 386ms\n",
      "766:\tlearn: 0.0137800\ttotal: 1.26s\tremaining: 384ms\n",
      "767:\tlearn: 0.0137741\ttotal: 1.27s\tremaining: 383ms\n",
      "768:\tlearn: 0.0137530\ttotal: 1.27s\tremaining: 381ms\n",
      "769:\tlearn: 0.0137384\ttotal: 1.27s\tremaining: 379ms\n",
      "770:\tlearn: 0.0137356\ttotal: 1.27s\tremaining: 378ms\n",
      "771:\tlearn: 0.0137101\ttotal: 1.27s\tremaining: 376ms\n",
      "772:\tlearn: 0.0136893\ttotal: 1.27s\tremaining: 374ms\n",
      "773:\tlearn: 0.0136855\ttotal: 1.27s\tremaining: 372ms\n",
      "774:\tlearn: 0.0136542\ttotal: 1.28s\tremaining: 371ms\n",
      "775:\tlearn: 0.0136122\ttotal: 1.28s\tremaining: 369ms\n",
      "776:\tlearn: 0.0136017\ttotal: 1.28s\tremaining: 367ms\n",
      "777:\tlearn: 0.0135678\ttotal: 1.28s\tremaining: 366ms\n",
      "778:\tlearn: 0.0135650\ttotal: 1.28s\tremaining: 364ms\n",
      "779:\tlearn: 0.0135445\ttotal: 1.28s\tremaining: 362ms\n",
      "780:\tlearn: 0.0135425\ttotal: 1.29s\tremaining: 361ms\n",
      "781:\tlearn: 0.0135066\ttotal: 1.29s\tremaining: 359ms\n",
      "782:\tlearn: 0.0134805\ttotal: 1.29s\tremaining: 357ms\n",
      "783:\tlearn: 0.0134447\ttotal: 1.29s\tremaining: 356ms\n",
      "784:\tlearn: 0.0134187\ttotal: 1.29s\tremaining: 354ms\n",
      "785:\tlearn: 0.0134151\ttotal: 1.29s\tremaining: 352ms\n",
      "786:\tlearn: 0.0133719\ttotal: 1.29s\tremaining: 350ms\n",
      "787:\tlearn: 0.0133464\ttotal: 1.3s\tremaining: 349ms\n",
      "788:\tlearn: 0.0133144\ttotal: 1.3s\tremaining: 347ms\n",
      "789:\tlearn: 0.0132963\ttotal: 1.3s\tremaining: 345ms\n",
      "790:\tlearn: 0.0132780\ttotal: 1.3s\tremaining: 344ms\n",
      "791:\tlearn: 0.0132582\ttotal: 1.3s\tremaining: 342ms\n",
      "792:\tlearn: 0.0132399\ttotal: 1.3s\tremaining: 340ms\n",
      "793:\tlearn: 0.0132068\ttotal: 1.3s\tremaining: 339ms\n",
      "794:\tlearn: 0.0131913\ttotal: 1.31s\tremaining: 337ms\n",
      "795:\tlearn: 0.0131886\ttotal: 1.31s\tremaining: 335ms\n",
      "796:\tlearn: 0.0131776\ttotal: 1.31s\tremaining: 333ms\n",
      "797:\tlearn: 0.0131725\ttotal: 1.31s\tremaining: 332ms\n",
      "798:\tlearn: 0.0131442\ttotal: 1.31s\tremaining: 330ms\n",
      "799:\tlearn: 0.0130999\ttotal: 1.31s\tremaining: 328ms\n",
      "800:\tlearn: 0.0130913\ttotal: 1.31s\tremaining: 327ms\n",
      "801:\tlearn: 0.0130729\ttotal: 1.32s\tremaining: 325ms\n",
      "802:\tlearn: 0.0130615\ttotal: 1.32s\tremaining: 323ms\n",
      "803:\tlearn: 0.0130163\ttotal: 1.32s\tremaining: 322ms\n",
      "804:\tlearn: 0.0130033\ttotal: 1.32s\tremaining: 320ms\n",
      "805:\tlearn: 0.0130014\ttotal: 1.32s\tremaining: 318ms\n",
      "806:\tlearn: 0.0129897\ttotal: 1.32s\tremaining: 317ms\n",
      "807:\tlearn: 0.0129835\ttotal: 1.32s\tremaining: 315ms\n",
      "808:\tlearn: 0.0129568\ttotal: 1.33s\tremaining: 313ms\n",
      "809:\tlearn: 0.0129292\ttotal: 1.33s\tremaining: 312ms\n",
      "810:\tlearn: 0.0129157\ttotal: 1.33s\tremaining: 310ms\n",
      "811:\tlearn: 0.0128871\ttotal: 1.33s\tremaining: 308ms\n",
      "812:\tlearn: 0.0128811\ttotal: 1.33s\tremaining: 306ms\n",
      "813:\tlearn: 0.0128610\ttotal: 1.33s\tremaining: 305ms\n",
      "814:\tlearn: 0.0128554\ttotal: 1.33s\tremaining: 303ms\n",
      "815:\tlearn: 0.0128343\ttotal: 1.34s\tremaining: 301ms\n",
      "816:\tlearn: 0.0128074\ttotal: 1.34s\tremaining: 300ms\n",
      "817:\tlearn: 0.0127928\ttotal: 1.34s\tremaining: 298ms\n",
      "818:\tlearn: 0.0127876\ttotal: 1.34s\tremaining: 296ms\n",
      "819:\tlearn: 0.0127524\ttotal: 1.34s\tremaining: 294ms\n",
      "820:\tlearn: 0.0127174\ttotal: 1.34s\tremaining: 293ms\n",
      "821:\tlearn: 0.0127101\ttotal: 1.34s\tremaining: 291ms\n",
      "822:\tlearn: 0.0127019\ttotal: 1.34s\tremaining: 289ms\n",
      "823:\tlearn: 0.0126585\ttotal: 1.35s\tremaining: 288ms\n",
      "824:\tlearn: 0.0126520\ttotal: 1.35s\tremaining: 286ms\n",
      "825:\tlearn: 0.0126497\ttotal: 1.35s\tremaining: 284ms\n",
      "826:\tlearn: 0.0126425\ttotal: 1.35s\tremaining: 283ms\n",
      "827:\tlearn: 0.0126112\ttotal: 1.35s\tremaining: 281ms\n",
      "828:\tlearn: 0.0126095\ttotal: 1.35s\tremaining: 279ms\n",
      "829:\tlearn: 0.0125764\ttotal: 1.35s\tremaining: 278ms\n",
      "830:\tlearn: 0.0125491\ttotal: 1.36s\tremaining: 276ms\n",
      "831:\tlearn: 0.0125336\ttotal: 1.36s\tremaining: 274ms\n",
      "832:\tlearn: 0.0125191\ttotal: 1.36s\tremaining: 273ms\n",
      "833:\tlearn: 0.0125136\ttotal: 1.36s\tremaining: 271ms\n",
      "834:\tlearn: 0.0125116\ttotal: 1.36s\tremaining: 269ms\n",
      "835:\tlearn: 0.0124856\ttotal: 1.36s\tremaining: 268ms\n",
      "836:\tlearn: 0.0124596\ttotal: 1.36s\tremaining: 266ms\n",
      "837:\tlearn: 0.0124275\ttotal: 1.37s\tremaining: 264ms\n",
      "838:\tlearn: 0.0124261\ttotal: 1.37s\tremaining: 263ms\n",
      "839:\tlearn: 0.0124068\ttotal: 1.37s\tremaining: 261ms\n",
      "840:\tlearn: 0.0123974\ttotal: 1.37s\tremaining: 259ms\n",
      "841:\tlearn: 0.0123883\ttotal: 1.37s\tremaining: 257ms\n",
      "842:\tlearn: 0.0123869\ttotal: 1.37s\tremaining: 256ms\n",
      "843:\tlearn: 0.0123838\ttotal: 1.37s\tremaining: 254ms\n",
      "844:\tlearn: 0.0123645\ttotal: 1.38s\tremaining: 252ms\n",
      "845:\tlearn: 0.0123614\ttotal: 1.38s\tremaining: 251ms\n",
      "846:\tlearn: 0.0123538\ttotal: 1.38s\tremaining: 249ms\n",
      "847:\tlearn: 0.0123108\ttotal: 1.38s\tremaining: 247ms\n",
      "848:\tlearn: 0.0122962\ttotal: 1.38s\tremaining: 246ms\n",
      "849:\tlearn: 0.0122730\ttotal: 1.38s\tremaining: 244ms\n",
      "850:\tlearn: 0.0122708\ttotal: 1.38s\tremaining: 242ms\n",
      "851:\tlearn: 0.0122500\ttotal: 1.39s\tremaining: 241ms\n",
      "852:\tlearn: 0.0122205\ttotal: 1.39s\tremaining: 239ms\n",
      "853:\tlearn: 0.0121822\ttotal: 1.39s\tremaining: 237ms\n",
      "854:\tlearn: 0.0121627\ttotal: 1.39s\tremaining: 236ms\n",
      "855:\tlearn: 0.0121614\ttotal: 1.39s\tremaining: 234ms\n",
      "856:\tlearn: 0.0121245\ttotal: 1.39s\tremaining: 232ms\n",
      "857:\tlearn: 0.0121004\ttotal: 1.39s\tremaining: 231ms\n",
      "858:\tlearn: 0.0120944\ttotal: 1.4s\tremaining: 229ms\n",
      "859:\tlearn: 0.0120914\ttotal: 1.4s\tremaining: 227ms\n",
      "860:\tlearn: 0.0120754\ttotal: 1.4s\tremaining: 226ms\n",
      "861:\tlearn: 0.0120730\ttotal: 1.4s\tremaining: 224ms\n",
      "862:\tlearn: 0.0120713\ttotal: 1.4s\tremaining: 222ms\n",
      "863:\tlearn: 0.0120525\ttotal: 1.4s\tremaining: 221ms\n",
      "864:\tlearn: 0.0120495\ttotal: 1.4s\tremaining: 219ms\n",
      "865:\tlearn: 0.0120424\ttotal: 1.41s\tremaining: 217ms\n",
      "866:\tlearn: 0.0120298\ttotal: 1.41s\tremaining: 216ms\n",
      "867:\tlearn: 0.0120040\ttotal: 1.41s\tremaining: 214ms\n",
      "868:\tlearn: 0.0119906\ttotal: 1.41s\tremaining: 213ms\n",
      "869:\tlearn: 0.0119879\ttotal: 1.41s\tremaining: 211ms\n",
      "870:\tlearn: 0.0119723\ttotal: 1.41s\tremaining: 209ms\n",
      "871:\tlearn: 0.0119641\ttotal: 1.41s\tremaining: 208ms\n",
      "872:\tlearn: 0.0119408\ttotal: 1.42s\tremaining: 206ms\n",
      "873:\tlearn: 0.0119387\ttotal: 1.42s\tremaining: 204ms\n",
      "874:\tlearn: 0.0119358\ttotal: 1.42s\tremaining: 203ms\n",
      "875:\tlearn: 0.0119346\ttotal: 1.42s\tremaining: 201ms\n",
      "876:\tlearn: 0.0119000\ttotal: 1.42s\tremaining: 199ms\n",
      "877:\tlearn: 0.0118986\ttotal: 1.42s\tremaining: 198ms\n",
      "878:\tlearn: 0.0118771\ttotal: 1.42s\tremaining: 196ms\n",
      "879:\tlearn: 0.0118514\ttotal: 1.43s\tremaining: 194ms\n",
      "880:\tlearn: 0.0118080\ttotal: 1.43s\tremaining: 193ms\n",
      "881:\tlearn: 0.0117760\ttotal: 1.43s\tremaining: 191ms\n",
      "882:\tlearn: 0.0117557\ttotal: 1.43s\tremaining: 190ms\n",
      "883:\tlearn: 0.0117509\ttotal: 1.43s\tremaining: 188ms\n",
      "884:\tlearn: 0.0117246\ttotal: 1.43s\tremaining: 186ms\n",
      "885:\tlearn: 0.0117071\ttotal: 1.44s\tremaining: 185ms\n",
      "886:\tlearn: 0.0116871\ttotal: 1.44s\tremaining: 183ms\n",
      "887:\tlearn: 0.0116659\ttotal: 1.44s\tremaining: 181ms\n",
      "888:\tlearn: 0.0116510\ttotal: 1.44s\tremaining: 180ms\n",
      "889:\tlearn: 0.0116493\ttotal: 1.44s\tremaining: 178ms\n",
      "890:\tlearn: 0.0116224\ttotal: 1.44s\tremaining: 176ms\n",
      "891:\tlearn: 0.0115931\ttotal: 1.44s\tremaining: 175ms\n",
      "892:\tlearn: 0.0115903\ttotal: 1.45s\tremaining: 173ms\n",
      "893:\tlearn: 0.0115885\ttotal: 1.45s\tremaining: 172ms\n",
      "894:\tlearn: 0.0115848\ttotal: 1.45s\tremaining: 170ms\n",
      "895:\tlearn: 0.0115826\ttotal: 1.45s\tremaining: 168ms\n",
      "896:\tlearn: 0.0115500\ttotal: 1.45s\tremaining: 167ms\n",
      "897:\tlearn: 0.0115484\ttotal: 1.45s\tremaining: 165ms\n",
      "898:\tlearn: 0.0115372\ttotal: 1.45s\tremaining: 163ms\n",
      "899:\tlearn: 0.0115349\ttotal: 1.46s\tremaining: 162ms\n",
      "900:\tlearn: 0.0115007\ttotal: 1.46s\tremaining: 160ms\n",
      "901:\tlearn: 0.0114779\ttotal: 1.46s\tremaining: 158ms\n",
      "902:\tlearn: 0.0114756\ttotal: 1.46s\tremaining: 157ms\n",
      "903:\tlearn: 0.0114693\ttotal: 1.46s\tremaining: 155ms\n",
      "904:\tlearn: 0.0114675\ttotal: 1.46s\tremaining: 154ms\n",
      "905:\tlearn: 0.0114652\ttotal: 1.46s\tremaining: 152ms\n",
      "906:\tlearn: 0.0114632\ttotal: 1.47s\tremaining: 150ms\n",
      "907:\tlearn: 0.0114616\ttotal: 1.47s\tremaining: 149ms\n",
      "908:\tlearn: 0.0114503\ttotal: 1.47s\tremaining: 147ms\n",
      "909:\tlearn: 0.0114481\ttotal: 1.47s\tremaining: 145ms\n",
      "910:\tlearn: 0.0114267\ttotal: 1.47s\tremaining: 144ms\n",
      "911:\tlearn: 0.0114167\ttotal: 1.47s\tremaining: 142ms\n",
      "912:\tlearn: 0.0113948\ttotal: 1.47s\tremaining: 140ms\n",
      "913:\tlearn: 0.0113918\ttotal: 1.48s\tremaining: 139ms\n",
      "914:\tlearn: 0.0113902\ttotal: 1.48s\tremaining: 137ms\n",
      "915:\tlearn: 0.0113881\ttotal: 1.48s\tremaining: 136ms\n",
      "916:\tlearn: 0.0113863\ttotal: 1.48s\tremaining: 134ms\n",
      "917:\tlearn: 0.0113844\ttotal: 1.48s\tremaining: 132ms\n",
      "918:\tlearn: 0.0113514\ttotal: 1.48s\tremaining: 131ms\n",
      "919:\tlearn: 0.0113383\ttotal: 1.48s\tremaining: 129ms\n",
      "920:\tlearn: 0.0113371\ttotal: 1.49s\tremaining: 127ms\n",
      "921:\tlearn: 0.0113073\ttotal: 1.49s\tremaining: 126ms\n",
      "922:\tlearn: 0.0113042\ttotal: 1.49s\tremaining: 124ms\n",
      "923:\tlearn: 0.0112980\ttotal: 1.49s\tremaining: 123ms\n",
      "924:\tlearn: 0.0112725\ttotal: 1.49s\tremaining: 121ms\n",
      "925:\tlearn: 0.0112708\ttotal: 1.49s\tremaining: 119ms\n",
      "926:\tlearn: 0.0112526\ttotal: 1.49s\tremaining: 118ms\n",
      "927:\tlearn: 0.0112335\ttotal: 1.5s\tremaining: 116ms\n",
      "928:\tlearn: 0.0112182\ttotal: 1.5s\tremaining: 114ms\n",
      "929:\tlearn: 0.0112164\ttotal: 1.5s\tremaining: 113ms\n",
      "930:\tlearn: 0.0112150\ttotal: 1.5s\tremaining: 111ms\n",
      "931:\tlearn: 0.0111868\ttotal: 1.5s\tremaining: 109ms\n",
      "932:\tlearn: 0.0111850\ttotal: 1.5s\tremaining: 108ms\n",
      "933:\tlearn: 0.0111781\ttotal: 1.5s\tremaining: 106ms\n",
      "934:\tlearn: 0.0111643\ttotal: 1.5s\tremaining: 105ms\n",
      "935:\tlearn: 0.0111579\ttotal: 1.51s\tremaining: 103ms\n",
      "936:\tlearn: 0.0111389\ttotal: 1.51s\tremaining: 101ms\n",
      "937:\tlearn: 0.0111270\ttotal: 1.51s\tremaining: 99.7ms\n",
      "938:\tlearn: 0.0111114\ttotal: 1.51s\tremaining: 98.1ms\n",
      "939:\tlearn: 0.0111089\ttotal: 1.51s\tremaining: 96.5ms\n",
      "940:\tlearn: 0.0111075\ttotal: 1.51s\tremaining: 94.9ms\n",
      "941:\tlearn: 0.0111058\ttotal: 1.51s\tremaining: 93.2ms\n",
      "942:\tlearn: 0.0110881\ttotal: 1.51s\tremaining: 91.6ms\n",
      "943:\tlearn: 0.0110864\ttotal: 1.52s\tremaining: 90ms\n",
      "944:\tlearn: 0.0110844\ttotal: 1.52s\tremaining: 88.4ms\n",
      "945:\tlearn: 0.0110576\ttotal: 1.52s\tremaining: 86.8ms\n",
      "946:\tlearn: 0.0110555\ttotal: 1.52s\tremaining: 85.1ms\n",
      "947:\tlearn: 0.0110463\ttotal: 1.52s\tremaining: 83.5ms\n",
      "948:\tlearn: 0.0110371\ttotal: 1.52s\tremaining: 81.9ms\n",
      "949:\tlearn: 0.0110349\ttotal: 1.52s\tremaining: 80.3ms\n",
      "950:\tlearn: 0.0110325\ttotal: 1.53s\tremaining: 78.7ms\n",
      "951:\tlearn: 0.0110312\ttotal: 1.53s\tremaining: 77.1ms\n",
      "952:\tlearn: 0.0110160\ttotal: 1.53s\tremaining: 75.4ms\n",
      "953:\tlearn: 0.0110145\ttotal: 1.53s\tremaining: 73.8ms\n",
      "954:\tlearn: 0.0110124\ttotal: 1.53s\tremaining: 72.2ms\n",
      "955:\tlearn: 0.0109879\ttotal: 1.53s\tremaining: 70.6ms\n",
      "956:\tlearn: 0.0109685\ttotal: 1.53s\tremaining: 69ms\n",
      "957:\tlearn: 0.0109289\ttotal: 1.54s\tremaining: 67.4ms\n",
      "958:\tlearn: 0.0109273\ttotal: 1.54s\tremaining: 65.8ms\n",
      "959:\tlearn: 0.0109251\ttotal: 1.54s\tremaining: 64.2ms\n",
      "960:\tlearn: 0.0109053\ttotal: 1.54s\tremaining: 62.5ms\n",
      "961:\tlearn: 0.0108760\ttotal: 1.54s\tremaining: 60.9ms\n",
      "962:\tlearn: 0.0108646\ttotal: 1.54s\tremaining: 59.3ms\n",
      "963:\tlearn: 0.0108623\ttotal: 1.54s\tremaining: 57.7ms\n",
      "964:\tlearn: 0.0108378\ttotal: 1.55s\tremaining: 56.1ms\n",
      "965:\tlearn: 0.0108364\ttotal: 1.55s\tremaining: 54.5ms\n",
      "966:\tlearn: 0.0108348\ttotal: 1.55s\tremaining: 52.9ms\n",
      "967:\tlearn: 0.0108295\ttotal: 1.55s\tremaining: 51.3ms\n",
      "968:\tlearn: 0.0108255\ttotal: 1.55s\tremaining: 49.7ms\n",
      "969:\tlearn: 0.0108010\ttotal: 1.55s\tremaining: 48.1ms\n",
      "970:\tlearn: 0.0107876\ttotal: 1.55s\tremaining: 46.4ms\n",
      "971:\tlearn: 0.0107597\ttotal: 1.56s\tremaining: 44.8ms\n",
      "972:\tlearn: 0.0107583\ttotal: 1.56s\tremaining: 43.2ms\n",
      "973:\tlearn: 0.0107570\ttotal: 1.56s\tremaining: 41.6ms\n",
      "974:\tlearn: 0.0107500\ttotal: 1.56s\tremaining: 40ms\n",
      "975:\tlearn: 0.0107309\ttotal: 1.56s\tremaining: 38.4ms\n",
      "976:\tlearn: 0.0107298\ttotal: 1.56s\tremaining: 36.8ms\n",
      "977:\tlearn: 0.0107064\ttotal: 1.56s\tremaining: 35.2ms\n",
      "978:\tlearn: 0.0106822\ttotal: 1.57s\tremaining: 33.6ms\n",
      "979:\tlearn: 0.0106790\ttotal: 1.57s\tremaining: 32ms\n",
      "980:\tlearn: 0.0106731\ttotal: 1.57s\tremaining: 30.4ms\n",
      "981:\tlearn: 0.0106715\ttotal: 1.57s\tremaining: 28.8ms\n",
      "982:\tlearn: 0.0106637\ttotal: 1.57s\tremaining: 27.2ms\n",
      "983:\tlearn: 0.0106617\ttotal: 1.57s\tremaining: 25.6ms\n",
      "984:\tlearn: 0.0106597\ttotal: 1.57s\tremaining: 24ms\n",
      "985:\tlearn: 0.0106574\ttotal: 1.58s\tremaining: 22.4ms\n",
      "986:\tlearn: 0.0106193\ttotal: 1.58s\tremaining: 20.8ms\n",
      "987:\tlearn: 0.0106083\ttotal: 1.58s\tremaining: 19.2ms\n",
      "988:\tlearn: 0.0106015\ttotal: 1.58s\tremaining: 17.6ms\n",
      "989:\tlearn: 0.0105820\ttotal: 1.58s\tremaining: 16ms\n",
      "990:\tlearn: 0.0105800\ttotal: 1.58s\tremaining: 14.4ms\n",
      "991:\tlearn: 0.0105450\ttotal: 1.58s\tremaining: 12.8ms\n",
      "992:\tlearn: 0.0105376\ttotal: 1.59s\tremaining: 11.2ms\n",
      "993:\tlearn: 0.0105100\ttotal: 1.59s\tremaining: 9.59ms\n",
      "994:\tlearn: 0.0105076\ttotal: 1.59s\tremaining: 7.99ms\n",
      "995:\tlearn: 0.0105065\ttotal: 1.59s\tremaining: 6.39ms\n",
      "996:\tlearn: 0.0104775\ttotal: 1.59s\tremaining: 4.79ms\n",
      "997:\tlearn: 0.0104599\ttotal: 1.59s\tremaining: 3.19ms\n",
      "998:\tlearn: 0.0104442\ttotal: 1.59s\tremaining: 1.6ms\n",
      "999:\tlearn: 0.0104330\ttotal: 1.6s\tremaining: 0us\n"
     ]
    },
    {
     "data": {
      "text/plain": [
       "0.9298245614035088"
      ]
     },
     "execution_count": 153,
     "metadata": {},
     "output_type": "execute_result"
    }
   ],
   "source": [
    "from catboost import CatBoostClassifier # 이 모델 굉장히.. 좋네..\n",
    "clf = CatBoostClassifier()\n",
    "clf.fit(X_train,y_train)\n",
    "clf.score(X_test, y_test)"
   ]
  },
  {
   "cell_type": "code",
   "execution_count": null,
   "id": "09e20850-55a0-4dde-aa35-e7891f4e824c",
   "metadata": {},
   "outputs": [],
   "source": []
  },
  {
   "cell_type": "code",
   "execution_count": null,
   "id": "0fdfbb11-325c-4e8a-a4e5-2e1da8488b9b",
   "metadata": {},
   "outputs": [],
   "source": []
  },
  {
   "cell_type": "code",
   "execution_count": 5,
   "id": "1c14ddd2-50bd-49a8-8b3d-3335ca17230d",
   "metadata": {
    "tags": []
   },
   "outputs": [],
   "source": [
    "from sklearn.tree import DecisionTreeClassifier\n",
    "\n",
    "model = DecisionTreeClassifier(max_depth=6) # 나는 아무것도 안했을때.. 규제 안했을 때가 제일 잘 나옴.흠."
   ]
  },
  {
   "cell_type": "code",
   "execution_count": 6,
   "id": "ce840635-8a76-477b-90e7-2125ddba1b37",
   "metadata": {
    "tags": []
   },
   "outputs": [
    {
     "data": {
      "text/plain": [
       "{'ccp_alpha': 0.0,\n",
       " 'class_weight': None,\n",
       " 'criterion': 'gini',\n",
       " 'max_depth': 6,\n",
       " 'max_features': None,\n",
       " 'max_leaf_nodes': None,\n",
       " 'min_impurity_decrease': 0.0,\n",
       " 'min_samples_leaf': 1,\n",
       " 'min_samples_split': 2,\n",
       " 'min_weight_fraction_leaf': 0.0,\n",
       " 'random_state': None,\n",
       " 'splitter': 'best'}"
      ]
     },
     "execution_count": 6,
     "metadata": {},
     "output_type": "execute_result"
    }
   ],
   "source": [
    "model.get_params() # 이걸 활용해서 overfitting 해소해보기! gap줄여보기! > 모델이 사용할 수 있는 파라미터들 모여줌 >> 이 파라미터들로 모델에 규제 주기!!\n"
   ]
  },
  {
   "cell_type": "code",
   "execution_count": 7,
   "id": "0310264e-fb61-42c7-94ad-6bf3774663c8",
   "metadata": {
    "tags": []
   },
   "outputs": [
    {
     "data": {
      "text/html": [
       "<style>#sk-container-id-1 {color: black;background-color: white;}#sk-container-id-1 pre{padding: 0;}#sk-container-id-1 div.sk-toggleable {background-color: white;}#sk-container-id-1 label.sk-toggleable__label {cursor: pointer;display: block;width: 100%;margin-bottom: 0;padding: 0.3em;box-sizing: border-box;text-align: center;}#sk-container-id-1 label.sk-toggleable__label-arrow:before {content: \"▸\";float: left;margin-right: 0.25em;color: #696969;}#sk-container-id-1 label.sk-toggleable__label-arrow:hover:before {color: black;}#sk-container-id-1 div.sk-estimator:hover label.sk-toggleable__label-arrow:before {color: black;}#sk-container-id-1 div.sk-toggleable__content {max-height: 0;max-width: 0;overflow: hidden;text-align: left;background-color: #f0f8ff;}#sk-container-id-1 div.sk-toggleable__content pre {margin: 0.2em;color: black;border-radius: 0.25em;background-color: #f0f8ff;}#sk-container-id-1 input.sk-toggleable__control:checked~div.sk-toggleable__content {max-height: 200px;max-width: 100%;overflow: auto;}#sk-container-id-1 input.sk-toggleable__control:checked~label.sk-toggleable__label-arrow:before {content: \"▾\";}#sk-container-id-1 div.sk-estimator input.sk-toggleable__control:checked~label.sk-toggleable__label {background-color: #d4ebff;}#sk-container-id-1 div.sk-label input.sk-toggleable__control:checked~label.sk-toggleable__label {background-color: #d4ebff;}#sk-container-id-1 input.sk-hidden--visually {border: 0;clip: rect(1px 1px 1px 1px);clip: rect(1px, 1px, 1px, 1px);height: 1px;margin: -1px;overflow: hidden;padding: 0;position: absolute;width: 1px;}#sk-container-id-1 div.sk-estimator {font-family: monospace;background-color: #f0f8ff;border: 1px dotted black;border-radius: 0.25em;box-sizing: border-box;margin-bottom: 0.5em;}#sk-container-id-1 div.sk-estimator:hover {background-color: #d4ebff;}#sk-container-id-1 div.sk-parallel-item::after {content: \"\";width: 100%;border-bottom: 1px solid gray;flex-grow: 1;}#sk-container-id-1 div.sk-label:hover label.sk-toggleable__label {background-color: #d4ebff;}#sk-container-id-1 div.sk-serial::before {content: \"\";position: absolute;border-left: 1px solid gray;box-sizing: border-box;top: 0;bottom: 0;left: 50%;z-index: 0;}#sk-container-id-1 div.sk-serial {display: flex;flex-direction: column;align-items: center;background-color: white;padding-right: 0.2em;padding-left: 0.2em;position: relative;}#sk-container-id-1 div.sk-item {position: relative;z-index: 1;}#sk-container-id-1 div.sk-parallel {display: flex;align-items: stretch;justify-content: center;background-color: white;position: relative;}#sk-container-id-1 div.sk-item::before, #sk-container-id-1 div.sk-parallel-item::before {content: \"\";position: absolute;border-left: 1px solid gray;box-sizing: border-box;top: 0;bottom: 0;left: 50%;z-index: -1;}#sk-container-id-1 div.sk-parallel-item {display: flex;flex-direction: column;z-index: 1;position: relative;background-color: white;}#sk-container-id-1 div.sk-parallel-item:first-child::after {align-self: flex-end;width: 50%;}#sk-container-id-1 div.sk-parallel-item:last-child::after {align-self: flex-start;width: 50%;}#sk-container-id-1 div.sk-parallel-item:only-child::after {width: 0;}#sk-container-id-1 div.sk-dashed-wrapped {border: 1px dashed gray;margin: 0 0.4em 0.5em 0.4em;box-sizing: border-box;padding-bottom: 0.4em;background-color: white;}#sk-container-id-1 div.sk-label label {font-family: monospace;font-weight: bold;display: inline-block;line-height: 1.2em;}#sk-container-id-1 div.sk-label-container {text-align: center;}#sk-container-id-1 div.sk-container {/* jupyter's `normalize.less` sets `[hidden] { display: none; }` but bootstrap.min.css set `[hidden] { display: none !important; }` so we also need the `!important` here to be able to override the default hidden behavior on the sphinx rendered scikit-learn.org. See: https://github.com/scikit-learn/scikit-learn/issues/21755 */display: inline-block !important;position: relative;}#sk-container-id-1 div.sk-text-repr-fallback {display: none;}</style><div id=\"sk-container-id-1\" class=\"sk-top-container\"><div class=\"sk-text-repr-fallback\"><pre>DecisionTreeClassifier(max_depth=6)</pre><b>In a Jupyter environment, please rerun this cell to show the HTML representation or trust the notebook. <br />On GitHub, the HTML representation is unable to render, please try loading this page with nbviewer.org.</b></div><div class=\"sk-container\" hidden><div class=\"sk-item\"><div class=\"sk-estimator sk-toggleable\"><input class=\"sk-toggleable__control sk-hidden--visually\" id=\"sk-estimator-id-1\" type=\"checkbox\" checked><label for=\"sk-estimator-id-1\" class=\"sk-toggleable__label sk-toggleable__label-arrow\">DecisionTreeClassifier</label><div class=\"sk-toggleable__content\"><pre>DecisionTreeClassifier(max_depth=6)</pre></div></div></div></div></div>"
      ],
      "text/plain": [
       "DecisionTreeClassifier(max_depth=6)"
      ]
     },
     "execution_count": 7,
     "metadata": {},
     "output_type": "execute_result"
    }
   ],
   "source": [
    "model.fit(X_train, y_train)"
   ]
  },
  {
   "cell_type": "code",
   "execution_count": 11,
   "id": "f94718c4-0ca9-4817-ac7f-6e3e50f8091a",
   "metadata": {
    "tags": []
   },
   "outputs": [],
   "source": [
    "prediction = model.predict(X_test)"
   ]
  },
  {
   "cell_type": "code",
   "execution_count": 19,
   "id": "4296fab4-7759-4a1e-b05b-7582ca43170e",
   "metadata": {
    "collapsed": true,
    "jupyter": {
     "outputs_hidden": true
    },
    "tags": []
   },
   "outputs": [
    {
     "data": {
      "text/html": [
       "<div>\n",
       "<style scoped>\n",
       "    .dataframe tbody tr th:only-of-type {\n",
       "        vertical-align: middle;\n",
       "    }\n",
       "\n",
       "    .dataframe tbody tr th {\n",
       "        vertical-align: top;\n",
       "    }\n",
       "\n",
       "    .dataframe thead th {\n",
       "        text-align: right;\n",
       "    }\n",
       "</style>\n",
       "<table border=\"1\" class=\"dataframe\">\n",
       "  <thead>\n",
       "    <tr style=\"text-align: right;\">\n",
       "      <th></th>\n",
       "      <th>0</th>\n",
       "    </tr>\n",
       "  </thead>\n",
       "  <tbody>\n",
       "    <tr>\n",
       "      <th>0</th>\n",
       "      <td>1</td>\n",
       "    </tr>\n",
       "    <tr>\n",
       "      <th>1</th>\n",
       "      <td>1</td>\n",
       "    </tr>\n",
       "    <tr>\n",
       "      <th>2</th>\n",
       "      <td>1</td>\n",
       "    </tr>\n",
       "    <tr>\n",
       "      <th>3</th>\n",
       "      <td>1</td>\n",
       "    </tr>\n",
       "    <tr>\n",
       "      <th>4</th>\n",
       "      <td>0</td>\n",
       "    </tr>\n",
       "    <tr>\n",
       "      <th>...</th>\n",
       "      <td>...</td>\n",
       "    </tr>\n",
       "    <tr>\n",
       "      <th>109</th>\n",
       "      <td>1</td>\n",
       "    </tr>\n",
       "    <tr>\n",
       "      <th>110</th>\n",
       "      <td>1</td>\n",
       "    </tr>\n",
       "    <tr>\n",
       "      <th>111</th>\n",
       "      <td>0</td>\n",
       "    </tr>\n",
       "    <tr>\n",
       "      <th>112</th>\n",
       "      <td>0</td>\n",
       "    </tr>\n",
       "    <tr>\n",
       "      <th>113</th>\n",
       "      <td>1</td>\n",
       "    </tr>\n",
       "  </tbody>\n",
       "</table>\n",
       "<p>114 rows × 1 columns</p>\n",
       "</div>"
      ],
      "text/plain": [
       "     0\n",
       "0    1\n",
       "1    1\n",
       "2    1\n",
       "3    1\n",
       "4    0\n",
       "..  ..\n",
       "109  1\n",
       "110  1\n",
       "111  0\n",
       "112  0\n",
       "113  1\n",
       "\n",
       "[114 rows x 1 columns]"
      ]
     },
     "execution_count": 19,
     "metadata": {},
     "output_type": "execute_result"
    }
   ],
   "source": [
    "prediction # 오차검증할때 쓰는거임(predicton=y_test)"
   ]
  },
  {
   "cell_type": "code",
   "execution_count": 14,
   "id": "9030cb16-4d7c-498d-90c0-7e527ac2702b",
   "metadata": {
    "collapsed": true,
    "jupyter": {
     "outputs_hidden": true
    },
    "tags": []
   },
   "outputs": [
    {
     "data": {
      "text/html": [
       "<div>\n",
       "<style scoped>\n",
       "    .dataframe tbody tr th:only-of-type {\n",
       "        vertical-align: middle;\n",
       "    }\n",
       "\n",
       "    .dataframe tbody tr th {\n",
       "        vertical-align: top;\n",
       "    }\n",
       "\n",
       "    .dataframe thead th {\n",
       "        text-align: right;\n",
       "    }\n",
       "</style>\n",
       "<table border=\"1\" class=\"dataframe\">\n",
       "  <thead>\n",
       "    <tr style=\"text-align: right;\">\n",
       "      <th></th>\n",
       "      <th>class</th>\n",
       "    </tr>\n",
       "  </thead>\n",
       "  <tbody>\n",
       "    <tr>\n",
       "      <th>474</th>\n",
       "      <td>1</td>\n",
       "    </tr>\n",
       "    <tr>\n",
       "      <th>172</th>\n",
       "      <td>0</td>\n",
       "    </tr>\n",
       "    <tr>\n",
       "      <th>41</th>\n",
       "      <td>0</td>\n",
       "    </tr>\n",
       "    <tr>\n",
       "      <th>549</th>\n",
       "      <td>1</td>\n",
       "    </tr>\n",
       "    <tr>\n",
       "      <th>337</th>\n",
       "      <td>0</td>\n",
       "    </tr>\n",
       "    <tr>\n",
       "      <th>...</th>\n",
       "      <td>...</td>\n",
       "    </tr>\n",
       "    <tr>\n",
       "      <th>309</th>\n",
       "      <td>1</td>\n",
       "    </tr>\n",
       "    <tr>\n",
       "      <th>455</th>\n",
       "      <td>1</td>\n",
       "    </tr>\n",
       "    <tr>\n",
       "      <th>34</th>\n",
       "      <td>0</td>\n",
       "    </tr>\n",
       "    <tr>\n",
       "      <th>244</th>\n",
       "      <td>0</td>\n",
       "    </tr>\n",
       "    <tr>\n",
       "      <th>278</th>\n",
       "      <td>1</td>\n",
       "    </tr>\n",
       "  </tbody>\n",
       "</table>\n",
       "<p>114 rows × 1 columns</p>\n",
       "</div>"
      ],
      "text/plain": [
       "     class\n",
       "474      1\n",
       "172      0\n",
       "41       0\n",
       "549      1\n",
       "337      0\n",
       "..     ...\n",
       "309      1\n",
       "455      1\n",
       "34       0\n",
       "244      0\n",
       "278      1\n",
       "\n",
       "[114 rows x 1 columns]"
      ]
     },
     "execution_count": 14,
     "metadata": {},
     "output_type": "execute_result"
    }
   ],
   "source": [
    "y_test"
   ]
  },
  {
   "cell_type": "code",
   "execution_count": 9,
   "id": "49402a25-c4a0-4fd8-b3c4-e73225b60ca9",
   "metadata": {
    "tags": []
   },
   "outputs": [
    {
     "data": {
      "text/plain": [
       "1.0"
      ]
     },
     "execution_count": 9,
     "metadata": {},
     "output_type": "execute_result"
    }
   ],
   "source": [
    "model.score(X_train, y_train) # 훈련 정확도 "
   ]
  },
  {
   "cell_type": "code",
   "execution_count": 20,
   "id": "d0624709-2b2d-402b-982e-ba6e9c18c44a",
   "metadata": {
    "tags": []
   },
   "outputs": [
    {
     "data": {
      "text/plain": [
       "0.9035087719298246"
      ]
     },
     "execution_count": 20,
     "metadata": {},
     "output_type": "execute_result"
    }
   ],
   "source": [
    "model.score(X_test, y_test) # 테스트 정확도 >> 훈련정확도는 높은데 테스트 정확도가 낮음 --> Overfitting!!(갭이 0.01이나 0.02정도 나와야 overfitting이 아니다..라고 할 수 있음)"
   ]
  },
  {
   "cell_type": "code",
   "execution_count": 22,
   "id": "2abc8f42-b826-4e3b-be60-818b37ceeeb8",
   "metadata": {
    "tags": []
   },
   "outputs": [
    {
     "data": {
      "text/plain": [
       "0.09649122807017543"
      ]
     },
     "execution_count": 22,
     "metadata": {},
     "output_type": "execute_result"
    }
   ],
   "source": [
    "from sklearn.metrics import mean_squared_error\n",
    "mean_squared_error(y_test, prediction)"
   ]
  },
  {
   "cell_type": "code",
   "execution_count": null,
   "id": "b462a461-d4a4-4d78-ade6-4209ae12b85f",
   "metadata": {},
   "outputs": [],
   "source": [
    "# importance 상위 5개, 7개만 보고 싶음\n",
    "# tick 처리 좀.. 하고 싶음.."
   ]
  },
  {
   "cell_type": "code",
   "execution_count": 227,
   "id": "27b0a4e3-9b03-46ec-a1da-5d2ac79e1ab8",
   "metadata": {
    "tags": []
   },
   "outputs": [
    {
     "data": {
      "text/plain": [
       "array([0.        , 0.05092353, 0.        , 0.        , 0.        ,\n",
       "       0.00801045, 0.        , 0.        , 0.        , 0.        ,\n",
       "       0.        , 0.        , 0.        , 0.        , 0.        ,\n",
       "       0.        , 0.        , 0.0088115 , 0.00931298, 0.        ,\n",
       "       0.73920134, 0.0326473 , 0.00567707, 0.        , 0.01384664,\n",
       "       0.        , 0.01380957, 0.11006961, 0.        , 0.00769003])"
      ]
     },
     "execution_count": 227,
     "metadata": {},
     "output_type": "execute_result"
    }
   ],
   "source": [
    "importance = model.feature_importances_\n",
    "importance"
   ]
  },
  {
   "cell_type": "code",
   "execution_count": 228,
   "id": "4aa9e591-b42f-4d1b-82a2-dfe094e7930b",
   "metadata": {
    "tags": []
   },
   "outputs": [
    {
     "data": {
      "text/plain": [
       "<BarContainer object of 30 artists>"
      ]
     },
     "execution_count": 228,
     "metadata": {},
     "output_type": "execute_result"
    },
    {
     "data": {
      "image/png": "[encoded data removed]",
      "text/plain": [
       "<Figure size 800x600 with 1 Axes>"
      ]
     },
     "metadata": {},
     "output_type": "display_data"
    }
   ],
   "source": [
    "import matplotlib.pyplot as plt\n",
    "\n",
    "plt.figure(figsize = (8,6))\n",
    "plt.bar(input_data.columns, importance)"
   ]
  },
  {
   "cell_type": "code",
   "execution_count": 229,
   "id": "bd889abc-4145-4597-9fec-5b5e50578743",
   "metadata": {
    "collapsed": true,
    "jupyter": {
     "outputs_hidden": true
    },
    "tags": []
   },
   "outputs": [
    {
     "data": {
      "text/plain": [
       "([<matplotlib.patches.Wedge at 0x29d072ca820>,\n",
       "  <matplotlib.patches.Wedge at 0x29d072caca0>,\n",
       "  <matplotlib.patches.Wedge at 0x29d072fd100>,\n",
       "  <matplotlib.patches.Wedge at 0x29d072fd580>,\n",
       "  <matplotlib.patches.Wedge at 0x29d072fda00>,\n",
       "  <matplotlib.patches.Wedge at 0x29d072fdd90>,\n",
       "  <matplotlib.patches.Wedge at 0x29d072e1280>,\n",
       "  <matplotlib.patches.Wedge at 0x29d072e1700>,\n",
       "  <matplotlib.patches.Wedge at 0x29d072e1b80>,\n",
       "  <matplotlib.patches.Wedge at 0x29d072d9040>,\n",
       "  <matplotlib.patches.Wedge at 0x29d072ca7f0>,\n",
       "  <matplotlib.patches.Wedge at 0x29d072d9910>,\n",
       "  <matplotlib.patches.Wedge at 0x29d072d9d90>,\n",
       "  <matplotlib.patches.Wedge at 0x29d06b7d250>,\n",
       "  <matplotlib.patches.Wedge at 0x29d06b7d6d0>,\n",
       "  <matplotlib.patches.Wedge at 0x29d06b7db50>,\n",
       "  <matplotlib.patches.Wedge at 0x29d06b7dfd0>,\n",
       "  <matplotlib.patches.Wedge at 0x29d06b90490>,\n",
       "  <matplotlib.patches.Wedge at 0x29d06b908b0>,\n",
       "  <matplotlib.patches.Wedge at 0x29d06b90d30>,\n",
       "  <matplotlib.patches.Wedge at 0x29d06b791f0>,\n",
       "  <matplotlib.patches.Wedge at 0x29d06b79670>,\n",
       "  <matplotlib.patches.Wedge at 0x29d06b79af0>,\n",
       "  <matplotlib.patches.Wedge at 0x29d06b79f70>,\n",
       "  <matplotlib.patches.Wedge at 0x29d06b9e430>,\n",
       "  <matplotlib.patches.Wedge at 0x29d06b9e8b0>,\n",
       "  <matplotlib.patches.Wedge at 0x29d06b9ed30>,\n",
       "  <matplotlib.patches.Wedge at 0x29d06b851f0>,\n",
       "  <matplotlib.patches.Wedge at 0x29d06b85670>,\n",
       "  <matplotlib.patches.Wedge at 0x29d06b85af0>],\n",
       " [Text(1.1, 0.0, ''),\n",
       "  Text(1.0859533413579259, 0.17522939363461898, ''),\n",
       "  Text(1.0441721083753523, 0.3459835373120686, ''),\n",
       "  Text(1.0441721083753523, 0.3459835373120686, ''),\n",
       "  Text(1.0441721083753523, 0.3459835373120686, ''),\n",
       "  Text(1.0351355305000554, 0.3721484025175563, ''),\n",
       "  Text(1.0254434296004704, 0.3980775963166297, ''),\n",
       "  Text(1.0254434296004704, 0.3980775963166297, ''),\n",
       "  Text(1.0254434296004704, 0.3980775963166297, ''),\n",
       "  Text(1.0254434296004704, 0.3980775963166297, ''),\n",
       "  Text(1.0254434296004704, 0.3980775963166297, ''),\n",
       "  Text(1.0254434296004704, 0.3980775963166297, ''),\n",
       "  Text(1.0254434296004704, 0.3980775963166297, ''),\n",
       "  Text(1.0254434296004704, 0.3980775963166297, ''),\n",
       "  Text(1.0254434296004704, 0.3980775963166297, ''),\n",
       "  Text(1.0254434296004704, 0.3980775963166297, ''),\n",
       "  Text(1.0254434296004704, 0.3980775963166297, ''),\n",
       "  Text(1.0140323279540253, 0.4263079143813078, ''),\n",
       "  Text(0.9881282265846691, 0.48332453675210507, ''),\n",
       "  Text(0.9735664472769208, 0.5120238009473728, ''),\n",
       "  Text(-1.038796896803499, 0.36180244221317925, ''),\n",
       "  Text(0.5455055838319773, -0.9552086986664924, ''),\n",
       "  Text(0.6562855497747395, -0.8827736273569052, ''),\n",
       "  Text(0.6719246333759825, -0.8709289793447866, ''),\n",
       "  Text(0.7091628840415498, -0.8408852501369444, ''),\n",
       "  Text(0.7450594026463825, -0.8092505709162126, ''),\n",
       "  Text(0.7794558850778295, -0.7761755749941747, ''),\n",
       "  Text(1.0156718740337345, -0.42238684200244914, ''),\n",
       "  Text(1.098716219086981, -0.053128804948060056, ''),\n",
       "  Text(1.0996790104251033, -0.02657205356131708, '')])"
      ]
     },
     "execution_count": 229,
     "metadata": {},
     "output_type": "execute_result"
    },
    {
     "data": {
      "image/png": "[encoded data removed]",
      "text/plain": [
       "<Figure size 800x600 with 1 Axes>"
      ]
     },
     "metadata": {},
     "output_type": "display_data"
    }
   ],
   "source": [
    "import matplotlib.pyplot as plt\n",
    "\n",
    "plt.figure(figsize = (8,6))\n",
    "plt.pie(importance)"
   ]
  },
  {
   "cell_type": "code",
   "execution_count": 230,
   "id": "7d3a7074-1796-45c9-a39d-a4d0a944c043",
   "metadata": {
    "tags": []
   },
   "outputs": [
    {
     "name": "stderr",
     "output_type": "stream",
     "text": [
      "C:\\Users\\SBAUser\\AppData\\Local\\Temp\\ipykernel_2144\\3435090659.py:4: DeprecationWarning: `set_matplotlib_formats` is deprecated since IPython 7.23, directly use `matplotlib_inline.backend_inline.set_matplotlib_formats()`\n",
      "  set_matplotlib_formats(\"retina\")\n"
     ]
    },
    {
     "data": {
      "image/png": "[encoded data removed]",
      "text/plain": [
       "<Figure size 1500x800 with 1 Axes>"
      ]
     },
     "metadata": {
      "image/png": {
       "height": 636,
       "width": 1182
      }
     },
     "output_type": "display_data"
    }
   ],
   "source": [
    "from sklearn.tree import plot_tree\n",
    "import matplotlib.pyplot as plt\n",
    "from IPython.display import set_matplotlib_formats\n",
    "set_matplotlib_formats(\"retina\")\n",
    "plt.rcParams['figure.figsize'] = [15,8]\n",
    "\n",
    "plot_tree(model, class_names=[\"malignity\", \"positivity\"], feature_names=cancer_data.feature_names,\n",
    "         impurity=False, filled=True, rounded=True, fontsize=4)\n",
    "\n",
    "plt.show()"
   ]
  },
  {
   "cell_type": "markdown",
   "id": "1b10db17-b8c4-4c18-9833-6e4bba622031",
   "metadata": {},
   "source": [
    "## Scaler (스케일 변환)\n",
    "- 데이터를 전처리하는 느낌\n",
    "- 왜함? 단위를 맞춰줘야 해! 그래야 비교.. 분석이 가능하니까!\n",
    "- StandardScaler(표준화) > 평균0, 분산1 / MinMaxScaler(정규화) > 모든 데이터가 0~1 사이에 위치하도록 데이트 변환\n",
    "- RobustScaler > 중간값과 사분위 값 사용(이상치 영향 덜 받음) / Normalizer > 각도 중요할 때 사용"
   ]
  },
  {
   "cell_type": "code",
   "execution_count": 1,
   "id": "de4375a6-47e6-4d2d-b3ed-689a89419d5d",
   "metadata": {
    "tags": []
   },
   "outputs": [],
   "source": [
    "from sklearn.datasets import load_breast_cancer\n",
    "from sklearn.model_selection import train_test_split\n",
    "from sklearn.tree import DecisionTreeClassifier\n",
    "\n",
    "import pandas as pd\n",
    "\n",
    "cancer_data = load_breast_cancer()\n",
    "\n",
    "X = pd.DataFrame(cancer_data.data, columns=cancer_data.feature_names) # input data\n",
    "y = pd.DataFrame(cancer_data.target, columns=['class']) # target data"
   ]
  },
  {
   "cell_type": "code",
   "execution_count": 3,
   "id": "ec5c13cc-6baa-4932-a511-e311743217c4",
   "metadata": {
    "tags": []
   },
   "outputs": [],
   "source": [
    "X_train, X_test, y_train, y_test = train_test_split(X, y, test_size = 0.2, random_state = 1004)"
   ]
  },
  {
   "cell_type": "code",
   "execution_count": 2,
   "id": "9227e814-5da6-44cb-9e4f-9bbb80924044",
   "metadata": {
    "tags": []
   },
   "outputs": [],
   "source": [
    "from sklearn.preprocessing import MinMaxScaler"
   ]
  },
  {
   "cell_type": "code",
   "execution_count": 4,
   "id": "4e22f040-e2ae-4481-9d6b-5d172fabc345",
   "metadata": {
    "tags": []
   },
   "outputs": [
    {
     "data": {
      "text/html": [
       "<style>#sk-container-id-1 {color: black;background-color: white;}#sk-container-id-1 pre{padding: 0;}#sk-container-id-1 div.sk-toggleable {background-color: white;}#sk-container-id-1 label.sk-toggleable__label {cursor: pointer;display: block;width: 100%;margin-bottom: 0;padding: 0.3em;box-sizing: border-box;text-align: center;}#sk-container-id-1 label.sk-toggleable__label-arrow:before {content: \"▸\";float: left;margin-right: 0.25em;color: #696969;}#sk-container-id-1 label.sk-toggleable__label-arrow:hover:before {color: black;}#sk-container-id-1 div.sk-estimator:hover label.sk-toggleable__label-arrow:before {color: black;}#sk-container-id-1 div.sk-toggleable__content {max-height: 0;max-width: 0;overflow: hidden;text-align: left;background-color: #f0f8ff;}#sk-container-id-1 div.sk-toggleable__content pre {margin: 0.2em;color: black;border-radius: 0.25em;background-color: #f0f8ff;}#sk-container-id-1 input.sk-toggleable__control:checked~div.sk-toggleable__content {max-height: 200px;max-width: 100%;overflow: auto;}#sk-container-id-1 input.sk-toggleable__control:checked~label.sk-toggleable__label-arrow:before {content: \"▾\";}#sk-container-id-1 div.sk-estimator input.sk-toggleable__control:checked~label.sk-toggleable__label {background-color: #d4ebff;}#sk-container-id-1 div.sk-label input.sk-toggleable__control:checked~label.sk-toggleable__label {background-color: #d4ebff;}#sk-container-id-1 input.sk-hidden--visually {border: 0;clip: rect(1px 1px 1px 1px);clip: rect(1px, 1px, 1px, 1px);height: 1px;margin: -1px;overflow: hidden;padding: 0;position: absolute;width: 1px;}#sk-container-id-1 div.sk-estimator {font-family: monospace;background-color: #f0f8ff;border: 1px dotted black;border-radius: 0.25em;box-sizing: border-box;margin-bottom: 0.5em;}#sk-container-id-1 div.sk-estimator:hover {background-color: #d4ebff;}#sk-container-id-1 div.sk-parallel-item::after {content: \"\";width: 100%;border-bottom: 1px solid gray;flex-grow: 1;}#sk-container-id-1 div.sk-label:hover label.sk-toggleable__label {background-color: #d4ebff;}#sk-container-id-1 div.sk-serial::before {content: \"\";position: absolute;border-left: 1px solid gray;box-sizing: border-box;top: 0;bottom: 0;left: 50%;z-index: 0;}#sk-container-id-1 div.sk-serial {display: flex;flex-direction: column;align-items: center;background-color: white;padding-right: 0.2em;padding-left: 0.2em;position: relative;}#sk-container-id-1 div.sk-item {position: relative;z-index: 1;}#sk-container-id-1 div.sk-parallel {display: flex;align-items: stretch;justify-content: center;background-color: white;position: relative;}#sk-container-id-1 div.sk-item::before, #sk-container-id-1 div.sk-parallel-item::before {content: \"\";position: absolute;border-left: 1px solid gray;box-sizing: border-box;top: 0;bottom: 0;left: 50%;z-index: -1;}#sk-container-id-1 div.sk-parallel-item {display: flex;flex-direction: column;z-index: 1;position: relative;background-color: white;}#sk-container-id-1 div.sk-parallel-item:first-child::after {align-self: flex-end;width: 50%;}#sk-container-id-1 div.sk-parallel-item:last-child::after {align-self: flex-start;width: 50%;}#sk-container-id-1 div.sk-parallel-item:only-child::after {width: 0;}#sk-container-id-1 div.sk-dashed-wrapped {border: 1px dashed gray;margin: 0 0.4em 0.5em 0.4em;box-sizing: border-box;padding-bottom: 0.4em;background-color: white;}#sk-container-id-1 div.sk-label label {font-family: monospace;font-weight: bold;display: inline-block;line-height: 1.2em;}#sk-container-id-1 div.sk-label-container {text-align: center;}#sk-container-id-1 div.sk-container {/* jupyter's `normalize.less` sets `[hidden] { display: none; }` but bootstrap.min.css set `[hidden] { display: none !important; }` so we also need the `!important` here to be able to override the default hidden behavior on the sphinx rendered scikit-learn.org. See: https://github.com/scikit-learn/scikit-learn/issues/21755 */display: inline-block !important;position: relative;}#sk-container-id-1 div.sk-text-repr-fallback {display: none;}</style><div id=\"sk-container-id-1\" class=\"sk-top-container\"><div class=\"sk-text-repr-fallback\"><pre>MinMaxScaler()</pre><b>In a Jupyter environment, please rerun this cell to show the HTML representation or trust the notebook. <br />On GitHub, the HTML representation is unable to render, please try loading this page with nbviewer.org.</b></div><div class=\"sk-container\" hidden><div class=\"sk-item\"><div class=\"sk-estimator sk-toggleable\"><input class=\"sk-toggleable__control sk-hidden--visually\" id=\"sk-estimator-id-1\" type=\"checkbox\" checked><label for=\"sk-estimator-id-1\" class=\"sk-toggleable__label sk-toggleable__label-arrow\">MinMaxScaler</label><div class=\"sk-toggleable__content\"><pre>MinMaxScaler()</pre></div></div></div></div></div>"
      ],
      "text/plain": [
       "MinMaxScaler()"
      ]
     },
     "execution_count": 4,
     "metadata": {},
     "output_type": "execute_result"
    }
   ],
   "source": [
    "# scaler 선언\n",
    "scaler = MinMaxScaler()\n",
    "scaler.fit(X_train) # scaler.fit > X_train의 max, min을 활용해 scaler를 만들겠다는 의미"
   ]
  },
  {
   "cell_type": "code",
   "execution_count": 10,
   "id": "34e71222-ea6a-423e-9fc0-ab5402fc336d",
   "metadata": {
    "collapsed": true,
    "jupyter": {
     "outputs_hidden": true
    },
    "tags": []
   },
   "outputs": [
    {
     "name": "stdout",
     "output_type": "stream",
     "text": [
      "스케일 변환 전 모양: (455, 30)\n",
      "스케일 변환 후 모양: (455, 30)\n",
      "스케일 변환 전 최소값:\n",
      " mean radius                  6.981000\n",
      "mean texture                 9.710000\n",
      "mean perimeter              43.790000\n",
      "mean area                  143.500000\n",
      "mean smoothness              0.052630\n",
      "mean compactness             0.019380\n",
      "mean concavity               0.000000\n",
      "mean concave points          0.000000\n",
      "mean symmetry                0.106000\n",
      "mean fractal dimension       0.049960\n",
      "radius error                 0.111500\n",
      "texture error                0.360200\n",
      "perimeter error              0.771400\n",
      "area error                   7.228000\n",
      "smoothness error             0.002826\n",
      "compactness error            0.002252\n",
      "concavity error              0.000000\n",
      "concave points error         0.000000\n",
      "symmetry error               0.007882\n",
      "fractal dimension error      0.000895\n",
      "worst radius                 7.930000\n",
      "worst texture               12.020000\n",
      "worst perimeter             50.410000\n",
      "worst area                 185.200000\n",
      "worst smoothness             0.081250\n",
      "worst compactness            0.034320\n",
      "worst concavity              0.000000\n",
      "worst concave points         0.000000\n",
      "worst symmetry               0.156500\n",
      "worst fractal dimension      0.055040\n",
      "dtype: float64\n",
      "스케일 변환 전 최대값:\n",
      " mean radius                  28.11000\n",
      "mean texture                 39.28000\n",
      "mean perimeter              188.50000\n",
      "mean area                  2501.00000\n",
      "mean smoothness               0.16340\n",
      "mean compactness              0.34540\n",
      "mean concavity                0.42680\n",
      "mean concave points           0.20120\n",
      "mean symmetry                 0.30400\n",
      "mean fractal dimension        0.09744\n",
      "radius error                  2.87300\n",
      "texture error                 3.89600\n",
      "perimeter error              21.98000\n",
      "area error                  542.20000\n",
      "smoothness error              0.03113\n",
      "compactness error             0.13540\n",
      "concavity error               0.30380\n",
      "concave points error          0.04090\n",
      "symmetry error                0.07895\n",
      "fractal dimension error       0.02286\n",
      "worst radius                 36.04000\n",
      "worst texture                49.54000\n",
      "worst perimeter             251.20000\n",
      "worst area                 4254.00000\n",
      "worst smoothness              0.21840\n",
      "worst compactness             1.05800\n",
      "worst concavity               1.25200\n",
      "worst concave points          0.29100\n",
      "worst symmetry                0.66380\n",
      "worst fractal dimension       0.20750\n",
      "dtype: float64\n",
      "스케일 변환 후 최소값:\n",
      " [0. 0. 0. 0. 0. 0. 0. 0. 0. 0. 0. 0. 0. 0. 0. 0. 0. 0. 0. 0. 0. 0. 0. 0.\n",
      " 0. 0. 0. 0. 0. 0.]\n",
      "스케일 변환 후 최대값:\n",
      " [1. 1. 1. 1. 1. 1. 1. 1. 1. 1. 1. 1. 1. 1. 1. 1. 1. 1. 1. 1. 1. 1. 1. 1.\n",
      " 1. 1. 1. 1. 1. 1.]\n"
     ]
    }
   ],
   "source": [
    "X_train_scaled = scaler.transform(X_train) # X_train 기준으로 scaler를 만들고(scaler.fit), scaler에다가 X_train 데이터를 transform 해줌\n",
    "print('스케일 변환 전 모양:', X_train.shape)\n",
    "print('스케일 변환 후 모양:', X_train_scaled.shape) # size는 바뀌지 않음\n",
    "\n",
    "print('스케일 변환 전 최소값:\\n', X_train.min(axis = 0))\n",
    "print('스케일 변환 전 최대값:\\n', X_train.max(axis = 0))\n",
    "print('스케일 변환 후 최소값:\\n', X_train_scaled.min(axis = 0))\n",
    "print('스케일 변환 후 최대값:\\n', X_train_scaled.max(axis = 0))"
   ]
  },
  {
   "cell_type": "code",
   "execution_count": 11,
   "id": "df59b8b1-4077-420c-ad04-4d3a3cb7fb2b",
   "metadata": {
    "tags": []
   },
   "outputs": [
    {
     "name": "stdout",
     "output_type": "stream",
     "text": [
      "스케일 변환 후 최소값:\n",
      " [ 0.07747645  0.0226581   0.07290443  0.03435843  0.1185339   0.01245322\n",
      "  0.          0.          0.08080808  0.01010952  0.00137606  0.00053736\n",
      " -0.00067897 -0.0007963  -0.03932306  0.01846817  0.          0.\n",
      "  0.0374008   0.01052574  0.05610103  0.09008529  0.04726331  0.02204581\n",
      " -0.07349617 -0.00686738  0.          0.          0.02897694  0.02407189]\n",
      "스케일 변환 후 최대값:\n",
      " [0.9578778  0.71051742 0.95577362 0.89353128 0.71923806 0.89571192\n",
      " 0.96251172 0.9333996  0.81717172 0.90564448 0.42748506 1.27971039\n",
      " 0.44079289 0.29323404 0.51349633 0.70303722 1.30348914 1.29070905\n",
      " 0.68100974 1.31777539 0.89612238 0.82009595 0.84859804 0.74488793\n",
      " 1.03062341 0.73986011 0.93450479 0.92371134 0.82968658 0.56316411]\n"
     ]
    }
   ],
   "source": [
    "X_test_scaled = scaler.transform(X_test) # X_train 기준으로 학습했기 때문에 값이 이렇게 나옴! 같은 스케일러 쓰는게 중요!(이게 0,1 사이 아니라고 틀린게 아님!)\n",
    "print('스케일 변환 후 최소값:\\n', X_test_scaled.min(axis = 0))\n",
    "print('스케일 변환 후 최대값:\\n', X_test_scaled.max(axis = 0))"
   ]
  },
  {
   "cell_type": "markdown",
   "id": "23f5da95-a293-491e-b148-4b3f722f2bbc",
   "metadata": {},
   "source": [
    "## 스케일 변환2\n",
    "- `scaler.fit_transform()`\n",
    "- fit, transform을 한번에 해보기!\n",
    "- 같은 스케일러를 써줘야 한다!"
   ]
  },
  {
   "cell_type": "code",
   "execution_count": 27,
   "id": "48d3daea-1667-4947-b75c-f91675367645",
   "metadata": {
    "tags": []
   },
   "outputs": [],
   "source": [
    "from sklearn.datasets import load_breast_cancer\n",
    "from sklearn.model_selection import train_test_split\n",
    "from sklearn.tree import DecisionTreeClassifier\n",
    "\n",
    "import pandas as pd\n",
    "\n",
    "cancer_data = load_breast_cancer()\n",
    "\n",
    "X = pd.DataFrame(cancer_data.data, columns=cancer_data.feature_names) # input data\n",
    "y = pd.DataFrame(cancer_data.target, columns=['class']) # target data"
   ]
  },
  {
   "cell_type": "code",
   "execution_count": 28,
   "id": "9e237582-e49e-4d87-892e-226679fb9232",
   "metadata": {
    "tags": []
   },
   "outputs": [],
   "source": [
    "X_train, X_test, y_train, y_test = train_test_split(X, y, test_size = 0.2, random_state = 1004)"
   ]
  },
  {
   "cell_type": "code",
   "execution_count": 29,
   "id": "f86f8990-a642-4257-9852-238b8bb22439",
   "metadata": {
    "tags": []
   },
   "outputs": [],
   "source": [
    "from sklearn.preprocessing import MinMaxScaler"
   ]
  },
  {
   "cell_type": "code",
   "execution_count": 30,
   "id": "9c83c287-6a6e-432f-85df-4a848e478a30",
   "metadata": {
    "tags": []
   },
   "outputs": [
    {
     "name": "stdout",
     "output_type": "stream",
     "text": [
      "스케일 변환 전 모양: (455, 30)\n",
      "스케일 변환 후 모양: (455, 30)\n",
      "스케일 변환 전 최소값:\n",
      " mean radius                  6.981000\n",
      "mean texture                 9.710000\n",
      "mean perimeter              43.790000\n",
      "mean area                  143.500000\n",
      "mean smoothness              0.052630\n",
      "mean compactness             0.019380\n",
      "mean concavity               0.000000\n",
      "mean concave points          0.000000\n",
      "mean symmetry                0.106000\n",
      "mean fractal dimension       0.049960\n",
      "radius error                 0.111500\n",
      "texture error                0.360200\n",
      "perimeter error              0.771400\n",
      "area error                   7.228000\n",
      "smoothness error             0.002826\n",
      "compactness error            0.002252\n",
      "concavity error              0.000000\n",
      "concave points error         0.000000\n",
      "symmetry error               0.007882\n",
      "fractal dimension error      0.000895\n",
      "worst radius                 7.930000\n",
      "worst texture               12.020000\n",
      "worst perimeter             50.410000\n",
      "worst area                 185.200000\n",
      "worst smoothness             0.081250\n",
      "worst compactness            0.034320\n",
      "worst concavity              0.000000\n",
      "worst concave points         0.000000\n",
      "worst symmetry               0.156500\n",
      "worst fractal dimension      0.055040\n",
      "dtype: float64\n",
      "스케일 변환 전 최대값:\n",
      " mean radius                  28.11000\n",
      "mean texture                 39.28000\n",
      "mean perimeter              188.50000\n",
      "mean area                  2501.00000\n",
      "mean smoothness               0.16340\n",
      "mean compactness              0.34540\n",
      "mean concavity                0.42680\n",
      "mean concave points           0.20120\n",
      "mean symmetry                 0.30400\n",
      "mean fractal dimension        0.09744\n",
      "radius error                  2.87300\n",
      "texture error                 3.89600\n",
      "perimeter error              21.98000\n",
      "area error                  542.20000\n",
      "smoothness error              0.03113\n",
      "compactness error             0.13540\n",
      "concavity error               0.30380\n",
      "concave points error          0.04090\n",
      "symmetry error                0.07895\n",
      "fractal dimension error       0.02286\n",
      "worst radius                 36.04000\n",
      "worst texture                49.54000\n",
      "worst perimeter             251.20000\n",
      "worst area                 4254.00000\n",
      "worst smoothness              0.21840\n",
      "worst compactness             1.05800\n",
      "worst concavity               1.25200\n",
      "worst concave points          0.29100\n",
      "worst symmetry                0.66380\n",
      "worst fractal dimension       0.20750\n",
      "dtype: float64\n",
      "스케일 변환 후 최소값:\n",
      " [0. 0. 0. 0. 0. 0. 0. 0. 0. 0. 0. 0. 0. 0. 0. 0. 0. 0. 0. 0. 0. 0. 0. 0.\n",
      " 0. 0. 0. 0. 0. 0.]\n",
      "스케일 변환 후 최대값:\n",
      " [1. 1. 1. 1. 1. 1. 1. 1. 1. 1. 1. 1. 1. 1. 1. 1. 1. 1. 1. 1. 1. 1. 1. 1.\n",
      " 1. 1. 1. 1. 1. 1.]\n"
     ]
    }
   ],
   "source": [
    "# scaler 선언\n",
    "scaler = MinMaxScaler()\n",
    "X_train_scaled = scaler.fit_transform(X_train)\n",
    "\n",
    "print('스케일 변환 전 모양:', X_train.shape)\n",
    "print('스케일 변환 후 모양:', X_train_scaled.shape) # size는 바뀌지 않음\n",
    "\n",
    "print('스케일 변환 전 최소값:\\n', X_train.min(axis = 0))\n",
    "print('스케일 변환 전 최대값:\\n', X_train.max(axis = 0))\n",
    "print('스케일 변환 후 최소값:\\n', X_train_scaled.min(axis = 0))\n",
    "print('스케일 변환 후 최대값:\\n', X_train_scaled.max(axis = 0))"
   ]
  },
  {
   "cell_type": "code",
   "execution_count": 31,
   "id": "759172a3-a8c3-41e0-a8ee-aaa590667806",
   "metadata": {
    "tags": []
   },
   "outputs": [
    {
     "name": "stdout",
     "output_type": "stream",
     "text": [
      "스케일 변환 후 최소값:\n",
      " [0. 0. 0. 0. 0. 0. 0. 0. 0. 0. 0. 0. 0. 0. 0. 0. 0. 0. 0. 0. 0. 0. 0. 0.\n",
      " 0. 0. 0. 0. 0. 0.]\n",
      "스케일 변환 후 최대값:\n",
      " [1. 1. 1. 1. 1. 1. 1. 1. 1. 1. 1. 1. 1. 1. 1. 1. 1. 1. 1. 1. 1. 1. 1. 1.\n",
      " 1. 1. 1. 1. 1. 1.]\n"
     ]
    }
   ],
   "source": [
    "X_test_scaled = scaler.transform(X_test) # 여기서 fit_transform 하면 안됨! scaler가 달라짐!(다른 scaler) >> 같은 scaler를 써야 함!\n",
    "print('스케일 변환 후 최소값:\\n', X_train_scaled.min(axis = 0))\n",
    "print('스케일 변환 후 최대값:\\n', X_train_scaled.max(axis = 0))"
   ]
  },
  {
   "cell_type": "code",
   "execution_count": null,
   "id": "2423ed6b-f225-48f0-ad1d-5c173a28d256",
   "metadata": {},
   "outputs": [],
   "source": []
  },
  {
   "cell_type": "markdown",
   "id": "cbd6f185-034c-44e5-8c52-6f11bd6c5019",
   "metadata": {},
   "source": [
    "- 스케일 변환이 모델에 성능 향상에도 영향을 준다! scm?! >> 스케일러 영향을 많이 받는 모델!"
   ]
  },
  {
   "cell_type": "markdown",
   "id": "be54a8ff-31a8-422a-9a25-d4f3486a9a13",
   "metadata": {},
   "source": [
    "- 스케일 변환 후 결과 차이 보기!"
   ]
  },
  {
   "cell_type": "code",
   "execution_count": 32,
   "id": "c1a49389-d2d2-439e-a470-12437f3dc832",
   "metadata": {
    "tags": []
   },
   "outputs": [],
   "source": [
    "from sklearn.tree import DecisionTreeClassifier\n",
    "\n",
    "model = DecisionTreeClassifier(max_depth=6) "
   ]
  },
  {
   "cell_type": "code",
   "execution_count": 33,
   "id": "413dadf5-e1f5-44cd-9e01-4589d6289c97",
   "metadata": {
    "tags": []
   },
   "outputs": [
    {
     "data": {
      "text/html": [
       "<style>#sk-container-id-4 {color: black;background-color: white;}#sk-container-id-4 pre{padding: 0;}#sk-container-id-4 div.sk-toggleable {background-color: white;}#sk-container-id-4 label.sk-toggleable__label {cursor: pointer;display: block;width: 100%;margin-bottom: 0;padding: 0.3em;box-sizing: border-box;text-align: center;}#sk-container-id-4 label.sk-toggleable__label-arrow:before {content: \"▸\";float: left;margin-right: 0.25em;color: #696969;}#sk-container-id-4 label.sk-toggleable__label-arrow:hover:before {color: black;}#sk-container-id-4 div.sk-estimator:hover label.sk-toggleable__label-arrow:before {color: black;}#sk-container-id-4 div.sk-toggleable__content {max-height: 0;max-width: 0;overflow: hidden;text-align: left;background-color: #f0f8ff;}#sk-container-id-4 div.sk-toggleable__content pre {margin: 0.2em;color: black;border-radius: 0.25em;background-color: #f0f8ff;}#sk-container-id-4 input.sk-toggleable__control:checked~div.sk-toggleable__content {max-height: 200px;max-width: 100%;overflow: auto;}#sk-container-id-4 input.sk-toggleable__control:checked~label.sk-toggleable__label-arrow:before {content: \"▾\";}#sk-container-id-4 div.sk-estimator input.sk-toggleable__control:checked~label.sk-toggleable__label {background-color: #d4ebff;}#sk-container-id-4 div.sk-label input.sk-toggleable__control:checked~label.sk-toggleable__label {background-color: #d4ebff;}#sk-container-id-4 input.sk-hidden--visually {border: 0;clip: rect(1px 1px 1px 1px);clip: rect(1px, 1px, 1px, 1px);height: 1px;margin: -1px;overflow: hidden;padding: 0;position: absolute;width: 1px;}#sk-container-id-4 div.sk-estimator {font-family: monospace;background-color: #f0f8ff;border: 1px dotted black;border-radius: 0.25em;box-sizing: border-box;margin-bottom: 0.5em;}#sk-container-id-4 div.sk-estimator:hover {background-color: #d4ebff;}#sk-container-id-4 div.sk-parallel-item::after {content: \"\";width: 100%;border-bottom: 1px solid gray;flex-grow: 1;}#sk-container-id-4 div.sk-label:hover label.sk-toggleable__label {background-color: #d4ebff;}#sk-container-id-4 div.sk-serial::before {content: \"\";position: absolute;border-left: 1px solid gray;box-sizing: border-box;top: 0;bottom: 0;left: 50%;z-index: 0;}#sk-container-id-4 div.sk-serial {display: flex;flex-direction: column;align-items: center;background-color: white;padding-right: 0.2em;padding-left: 0.2em;position: relative;}#sk-container-id-4 div.sk-item {position: relative;z-index: 1;}#sk-container-id-4 div.sk-parallel {display: flex;align-items: stretch;justify-content: center;background-color: white;position: relative;}#sk-container-id-4 div.sk-item::before, #sk-container-id-4 div.sk-parallel-item::before {content: \"\";position: absolute;border-left: 1px solid gray;box-sizing: border-box;top: 0;bottom: 0;left: 50%;z-index: -1;}#sk-container-id-4 div.sk-parallel-item {display: flex;flex-direction: column;z-index: 1;position: relative;background-color: white;}#sk-container-id-4 div.sk-parallel-item:first-child::after {align-self: flex-end;width: 50%;}#sk-container-id-4 div.sk-parallel-item:last-child::after {align-self: flex-start;width: 50%;}#sk-container-id-4 div.sk-parallel-item:only-child::after {width: 0;}#sk-container-id-4 div.sk-dashed-wrapped {border: 1px dashed gray;margin: 0 0.4em 0.5em 0.4em;box-sizing: border-box;padding-bottom: 0.4em;background-color: white;}#sk-container-id-4 div.sk-label label {font-family: monospace;font-weight: bold;display: inline-block;line-height: 1.2em;}#sk-container-id-4 div.sk-label-container {text-align: center;}#sk-container-id-4 div.sk-container {/* jupyter's `normalize.less` sets `[hidden] { display: none; }` but bootstrap.min.css set `[hidden] { display: none !important; }` so we also need the `!important` here to be able to override the default hidden behavior on the sphinx rendered scikit-learn.org. See: https://github.com/scikit-learn/scikit-learn/issues/21755 */display: inline-block !important;position: relative;}#sk-container-id-4 div.sk-text-repr-fallback {display: none;}</style><div id=\"sk-container-id-4\" class=\"sk-top-container\"><div class=\"sk-text-repr-fallback\"><pre>DecisionTreeClassifier(max_depth=6)</pre><b>In a Jupyter environment, please rerun this cell to show the HTML representation or trust the notebook. <br />On GitHub, the HTML representation is unable to render, please try loading this page with nbviewer.org.</b></div><div class=\"sk-container\" hidden><div class=\"sk-item\"><div class=\"sk-estimator sk-toggleable\"><input class=\"sk-toggleable__control sk-hidden--visually\" id=\"sk-estimator-id-4\" type=\"checkbox\" checked><label for=\"sk-estimator-id-4\" class=\"sk-toggleable__label sk-toggleable__label-arrow\">DecisionTreeClassifier</label><div class=\"sk-toggleable__content\"><pre>DecisionTreeClassifier(max_depth=6)</pre></div></div></div></div></div>"
      ],
      "text/plain": [
       "DecisionTreeClassifier(max_depth=6)"
      ]
     },
     "execution_count": 33,
     "metadata": {},
     "output_type": "execute_result"
    }
   ],
   "source": [
    "model.fit(X_train_scaled, y_train)"
   ]
  },
  {
   "cell_type": "code",
   "execution_count": 34,
   "id": "4b81238a-ed73-41bd-aabc-42e9ee87d285",
   "metadata": {
    "tags": []
   },
   "outputs": [],
   "source": [
    "prediction = model.predict(X_test_scaled)"
   ]
  },
  {
   "cell_type": "code",
   "execution_count": 35,
   "id": "4446c961-7b1d-47a6-a562-79114cb743f1",
   "metadata": {
    "tags": []
   },
   "outputs": [
    {
     "data": {
      "text/plain": [
       "1.0"
      ]
     },
     "execution_count": 35,
     "metadata": {},
     "output_type": "execute_result"
    }
   ],
   "source": [
    "model.score(X_train_scaled, y_train)"
   ]
  },
  {
   "cell_type": "code",
   "execution_count": 36,
   "id": "cb47dd85-8bf0-4736-b73e-06bbf6da2c4f",
   "metadata": {
    "tags": []
   },
   "outputs": [
    {
     "data": {
      "text/plain": [
       "0.9122807017543859"
      ]
     },
     "execution_count": 36,
     "metadata": {},
     "output_type": "execute_result"
    }
   ],
   "source": [
    "model.score(X_test_scaled, y_test) "
   ]
  },
  {
   "cell_type": "code",
   "execution_count": null,
   "id": "be4a7a8a-4ba9-4cef-a4fe-f2f61c0b67ab",
   "metadata": {},
   "outputs": [],
   "source": []
  },
  {
   "cell_type": "code",
   "execution_count": null,
   "id": "a41bc894-b2f2-4cfc-9845-e29e28d09fba",
   "metadata": {},
   "outputs": [],
   "source": [
    "# 스케일변환 전 train_data 정확도: 1.0\n",
    "# 스케일변환 전 test_data 정확도: 0.8859649122807017\n",
    "# 스케일변환 후 train_data 정확도: 1.0\n",
    "# 스케일변환 후 test_data 정확도: 0.9122807017543859"
   ]
  },
  {
   "cell_type": "code",
   "execution_count": null,
   "id": "7c18896f-0ab8-434d-a2ee-98bb35ea51a7",
   "metadata": {},
   "outputs": [],
   "source": [
    "# 트리구조 특성상.. 스케일 변환 효과가 많이 안날 수 있음! 그래도 웬만해서는 스케일 변환 해주는게 좋음!!"
   ]
  }
 ],
 "metadata": {
  "kernelspec": {
   "display_name": "Python 3 (ipykernel)",
   "language": "python",
   "name": "python3"
  },
  "language_info": {
   "codemirror_mode": {
    "name": "ipython",
    "version": 3
   },
   "file_extension": ".py",
   "mimetype": "text/x-python",
   "name": "python",
   "nbconvert_exporter": "python",
   "pygments_lexer": "ipython3",
   "version": "3.9.13"
  }
 },
 "nbformat": 4,
 "nbformat_minor": 5
}
