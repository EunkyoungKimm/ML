{
 "cells": [
  {
   "cell_type": "markdown",
   "id": "af77da5e-76af-4b92-84b3-36285ac5ab42",
   "metadata": {},
   "source": [
    "- AmazonGo 영상 봄 >> 아마존은 이걸 왜 만들었을까? >> 아마존은 아마존고(편의점)을 통해서 Data ppt에 있는 데이터들을 얻을 수 있음!! 이런 데이터를 수집해서 웹상에서 얻었던 데이터 이외의 데이터를 얻어 오프라인상 뿐만 아니라 웹의 서비스도 더 발전시킬 수 있을거임."
   ]
  },
  {
   "cell_type": "markdown",
   "id": "375b04c8-be71-4af9-ade3-59c5e5ae1d3f",
   "metadata": {},
   "source": [
    "- ChatGPT도 언어를 기반으로 만들어진 모델(많은 데이터가 필요)\n",
    "- 일론머스크가 왜 트위터를 인수 했을까? 트위터에 있는 데이터들을 63조를 주고 구매한 것 아닐까?(수많은 텍스트 데이터가 있을거임!)\n",
    "- 데이터를 잘 활용한 기업 --> Good(플랫폼이 정말 중요한 시대, 데이터가 정말 중요한 시대로 가고 있음)\n",
    "- 광고 / 유튜브 추천 알고리즘\n",
    "- 콘텐츠의 선택권 : 과거에는 신문, tv에서 보여주는 것만.  지금은 사용자! 우리가 보고싶어하는.. 이걸 기반으로 추천해줘야 함!"
   ]
  },
  {
   "cell_type": "markdown",
   "id": "f9cad51f-e79a-4fb8-867b-1c528f1562fd",
   "metadata": {},
   "source": [
    "- 데이터를 기반으로 의사결정 하는 기업, 이를 중요시 여기는 기업이 성장할거임!!"
   ]
  },
  {
   "cell_type": "code",
   "execution_count": null,
   "id": "299fe02c-cc3e-4397-9225-8e78dacbe2ec",
   "metadata": {},
   "outputs": [],
   "source": []
  },
  {
   "cell_type": "markdown",
   "id": "3ad9e848-59f9-4148-a2c3-68c5605ee5f8",
   "metadata": {},
   "source": [
    "- 인공지능은 '컴퓨터가 생각할 수 있을까?'라는 질문에서 시작됨.\n",
    "- 앤드류 응(Andrew Ng)\n",
    "- 인공지능 > 머신러닝 > 딥러닝 (등장도 차례대로 함)"
   ]
  },
  {
   "cell_type": "markdown",
   "id": "34e6d5d2-1efd-498b-a29c-caf8b20a7d09",
   "metadata": {},
   "source": [
    "머신러닝\n",
    "- 인공지능으로 하다가 인공지능으로 안되는 문제들 나옴\n",
    "- 복잡한 문제를 해결하기 위해 머신러닝 등장!\n",
    "- 컴퓨터가 학습 / 데이터를 기반으로 학습 / 인공지능의 하위집합 >> 데이터를 기반으로 학습해서 인공지능을 만들어내는게 머신러닝!\n",
    "- 프로그래밍과 머신러닝의 다른점: 머신러닝은 `규칙`을 찾아낸다! 데이터와 해답을 넣는다!\n",
    "- 들어가는 재료를 알면 계속 반복하고 시행착오 겪다보면 찾는 맛이 나올거임!(맛보고 수정하고.. 이걸계속 반복!)(결과를 보고 오차를 측정하고 수정해서 오차를 줄여나가는 방향으로 계속 반복 >> 그럼 결국 '레시피'찾을거임!)\n"
   ]
  },
  {
   "cell_type": "markdown",
   "id": "ef78b6d6-61b2-415c-80e0-64ef20206043",
   "metadata": {},
   "source": [
    "머신러닝 종류\n",
    "- 지도학습 / 비지도학습 / 강화학습 > 머신러닝에 지도학습, 비지도학습이 있는 것!\n",
    "- 지도학습 - 정답을 알려주는 것 > `라벨링한다`\n",
    "- 비지도 학습 중 군집(clustering) > 알고리즘에 따라서 스스로 분류함 >> 얘네 자체는 기린, 고양이 모름. 그냥 다른걸 구분해준거임."
   ]
  },
  {
   "cell_type": "markdown",
   "id": "e076f082-5049-4382-a5a4-82df537d0335",
   "metadata": {},
   "source": [
    "지도학습\n",
    "- 회귀, 분류 문제로 나뉨(잘 동작하는 알고리즘이 있음! ex. Lasso, Linear Regression)\n",
    "- regression은 데이터와 데이터에 선을 그어서 미래를 예측, 분류는 선을 그어서 나눈다\n",
    "- 영화리뷰(지도학습, 분류) / 사람나이 예측(지도학습, 회귀)\n",
    "- 이진분류(2개로 나누어 분류), 다중분류 / 사람나이(수치적으로 예측, 스칼라 회귀)"
   ]
  },
  {
   "cell_type": "markdown",
   "id": "614dfc35-1dbc-4f8a-a246-10ff65ca855e",
   "metadata": {},
   "source": [
    "강화학습\n",
    "- 현재 상태에 할 수 있는 행동 4가지 > 현재 상태에 맞게 판단의 기준, reward를 줌"
   ]
  },
  {
   "cell_type": "markdown",
   "id": "9536e199-9329-4ed5-87bb-1cf117d15c49",
   "metadata": {
    "jp-MarkdownHeadingCollapsed": true,
    "tags": []
   },
   "source": [
    "## Supervised Learning(지도학습)\n",
    "회귀\n",
    "- 이런 수식(Y = X + 100)을 가지고 regression을 한거임\n",
    "- target variable(Y) / input variable(X)\n",
    "- 최적의 선을 찾아야 함! >> 어떻게? 오차를 줄여나가자!\n",
    "- 어떨때 오차 측정 방법.. 뭘 쓰는게 좋을까? MSE와 MAE 차이.. MSE가 더 큰 오차를 더 민감하게 받아들임!(더 민감하게 반응, sensitive하게 반응한다) 이런걸 생각하면 접근하고 활용하는게 중요!(식.. 일단 그냥 오차함수는 '2차함수'다. 여기까지 기억하기!)\n",
    "\n",
    "Gradient Descent\n",
    "- 오차가 최소인 곳 > 기울기가 0인 꼭지점!!\n",
    "- 오차가 적어지는 방향으로 간다고 했는데 그 방향을 '기울기가 작아지는 방향'이라과 생각하면 됨! >> `기울기가 작아지는 방향으로 오차를 줄여나가는게 gradient descent!`\n",
    "- `learning rate` : 기울기를 갈건데 그 다음 step으로 얼마나 갈거냐(step, 보폭이라고 생각하면 됨! 오차를 줄여나가는 보폭!) >> lr이 클수록(step이 크니까) 더 빠르게 내려갈 수 있지만, 우리가 원하는 minimum한 값을 못 찾을수도 있고 튀어버릴수도 있다(발산? 이라 하나? 용어 물어보기!) / 너무 작으면 너무 오래걸림 >> `0.01`로 많이 함!!!!\n",
    "- Y = aX + b (a=기울기, b=y절편, X=input variable, Y=target variable)\n",
    "- iterations = 몇번이나 돌릴거냐.. \n",
    "- cost_list : x축이 iterations / y축이 오차\n",
    "- 오차함수(코드 한두줄이 다해줌.!!! 라이브러리.. 잘 써라!)"
   ]
  }
 ],
 "metadata": {
  "kernelspec": {
   "display_name": "Python 3 (ipykernel)",
   "language": "python",
   "name": "python3"
  },
  "language_info": {
   "codemirror_mode": {
    "name": "ipython",
    "version": 3
   },
   "file_extension": ".py",
   "mimetype": "text/x-python",
   "name": "python",
   "nbconvert_exporter": "python",
   "pygments_lexer": "ipython3",
   "version": "3.9.13"
  }
 },
 "nbformat": 4,
 "nbformat_minor": 5
}
